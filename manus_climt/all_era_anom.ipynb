{
 "cells": [
  {
   "cell_type": "code",
   "execution_count": 1,
   "metadata": {},
   "outputs": [],
   "source": [
    "import pandas as pd \n",
    "import xarray as xr \n",
    "\n"
   ]
  },
  {
   "cell_type": "code",
   "execution_count": 2,
   "metadata": {},
   "outputs": [
    {
     "name": "stdout",
     "output_type": "stream",
     "text": [
      "Climt1-60968.err  Climt1-61027.err  Climt1-61040.err  Climt1-61061.err\n",
      "Climt1-60968.out  Climt1-61027.out  Climt1-61040.out  Climt1-61061.out\n",
      "Climt1-60969.err  Climt1-61028.err  Climt1-61041.err  Climt1-61062.err\n",
      "Climt1-60969.out  Climt1-61028.out  Climt1-61041.out  Climt1-61062.out\n",
      "Climt1-60970.err  Climt1-61029.err  Climt1-61042.err  Climt1-61063.err\n",
      "Climt1-60970.out  Climt1-61029.out  Climt1-61042.out  Climt1-61063.out\n",
      "Climt1-60971.err  Climt1-61030.err  Climt1-61043.err  Climt1-61064.err\n",
      "Climt1-60971.out  Climt1-61030.out  Climt1-61043.out  Climt1-61064.out\n",
      "Climt1-60972.err  Climt1-61031.err  Climt1-61044.err  Climt1-61065.err\n",
      "Climt1-60972.out  Climt1-61031.out  Climt1-61044.out  Climt1-61065.out\n",
      "Climt1-60973.err  Climt1-61032.err  Climt1-61045.err  Climt1-61066.err\n",
      "Climt1-60973.out  Climt1-61032.out  Climt1-61045.out  Climt1-61066.out\n",
      "Climt1-60974.err  Climt1-61033.err  Climt1-61046.err  Climt1-61067.err\n",
      "Climt1-60974.out  Climt1-61033.out  Climt1-61046.out  Climt1-61067.out\n",
      "Climt1-60975.err  Climt1-61034.err  Climt1-61047.err  \u001b[0m\u001b[01;34mDatasets\u001b[0m/\n",
      "Climt1-60975.out  Climt1-61034.out  Climt1-61047.out  \u001b[01;34mmain\u001b[0m/\n",
      "Climt1-60976.err  Climt1-61035.err  Climt1-61058.err  \u001b[01;34mMTH\u001b[0m/\n",
      "Climt1-60976.out  Climt1-61035.out  Climt1-61058.out  \u001b[01;34mnotebooks\u001b[0m/\n",
      "Climt1-60977.err  Climt1-61038.err  Climt1-61059.err  \u001b[01;34mwrf\u001b[0m/\n",
      "Climt1-60977.out  Climt1-61038.out  Climt1-61059.out\n",
      "Climt1-61026.err  Climt1-61039.err  Climt1-61060.err\n",
      "Climt1-61026.out  Climt1-61039.out  Climt1-61060.out\n"
     ]
    }
   ],
   "source": [
    "ls"
   ]
  }
 ],
 "metadata": {
  "kernelspec": {
   "display_name": "Python 3 (ipykernel)",
   "language": "python",
   "name": "python3"
  },
  "language_info": {
   "codemirror_mode": {
    "name": "ipython",
    "version": 3
   },
   "file_extension": ".py",
   "mimetype": "text/x-python",
   "name": "python",
   "nbconvert_exporter": "python",
   "pygments_lexer": "ipython3",
   "version": "3.13.1"
  }
 },
 "nbformat": 4,
 "nbformat_minor": 2
}
