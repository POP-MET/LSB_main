{
 "cells": [
  {
   "cell_type": "markdown",
   "id": "898bad4a",
   "metadata": {},
   "source": [
    "# Sunrise \n",
    "#LSR +01h to LSR +7.30h\n",
    "\n",
    "- This is for getting the complete diurnal cycle. \n",
    "- Sea breeze occured within sunrise and sunset."
   ]
  },
  {
   "cell_type": "code",
   "execution_count": 1,
   "id": "eaef36b3",
   "metadata": {},
   "outputs": [],
   "source": [
    "import pandas as pd \n"
   ]
  },
  {
   "cell_type": "code",
   "execution_count": 21,
   "id": "67770e47",
   "metadata": {},
   "outputs": [
    {
     "name": "stdout",
     "output_type": "stream",
     "text": [
      "Average UTC sunset and sunrise times are 8.0 and 20.0\n"
     ]
    }
   ],
   "source": [
    "sunrise_sunset_data = pd.read_csv('sunrise_sunset_twp.csv')\n",
    "sunrise_sunset_data['sunrise(UTC)'] = pd.to_datetime(sunrise_sunset_data['sunrise(UTC)'])\n",
    "sunrise_sunset_data['sunset(UTC)'] = pd.to_datetime(sunrise_sunset_data['sunset(UTC)'])\n",
    "\n",
    "mean_sunrise = (sunrise_sunset_data['sunrise(UTC)'].dt.hour + sunrise_sunset_data['sunrise(UTC)'].dt.minute/60).mean().round()\n",
    "mean_sunset = (sunrise_sunset_data['sunset(UTC)'].dt.hour + sunrise_sunset_data['sunset(UTC)'].dt.minute/60).mean().round()\n",
    "\n",
    "lsr = mean_sunrise\n",
    "lss = mean_sunset\n",
    "\n",
    "print(f'Average UTC sunset and sunrise times are {lss} and {lsr}')"
   ]
  }
 ],
 "metadata": {
  "kernelspec": {
   "display_name": "nma",
   "language": "python",
   "name": "python3"
  },
  "language_info": {
   "codemirror_mode": {
    "name": "ipython",
    "version": 3
   },
   "file_extension": ".py",
   "mimetype": "text/x-python",
   "name": "python",
   "nbconvert_exporter": "python",
   "pygments_lexer": "ipython3",
   "version": "3.12.0"
  }
 },
 "nbformat": 4,
 "nbformat_minor": 5
}
