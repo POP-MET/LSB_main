{
 "cells": [
  {
   "cell_type": "code",
   "execution_count": 3,
   "metadata": {},
   "outputs": [
    {
     "name": "stderr",
     "output_type": "stream",
     "text": [
      "2024-12-23 15:44:34,735 INFO [2024-09-28T00:00:00] **Welcome to the New Climate Data Store (CDS)!** This new system is in its early days of full operations and still undergoing enhancements and fine tuning. Some disruptions are to be expected. Your \n",
      "[feedback](https://jira.ecmwf.int/plugins/servlet/desk/portal/1/create/202) is key to improve the user experience on the new CDS for the benefit of everyone. Thank you.\n",
      "2024-12-23 15:44:34,736 INFO [2024-09-26T00:00:00] Watch our [Forum](https://forum.ecmwf.int/) for Announcements, news and other discussed topics.\n",
      "2024-12-23 15:44:34,736 INFO [2024-09-16T00:00:00] Remember that you need to have an ECMWF account to use the new CDS. **Your old CDS credentials will not work in new CDS!**\n",
      "2024-12-23 15:44:34,737 WARNING [2024-06-16T00:00:00] CDS API syntax is changed and some keys or parameter names may have also changed. To avoid requests failing, please use the \"Show API request code\" tool on the dataset Download Form to check you are using the correct syntax for your API request.\n"
     ]
    }
   ],
   "source": [
    "import cdsapi\n",
    "\n",
    "\n",
    "months = [\n",
    "    \"01\", \"02\", \"03\",\n",
    "    \"04\", \"05\", \"06\",\n",
    "    \"07\", \"08\", \"09\",\n",
    "    \"10\", \"11\", \"12\"\n",
    "]\n",
    "\n",
    "years = ['2001', '2002', '2003', '2004', '2005', '2006', '2007', '2008', '2009', '2010',\n",
    "            '2011', '2012', '2013']\n",
    "\n",
    "dataset = \"reanalysis-era5-pressure-levels\"\n",
    "request = {\n",
    "    \"product_type\": [\"reanalysis\"],\n",
    "    \"variable\": [\n",
    "        \"geopotential\",\n",
    "        \"specific_humidity\",\n",
    "        \"temperature\",\n",
    "        \"u_component_of_wind\",\n",
    "        \"v_component_of_wind\",\n",
    "        \"vertical_velocity\"\n",
    "    ],\n",
    "    \"year\": [\"2000\"],\n",
    "    \"month\": [\"01\"],\n",
    "    \"day\": [\n",
    "        \"01\", \"02\", \"03\",\n",
    "        \"04\", \"05\", \"06\",\n",
    "        \"07\", \"08\", \"09\",\n",
    "        \"10\", \"11\", \"12\",\n",
    "        \"13\", \"14\", \"15\",\n",
    "        \"16\", \"17\", \"18\",\n",
    "        \"19\", \"20\", \"21\",\n",
    "        \"22\", \"23\", \"24\",\n",
    "        \"25\", \"26\", \"27\",\n",
    "        \"28\", \"29\", \"30\",\n",
    "        \"31\"\n",
    "    ],\n",
    "    \"time\": [\n",
    "        \"00:00\", \"01:00\", \"02:00\",\n",
    "        \"03:00\", \"04:00\", \"05:00\",\n",
    "        \"06:00\", \"07:00\", \"08:00\",\n",
    "        \"09:00\", \"10:00\", \"11:00\",\n",
    "        \"12:00\", \"13:00\", \"14:00\",\n",
    "        \"15:00\", \"16:00\", \"17:00\",\n",
    "        \"18:00\", \"19:00\", \"20:00\",\n",
    "        \"21:00\", \"22:00\", \"23:00\"\n",
    "    ],\n",
    "    \"pressure_level\": [\n",
    "        \"300\", \"400\", \"500\",\n",
    "        \"600\", \"700\", \"800\",\n",
    "        \"900\", \"1000\"\n",
    "    ],\n",
    "    \"data_format\": \"netcdf\",\n",
    "    \"download_format\": \"unarchived\",\n",
    "    \"area\": [5, -141, -5, 151]\n",
    "}\n",
    "\n",
    "client = cdsapi.Client()\n"
   ]
  },
  {
   "cell_type": "code",
   "execution_count": null,
   "metadata": {},
   "outputs": [
    {
     "name": "stderr",
     "output_type": "stream",
     "text": [
      "2024-12-23 15:44:37,016 WARNING [2024-10-10T00:00:00] From 1 July to 17 November 2024, the final ERA5 product is different to ERA5T due to the correction of [the assimilation of incorrect snow observations on the Alps](https://confluence.ecmwf.int/x/USuXGw)\n",
      "2024-12-23 15:44:37,017 INFO Request ID is b4346a33-3687-4660-9880-4b9de235e474\n",
      "2024-12-23 15:44:37,189 INFO status has been updated to accepted\n",
      "2024-12-23 15:48:57,625 INFO status has been updated to running\n",
      "2024-12-23 16:21:05,491 INFO status has been updated to successful\n"
     ]
    },
    {
     "data": {
      "application/vnd.jupyter.widget-view+json": {
       "model_id": "7dcac0f1f00349d2a6f4faf26a02ddd3",
       "version_major": 2,
       "version_minor": 0
      },
      "text/plain": [
       "6cc01c69aec9011bcb607f981d1fb88a.nc:   0%|          | 0.00/3.01G [00:00<?, ?B/s]"
      ]
     },
     "metadata": {},
     "output_type": "display_data"
    },
    {
     "name": "stderr",
     "output_type": "stream",
     "text": [
      "2024-12-23 16:29:25,829 WARNING [2024-10-10T00:00:00] From 1 July to 17 November 2024, the final ERA5 product is different to ERA5T due to the correction of [the assimilation of incorrect snow observations on the Alps](https://confluence.ecmwf.int/x/USuXGw)\n",
      "2024-12-23 16:29:25,829 INFO Request ID is e767cfee-fb3d-485a-abb3-16c8ef76385d\n",
      "2024-12-23 16:29:25,982 INFO status has been updated to accepted\n",
      "2024-12-23 16:29:34,459 INFO status has been updated to running\n",
      "2024-12-23 17:00:07,173 INFO status has been updated to successful\n"
     ]
    },
    {
     "data": {
      "application/vnd.jupyter.widget-view+json": {
       "model_id": "5a5fa3afea2b4875977d49994b2e6c60",
       "version_major": 2,
       "version_minor": 0
      },
      "text/plain": [
       "ac2743259c5c33627eac7bce2d328e34.nc:   0%|          | 0.00/2.72G [00:00<?, ?B/s]"
      ]
     },
     "metadata": {},
     "output_type": "display_data"
    },
    {
     "name": "stderr",
     "output_type": "stream",
     "text": [
      "2024-12-23 17:05:13,532 WARNING [2024-10-10T00:00:00] From 1 July to 17 November 2024, the final ERA5 product is different to ERA5T due to the correction of [the assimilation of incorrect snow observations on the Alps](https://confluence.ecmwf.int/x/USuXGw)\n",
      "2024-12-23 17:05:13,533 INFO Request ID is 203efdd7-023f-40c7-84ac-090b926872ee\n",
      "2024-12-23 17:05:13,683 INFO status has been updated to accepted\n",
      "2024-12-23 17:05:21,815 INFO status has been updated to running\n",
      "2024-12-23 17:41:42,476 INFO status has been updated to successful\n"
     ]
    },
    {
     "data": {
      "application/vnd.jupyter.widget-view+json": {
       "model_id": "52e899bbcc644793be364f9d4c2ff3f4",
       "version_major": 2,
       "version_minor": 0
      },
      "text/plain": [
       "aacd85ef9758f98eed057475a29f87b0.nc:   0%|          | 0.00/3.01G [00:00<?, ?B/s]"
      ]
     },
     "metadata": {},
     "output_type": "display_data"
    },
    {
     "name": "stderr",
     "output_type": "stream",
     "text": [
      "2024-12-23 17:46:29,703 WARNING [2024-10-10T00:00:00] From 1 July to 17 November 2024, the final ERA5 product is different to ERA5T due to the correction of [the assimilation of incorrect snow observations on the Alps](https://confluence.ecmwf.int/x/USuXGw)\n",
      "2024-12-23 17:46:29,704 INFO Request ID is 783c9083-3e7c-48bd-bceb-ce7eb963f265\n",
      "2024-12-23 17:46:29,856 INFO status has been updated to accepted\n",
      "2024-12-23 17:46:37,439 INFO status has been updated to running\n",
      "2024-12-23 18:10:59,569 INFO status has been updated to successful\n"
     ]
    },
    {
     "data": {
      "application/vnd.jupyter.widget-view+json": {
       "model_id": "5908200ab6fa4d6dad8ae77a1010c404",
       "version_major": 2,
       "version_minor": 0
      },
      "text/plain": [
       "a50eb7660c3f291565a0c4cb4e3a73b6.nc:   0%|          | 0.00/2.91G [00:00<?, ?B/s]"
      ]
     },
     "metadata": {},
     "output_type": "display_data"
    },
    {
     "name": "stderr",
     "output_type": "stream",
     "text": [
      "2024-12-23 18:21:05,822 WARNING [2024-10-10T00:00:00] From 1 July to 17 November 2024, the final ERA5 product is different to ERA5T due to the correction of [the assimilation of incorrect snow observations on the Alps](https://confluence.ecmwf.int/x/USuXGw)\n",
      "2024-12-23 18:21:05,823 INFO Request ID is 896de16f-fa8b-4b10-b1f4-fd5450780301\n",
      "2024-12-23 18:21:05,980 INFO status has been updated to accepted\n",
      "2024-12-23 18:21:18,904 INFO status has been updated to running\n",
      "2024-12-23 18:47:36,515 INFO status has been updated to successful\n"
     ]
    },
    {
     "data": {
      "application/vnd.jupyter.widget-view+json": {
       "model_id": "e854a75fbe1c46459e5b8136ddbcfe8c",
       "version_major": 2,
       "version_minor": 0
      },
      "text/plain": [
       "b887246bd2fe3be782f45eb1d4ec8749.nc:   0%|          | 0.00/2.99G [00:00<?, ?B/s]"
      ]
     },
     "metadata": {},
     "output_type": "display_data"
    },
    {
     "name": "stderr",
     "output_type": "stream",
     "text": [
      "2024-12-23 18:57:21,421 WARNING [2024-10-10T00:00:00] From 1 July to 17 November 2024, the final ERA5 product is different to ERA5T due to the correction of [the assimilation of incorrect snow observations on the Alps](https://confluence.ecmwf.int/x/USuXGw)\n",
      "2024-12-23 18:57:21,422 INFO Request ID is 21b495ce-5037-4077-8e37-99d95cc4ee92\n",
      "2024-12-23 18:57:21,570 INFO status has been updated to accepted\n",
      "2024-12-23 18:57:29,179 INFO status has been updated to running\n",
      "2024-12-23 19:24:06,728 INFO status has been updated to successful\n"
     ]
    },
    {
     "data": {
      "application/vnd.jupyter.widget-view+json": {
       "model_id": "9e5739c988a44fa0b34a6f56250b18f2",
       "version_major": 2,
       "version_minor": 0
      },
      "text/plain": [
       "f0a21f050fe3c2e9f17edeeb73471e88.nc:   0%|          | 0.00/2.86G [00:00<?, ?B/s]"
      ]
     },
     "metadata": {},
     "output_type": "display_data"
    },
    {
     "name": "stderr",
     "output_type": "stream",
     "text": [
      "2024-12-23 19:45:10,427 WARNING [2024-10-10T00:00:00] From 1 July to 17 November 2024, the final ERA5 product is different to ERA5T due to the correction of [the assimilation of incorrect snow observations on the Alps](https://confluence.ecmwf.int/x/USuXGw)\n",
      "2024-12-23 19:45:10,428 INFO Request ID is 9fcd11d7-6ffd-4a09-9d09-2fbff73c71eb\n",
      "2024-12-23 19:45:10,608 INFO status has been updated to accepted\n",
      "2024-12-23 19:45:18,314 INFO status has been updated to running\n",
      "Recovering from connection error [('Connection aborted.', RemoteDisconnected('Remote end closed connection without response'))], attemps 1 of 500\n",
      "Retrying in 120 seconds\n",
      "2024-12-23 20:24:43,530 INFO status has been updated to successful\n"
     ]
    },
    {
     "data": {
      "application/vnd.jupyter.widget-view+json": {
       "model_id": "3aaeb61a50f345bdb04a1ddf3dab9901",
       "version_major": 2,
       "version_minor": 0
      },
      "text/plain": [
       "92189bba1b5797ba16b4f19c3fd4b11e.nc:   0%|          | 0.00/2.95G [00:00<?, ?B/s]"
      ]
     },
     "metadata": {},
     "output_type": "display_data"
    },
    {
     "name": "stderr",
     "output_type": "stream",
     "text": [
      "2024-12-23 20:47:01,790 WARNING [2024-10-10T00:00:00] From 1 July to 17 November 2024, the final ERA5 product is different to ERA5T due to the correction of [the assimilation of incorrect snow observations on the Alps](https://confluence.ecmwf.int/x/USuXGw)\n",
      "2024-12-23 20:47:01,791 INFO Request ID is 30feeb51-88f1-4f89-8ab3-271568b84a07\n",
      "2024-12-23 20:47:01,998 INFO status has been updated to accepted\n",
      "2024-12-23 20:47:09,693 INFO status has been updated to running\n",
      "2024-12-23 21:11:36,502 INFO status has been updated to successful\n"
     ]
    },
    {
     "data": {
      "application/vnd.jupyter.widget-view+json": {
       "model_id": "f5e4bc7341774975a84b3a287acec29c",
       "version_major": 2,
       "version_minor": 0
      },
      "text/plain": [
       "7e9f816433cfe7855437447317613559.nc:   0%|          | 0.00/2.94G [00:00<?, ?B/s]"
      ]
     },
     "metadata": {},
     "output_type": "display_data"
    },
    {
     "name": "stderr",
     "output_type": "stream",
     "text": [
      "2024-12-23 21:19:48,403 WARNING [2024-10-10T00:00:00] From 1 July to 17 November 2024, the final ERA5 product is different to ERA5T due to the correction of [the assimilation of incorrect snow observations on the Alps](https://confluence.ecmwf.int/x/USuXGw)\n",
      "2024-12-23 21:19:48,404 INFO Request ID is 0b636aae-a7f5-4d69-a07f-80fec6003542\n",
      "2024-12-23 21:19:48,573 INFO status has been updated to accepted\n",
      "2024-12-23 21:20:01,441 INFO status has been updated to running\n",
      "2024-12-23 22:04:39,007 INFO status has been updated to successful\n"
     ]
    },
    {
     "data": {
      "application/vnd.jupyter.widget-view+json": {
       "model_id": "2a2ccf034f644129b020df27b5a586ca",
       "version_major": 2,
       "version_minor": 0
      },
      "text/plain": [
       "7aa0ef17f12fe7ffad10a8df33bc87c7.nc:   0%|          | 0.00/2.85G [00:00<?, ?B/s]"
      ]
     },
     "metadata": {},
     "output_type": "display_data"
    },
    {
     "name": "stderr",
     "output_type": "stream",
     "text": [
      "2024-12-23 22:08:33,416 WARNING [2024-10-10T00:00:00] From 1 July to 17 November 2024, the final ERA5 product is different to ERA5T due to the correction of [the assimilation of incorrect snow observations on the Alps](https://confluence.ecmwf.int/x/USuXGw)\n",
      "2024-12-23 22:08:33,417 INFO Request ID is fb87d0b8-a22e-462a-9287-97c111e62615\n",
      "2024-12-23 22:08:34,199 INFO status has been updated to accepted\n",
      "2024-12-23 22:08:42,509 INFO status has been updated to running\n",
      "2024-12-23 23:11:51,160 INFO status has been updated to successful\n"
     ]
    },
    {
     "data": {
      "application/vnd.jupyter.widget-view+json": {
       "model_id": "faa2bb00f4764f9891b035ac945a7d9a",
       "version_major": 2,
       "version_minor": 0
      },
      "text/plain": [
       "d91c1e3159ebf2eb8153b4239af5dc16.nc:   0%|          | 0.00/2.96G [00:00<?, ?B/s]"
      ]
     },
     "metadata": {},
     "output_type": "display_data"
    },
    {
     "name": "stderr",
     "output_type": "stream",
     "text": [
      "2024-12-23 23:20:44,381 WARNING [2024-10-10T00:00:00] From 1 July to 17 November 2024, the final ERA5 product is different to ERA5T due to the correction of [the assimilation of incorrect snow observations on the Alps](https://confluence.ecmwf.int/x/USuXGw)\n",
      "2024-12-23 23:20:44,382 INFO Request ID is 25ac82ab-0548-4aed-bf69-f63749e60bb1\n",
      "2024-12-23 23:20:44,539 INFO status has been updated to accepted\n",
      "2024-12-23 23:20:52,477 INFO status has been updated to running\n",
      "2024-12-23 23:53:19,247 INFO status has been updated to successful\n"
     ]
    },
    {
     "data": {
      "application/vnd.jupyter.widget-view+json": {
       "model_id": "5e172d28987f490da904dadfe3ded6bc",
       "version_major": 2,
       "version_minor": 0
      },
      "text/plain": [
       "3a0ae774ae91a13754246bcca58ff9bc.nc:   0%|          | 0.00/2.88G [00:00<?, ?B/s]"
      ]
     },
     "metadata": {},
     "output_type": "display_data"
    },
    {
     "name": "stderr",
     "output_type": "stream",
     "text": [
      "2024-12-23 23:56:18,188 WARNING [2024-10-10T00:00:00] From 1 July to 17 November 2024, the final ERA5 product is different to ERA5T due to the correction of [the assimilation of incorrect snow observations on the Alps](https://confluence.ecmwf.int/x/USuXGw)\n",
      "2024-12-23 23:56:18,189 INFO Request ID is d0e23dc3-33d9-4eb2-a03e-b3d540ece952\n",
      "2024-12-23 23:56:18,337 INFO status has been updated to accepted\n",
      "2024-12-23 23:56:26,548 INFO status has been updated to running\n",
      "2024-12-24 00:30:46,701 INFO status has been updated to successful\n"
     ]
    },
    {
     "data": {
      "application/vnd.jupyter.widget-view+json": {
       "model_id": "e33a5ddc3dc340c59f32f1faf8d081c1",
       "version_major": 2,
       "version_minor": 0
      },
      "text/plain": [
       "8b84c113f0d2639dfa540e9f4d1870f4.nc:   0%|          | 0.00/2.99G [00:00<?, ?B/s]"
      ]
     },
     "metadata": {},
     "output_type": "display_data"
    },
    {
     "name": "stderr",
     "output_type": "stream",
     "text": [
      "2024-12-24 00:41:02,503 WARNING [2024-10-10T00:00:00] From 1 July to 17 November 2024, the final ERA5 product is different to ERA5T due to the correction of [the assimilation of incorrect snow observations on the Alps](https://confluence.ecmwf.int/x/USuXGw)\n",
      "2024-12-24 00:41:02,504 INFO Request ID is eaa0a225-08c0-4d7b-8cf5-33dad61c54d5\n",
      "2024-12-24 00:41:02,689 INFO status has been updated to accepted\n",
      "2024-12-24 00:41:24,045 INFO status has been updated to running\n",
      "2024-12-24 01:21:38,332 INFO status has been updated to successful\n"
     ]
    },
    {
     "data": {
      "application/vnd.jupyter.widget-view+json": {
       "model_id": "6d3010bc09004a5ab0129c2c055de9c2",
       "version_major": 2,
       "version_minor": 0
      },
      "text/plain": [
       "fc922847b7740207502d0fd4b391495b.nc:   0%|          | 0.00/3.01G [00:00<?, ?B/s]"
      ]
     },
     "metadata": {},
     "output_type": "display_data"
    },
    {
     "name": "stderr",
     "output_type": "stream",
     "text": [
      "2024-12-24 01:32:49,554 WARNING [2024-10-10T00:00:00] From 1 July to 17 November 2024, the final ERA5 product is different to ERA5T due to the correction of [the assimilation of incorrect snow observations on the Alps](https://confluence.ecmwf.int/x/USuXGw)\n",
      "2024-12-24 01:32:49,554 INFO Request ID is e21cd46f-a983-449a-9e16-71f79da064cd\n",
      "2024-12-24 01:32:49,851 INFO status has been updated to accepted\n",
      "2024-12-24 02:53:37,966 INFO status has been updated to running\n",
      "2024-12-24 03:15:44,056 INFO status has been updated to successful\n"
     ]
    },
    {
     "data": {
      "application/vnd.jupyter.widget-view+json": {
       "model_id": "5c36712ccf2e4a5bb6b6c60331f066a2",
       "version_major": 2,
       "version_minor": 0
      },
      "text/plain": [
       "955078c5e56eb74f7d43cdacabbb552f.nc:   0%|          | 0.00/2.77G [00:00<?, ?B/s]"
      ]
     },
     "metadata": {},
     "output_type": "display_data"
    },
    {
     "name": "stderr",
     "output_type": "stream",
     "text": [
      "2024-12-24 03:20:05,085 WARNING [2024-10-10T00:00:00] From 1 July to 17 November 2024, the final ERA5 product is different to ERA5T due to the correction of [the assimilation of incorrect snow observations on the Alps](https://confluence.ecmwf.int/x/USuXGw)\n",
      "2024-12-24 03:20:05,086 INFO Request ID is 6b089d44-7e7c-40aa-908c-efa393cbdfb6\n",
      "2024-12-24 03:20:05,331 INFO status has been updated to accepted\n",
      "2024-12-24 05:37:53,655 INFO status has been updated to running\n",
      "2024-12-24 06:10:18,161 INFO status has been updated to successful\n"
     ]
    },
    {
     "data": {
      "application/vnd.jupyter.widget-view+json": {
       "model_id": "4d0bf214370b409dad6eaf91618c049d",
       "version_major": 2,
       "version_minor": 0
      },
      "text/plain": [
       "2f23d84277e06486a50d1117f1d520a.nc:   0%|          | 0.00/3.03G [00:00<?, ?B/s]"
      ]
     },
     "metadata": {},
     "output_type": "display_data"
    },
    {
     "name": "stderr",
     "output_type": "stream",
     "text": [
      "2024-12-24 06:23:13,010 WARNING [2024-10-10T00:00:00] From 1 July to 17 November 2024, the final ERA5 product is different to ERA5T due to the correction of [the assimilation of incorrect snow observations on the Alps](https://confluence.ecmwf.int/x/USuXGw)\n",
      "2024-12-24 06:23:13,011 INFO Request ID is c9e9663f-e50a-4db3-998a-1e955c636fb0\n",
      "2024-12-24 06:23:13,166 INFO status has been updated to accepted\n",
      "2024-12-24 08:43:31,611 INFO status has been updated to running\n",
      "2024-12-24 09:11:41,715 INFO status has been updated to successful\n"
     ]
    },
    {
     "data": {
      "application/vnd.jupyter.widget-view+json": {
       "model_id": "5301f397a77b46ec8427e1b1b616a964",
       "version_major": 2,
       "version_minor": 0
      },
      "text/plain": [
       "458f2418e956078fa7e4e13f4ef329c5.nc:   0%|          | 0.00/2.91G [00:00<?, ?B/s]"
      ]
     },
     "metadata": {},
     "output_type": "display_data"
    },
    {
     "name": "stderr",
     "output_type": "stream",
     "text": [
      "2024-12-24 09:17:03,118 WARNING [2024-10-10T00:00:00] From 1 July to 17 November 2024, the final ERA5 product is different to ERA5T due to the correction of [the assimilation of incorrect snow observations on the Alps](https://confluence.ecmwf.int/x/USuXGw)\n",
      "2024-12-24 09:17:03,119 INFO Request ID is 2477cce1-196b-4ae8-9397-1a0ac7e7a49c\n",
      "2024-12-24 09:17:03,330 INFO status has been updated to accepted\n",
      "2024-12-24 12:10:41,211 INFO status has been updated to running\n",
      "2024-12-24 12:33:07,299 INFO status has been updated to successful\n"
     ]
    },
    {
     "data": {
      "application/vnd.jupyter.widget-view+json": {
       "model_id": "ea7eaad6b7be4543a46e5e5b1d61675a",
       "version_major": 2,
       "version_minor": 0
      },
      "text/plain": [
       "818262ceabc389a3d8c90829ab438b02.nc:   0%|          | 0.00/2.98G [00:00<?, ?B/s]"
      ]
     },
     "metadata": {},
     "output_type": "display_data"
    },
    {
     "name": "stderr",
     "output_type": "stream",
     "text": [
      "2024-12-24 12:44:44,698 WARNING [2024-10-10T00:00:00] From 1 July to 17 November 2024, the final ERA5 product is different to ERA5T due to the correction of [the assimilation of incorrect snow observations on the Alps](https://confluence.ecmwf.int/x/USuXGw)\n",
      "2024-12-24 12:44:44,699 INFO Request ID is 5cdce014-36f1-4d0f-9a2c-080758606941\n",
      "2024-12-24 12:44:44,854 INFO status has been updated to accepted\n",
      "2024-12-24 15:22:00,066 INFO status has been updated to running\n",
      "2024-12-24 15:54:26,284 INFO status has been updated to successful\n"
     ]
    },
    {
     "data": {
      "application/vnd.jupyter.widget-view+json": {
       "model_id": "b74b3df3445e42f08e1e6968dbe32425",
       "version_major": 2,
       "version_minor": 0
      },
      "text/plain": [
       "8bfe2a7057caf4185566c1b6acfb6b4e.nc:   0%|          | 0.00/2.87G [00:00<?, ?B/s]"
      ]
     },
     "metadata": {},
     "output_type": "display_data"
    },
    {
     "name": "stderr",
     "output_type": "stream",
     "text": [
      "2024-12-24 16:01:47,400 WARNING [2024-10-10T00:00:00] From 1 July to 17 November 2024, the final ERA5 product is different to ERA5T due to the correction of [the assimilation of incorrect snow observations on the Alps](https://confluence.ecmwf.int/x/USuXGw)\n",
      "2024-12-24 16:01:47,401 INFO Request ID is b6094904-64ff-43fb-836f-ee3437eb1801\n",
      "2024-12-24 16:01:47,630 INFO status has been updated to accepted\n",
      "2024-12-24 17:30:50,320 INFO status has been updated to running\n",
      "2024-12-24 17:52:55,894 INFO status has been updated to successful\n"
     ]
    },
    {
     "data": {
      "application/vnd.jupyter.widget-view+json": {
       "model_id": "266f1ca9674647abb68da3ce2364dc96",
       "version_major": 2,
       "version_minor": 0
      },
      "text/plain": [
       "f17595551295c045cf4a997d6ee1ff1.nc:   0%|          | 0.00/2.94G [00:00<?, ?B/s]"
      ]
     },
     "metadata": {},
     "output_type": "display_data"
    },
    {
     "name": "stderr",
     "output_type": "stream",
     "text": [
      "2024-12-24 17:56:50,109 WARNING [2024-10-10T00:00:00] From 1 July to 17 November 2024, the final ERA5 product is different to ERA5T due to the correction of [the assimilation of incorrect snow observations on the Alps](https://confluence.ecmwf.int/x/USuXGw)\n",
      "2024-12-24 17:56:50,110 INFO Request ID is 8b817194-b957-42d3-904a-ea6dd52975ae\n",
      "2024-12-24 17:56:50,277 INFO status has been updated to accepted\n",
      "2024-12-24 18:33:18,640 INFO status has been updated to running\n",
      "2024-12-24 19:27:37,522 INFO status has been updated to successful\n"
     ]
    },
    {
     "data": {
      "application/vnd.jupyter.widget-view+json": {
       "model_id": "efc4c3e6b68840e693aa0bece70d56eb",
       "version_major": 2,
       "version_minor": 0
      },
      "text/plain": [
       "4824d8a7eafd958166cbf4bddaaab3f.nc:   0%|          | 0.00/2.95G [00:00<?, ?B/s]"
      ]
     },
     "metadata": {},
     "output_type": "display_data"
    },
    {
     "name": "stderr",
     "output_type": "stream",
     "text": [
      "2024-12-24 19:30:41,248 WARNING [2024-10-10T00:00:00] From 1 July to 17 November 2024, the final ERA5 product is different to ERA5T due to the correction of [the assimilation of incorrect snow observations on the Alps](https://confluence.ecmwf.int/x/USuXGw)\n",
      "2024-12-24 19:30:41,249 INFO Request ID is 80408f2c-8102-414f-a2f8-0918ae5128bc\n",
      "2024-12-24 19:30:41,532 INFO status has been updated to accepted\n",
      "2024-12-24 19:51:04,634 INFO status has been updated to running\n",
      "Recovering from connection error [('Connection aborted.', RemoteDisconnected('Remote end closed connection without response'))], attemps 1 of 500\n",
      "Retrying in 120 seconds\n",
      "2024-12-24 20:24:08,643 INFO status has been updated to successful\n"
     ]
    },
    {
     "data": {
      "application/vnd.jupyter.widget-view+json": {
       "model_id": "5dd54f8e7457414ba8d96ebe7f001563",
       "version_major": 2,
       "version_minor": 0
      },
      "text/plain": [
       "40b99904ac22f49726f2d0f89423d3fd.nc:   0%|          | 0.00/2.86G [00:00<?, ?B/s]"
      ]
     },
     "metadata": {},
     "output_type": "display_data"
    },
    {
     "name": "stderr",
     "output_type": "stream",
     "text": [
      "2024-12-24 20:34:11,779 WARNING [2024-10-10T00:00:00] From 1 July to 17 November 2024, the final ERA5 product is different to ERA5T due to the correction of [the assimilation of incorrect snow observations on the Alps](https://confluence.ecmwf.int/x/USuXGw)\n",
      "2024-12-24 20:34:11,780 INFO Request ID is 39bdc921-7abb-4430-a9f6-f02fdd5d6573\n",
      "2024-12-24 20:34:12,033 INFO status has been updated to accepted\n",
      "2024-12-24 20:52:35,589 INFO status has been updated to running\n",
      "2024-12-24 21:18:52,400 INFO status has been updated to successful\n"
     ]
    },
    {
     "data": {
      "application/vnd.jupyter.widget-view+json": {
       "model_id": "33223d6ba9b8419e957d4dd1e8a4c05a",
       "version_major": 2,
       "version_minor": 0
      },
      "text/plain": [
       "fb534cc08962ac0f19991229a6b0f829.nc:   0%|          | 0.00/2.98G [00:00<?, ?B/s]"
      ]
     },
     "metadata": {},
     "output_type": "display_data"
    },
    {
     "name": "stderr",
     "output_type": "stream",
     "text": [
      "2024-12-24 21:22:49,223 WARNING [2024-10-10T00:00:00] From 1 July to 17 November 2024, the final ERA5 product is different to ERA5T due to the correction of [the assimilation of incorrect snow observations on the Alps](https://confluence.ecmwf.int/x/USuXGw)\n",
      "2024-12-24 21:22:49,223 INFO Request ID is ac5153ae-4e96-4a63-b862-6c2001179277\n",
      "2024-12-24 21:22:49,389 INFO status has been updated to accepted\n",
      "2024-12-24 21:47:13,301 INFO status has been updated to running\n",
      "2024-12-24 22:13:25,262 INFO status has been updated to successful\n"
     ]
    },
    {
     "data": {
      "application/vnd.jupyter.widget-view+json": {
       "model_id": "a75ed401f2174404bfdd4ebb59d4fd9c",
       "version_major": 2,
       "version_minor": 0
      },
      "text/plain": [
       "5d742b8dabe22f02485c4d12c26afadf.nc:   0%|          | 0.00/2.89G [00:00<?, ?B/s]"
      ]
     },
     "metadata": {},
     "output_type": "display_data"
    },
    {
     "name": "stderr",
     "output_type": "stream",
     "text": [
      "2024-12-24 22:19:57,321 WARNING [2024-10-10T00:00:00] From 1 July to 17 November 2024, the final ERA5 product is different to ERA5T due to the correction of [the assimilation of incorrect snow observations on the Alps](https://confluence.ecmwf.int/x/USuXGw)\n",
      "2024-12-24 22:19:57,322 INFO Request ID is 23f348a3-ef93-4bed-bad3-97b44e590150\n",
      "2024-12-24 22:19:57,469 INFO status has been updated to accepted\n",
      "2024-12-24 22:20:18,813 INFO status has been updated to running\n",
      "2024-12-24 22:48:23,465 INFO status has been updated to successful\n"
     ]
    },
    {
     "data": {
      "application/vnd.jupyter.widget-view+json": {
       "model_id": "67088cc8dcf647e084fb2db8a0bdbdc0",
       "version_major": 2,
       "version_minor": 0
      },
      "text/plain": [
       "79c0ea9ac6dfa024cff6bb4fe391efa.nc:   0%|          | 0.00/3.00G [00:00<?, ?B/s]"
      ]
     },
     "metadata": {},
     "output_type": "display_data"
    },
    {
     "name": "stderr",
     "output_type": "stream",
     "text": [
      "2024-12-24 22:53:55,963 WARNING [2024-10-10T00:00:00] From 1 July to 17 November 2024, the final ERA5 product is different to ERA5T due to the correction of [the assimilation of incorrect snow observations on the Alps](https://confluence.ecmwf.int/x/USuXGw)\n",
      "2024-12-24 22:53:55,963 INFO Request ID is e888c0dd-c477-48c5-990a-6c5262178a45\n",
      "2024-12-24 22:53:56,142 INFO status has been updated to accepted\n",
      "2024-12-24 23:12:18,183 INFO status has been updated to running\n",
      "2024-12-24 23:36:24,543 INFO status has been updated to successful\n"
     ]
    },
    {
     "data": {
      "application/vnd.jupyter.widget-view+json": {
       "model_id": "5548ff175c5d4ad9801f2e574e2f643c",
       "version_major": 2,
       "version_minor": 0
      },
      "text/plain": [
       "10d810ca1d3b949f23108352863b7c9c.nc:   0%|          | 0.00/3.00G [00:00<?, ?B/s]"
      ]
     },
     "metadata": {},
     "output_type": "display_data"
    },
    {
     "name": "stderr",
     "output_type": "stream",
     "text": [
      "2024-12-24 23:39:18,156 WARNING [2024-10-10T00:00:00] From 1 July to 17 November 2024, the final ERA5 product is different to ERA5T due to the correction of [the assimilation of incorrect snow observations on the Alps](https://confluence.ecmwf.int/x/USuXGw)\n",
      "2024-12-24 23:39:18,157 INFO Request ID is 8a1736d1-d93c-4825-9d7e-84735fae3c8d\n",
      "2024-12-24 23:39:18,307 INFO status has been updated to accepted\n",
      "2024-12-24 23:45:42,910 INFO status has been updated to running\n",
      "2024-12-25 00:07:58,471 INFO status has been updated to successful\n"
     ]
    },
    {
     "data": {
      "application/vnd.jupyter.widget-view+json": {
       "model_id": "5d664448389d4059818c9a0af02289bc",
       "version_major": 2,
       "version_minor": 0
      },
      "text/plain": [
       "21560510d86a2186ee22459bb62fdb17.nc:   0%|          | 0.00/2.75G [00:00<?, ?B/s]"
      ]
     },
     "metadata": {},
     "output_type": "display_data"
    },
    {
     "name": "stderr",
     "output_type": "stream",
     "text": [
      "2024-12-25 00:28:27,504 WARNING [2024-10-10T00:00:00] From 1 July to 17 November 2024, the final ERA5 product is different to ERA5T due to the correction of [the assimilation of incorrect snow observations on the Alps](https://confluence.ecmwf.int/x/USuXGw)\n",
      "2024-12-25 00:28:27,504 INFO Request ID is f48fe706-c89b-4190-8626-e1a80d854678\n",
      "2024-12-25 00:28:27,664 INFO status has been updated to accepted\n",
      "2024-12-25 00:28:35,310 INFO status has been updated to running\n",
      "2024-12-25 01:01:00,504 INFO status has been updated to successful\n"
     ]
    },
    {
     "data": {
      "application/vnd.jupyter.widget-view+json": {
       "model_id": "3ea868cd2a8b459fa4f68605dd54948b",
       "version_major": 2,
       "version_minor": 0
      },
      "text/plain": [
       "b2ac8eb1b3b15a9697e1f33c1a21314e.nc:   0%|          | 0.00/3.01G [00:00<?, ?B/s]"
      ]
     },
     "metadata": {},
     "output_type": "display_data"
    },
    {
     "name": "stderr",
     "output_type": "stream",
     "text": [
      "2024-12-25 01:20:45,899 WARNING [2024-10-10T00:00:00] From 1 July to 17 November 2024, the final ERA5 product is different to ERA5T due to the correction of [the assimilation of incorrect snow observations on the Alps](https://confluence.ecmwf.int/x/USuXGw)\n",
      "2024-12-25 01:20:45,900 INFO Request ID is 36728cd5-2449-4503-ae61-8ab633c77297\n",
      "2024-12-25 01:20:46,055 INFO status has been updated to accepted\n",
      "2024-12-25 01:20:53,685 INFO status has been updated to running\n",
      "2024-12-25 01:49:16,904 INFO status has been updated to successful\n"
     ]
    },
    {
     "data": {
      "application/vnd.jupyter.widget-view+json": {
       "model_id": "c81b6d28e26e4950a475b1ddf5824417",
       "version_major": 2,
       "version_minor": 0
      },
      "text/plain": [
       "f02d8527ca8e2bf618026e23790ff8ac.nc:   0%|          | 0.00/2.90G [00:00<?, ?B/s]"
      ]
     },
     "metadata": {},
     "output_type": "display_data"
    },
    {
     "name": "stderr",
     "output_type": "stream",
     "text": [
      "2024-12-25 01:56:22,757 WARNING [2024-10-10T00:00:00] From 1 July to 17 November 2024, the final ERA5 product is different to ERA5T due to the correction of [the assimilation of incorrect snow observations on the Alps](https://confluence.ecmwf.int/x/USuXGw)\n",
      "2024-12-25 01:56:22,758 INFO Request ID is 401290e5-1c33-48ce-9409-eee9a05ab41b\n",
      "2024-12-25 01:56:23,001 INFO status has been updated to accepted\n",
      "2024-12-25 01:56:30,886 INFO status has been updated to running\n",
      "2024-12-25 01:56:36,082 INFO status has been updated to accepted\n",
      "2024-12-25 01:56:43,812 INFO status has been updated to running\n",
      "2024-12-25 02:32:56,739 INFO status has been updated to successful\n"
     ]
    },
    {
     "data": {
      "application/vnd.jupyter.widget-view+json": {
       "model_id": "de7648e9d5164aa7a1474453cc6ce5bf",
       "version_major": 2,
       "version_minor": 0
      },
      "text/plain": [
       "ce2ba0af399144cc6bd2604f6c0d48de.nc:   0%|          | 0.00/2.96G [00:00<?, ?B/s]"
      ]
     },
     "metadata": {},
     "output_type": "display_data"
    },
    {
     "name": "stderr",
     "output_type": "stream",
     "text": [
      "2024-12-25 02:37:51,860 WARNING [2024-10-10T00:00:00] From 1 July to 17 November 2024, the final ERA5 product is different to ERA5T due to the correction of [the assimilation of incorrect snow observations on the Alps](https://confluence.ecmwf.int/x/USuXGw)\n",
      "2024-12-25 02:37:51,861 INFO Request ID is d90676b6-3841-4618-bf0a-15e256b87739\n",
      "2024-12-25 02:37:52,073 INFO status has been updated to accepted\n",
      "2024-12-25 02:39:46,041 INFO status has been updated to running\n",
      "2024-12-25 03:12:27,894 INFO status has been updated to successful\n"
     ]
    },
    {
     "data": {
      "application/vnd.jupyter.widget-view+json": {
       "model_id": "ab295ed20a4e4655a8e68429212b4742",
       "version_major": 2,
       "version_minor": 0
      },
      "text/plain": [
       "3a216e03c7830d9ce6c09dffbc9ce83d.nc:   0%|          | 0.00/2.88G [00:00<?, ?B/s]"
      ]
     },
     "metadata": {},
     "output_type": "display_data"
    },
    {
     "name": "stderr",
     "output_type": "stream",
     "text": [
      "2024-12-25 03:15:49,122 WARNING [2024-10-10T00:00:00] From 1 July to 17 November 2024, the final ERA5 product is different to ERA5T due to the correction of [the assimilation of incorrect snow observations on the Alps](https://confluence.ecmwf.int/x/USuXGw)\n",
      "2024-12-25 03:15:49,123 INFO Request ID is 34eca6c3-73dd-4048-b55f-8c0fa4603e2f\n",
      "2024-12-25 03:15:49,278 INFO status has been updated to accepted\n",
      "2024-12-25 03:24:14,663 INFO status has been updated to running\n",
      "2024-12-25 03:54:36,677 INFO status has been updated to successful\n"
     ]
    },
    {
     "data": {
      "application/vnd.jupyter.widget-view+json": {
       "model_id": "58b8a7a484984cc88fbe651707178a4c",
       "version_major": 2,
       "version_minor": 0
      },
      "text/plain": [
       "3d3c7064d977d6aff526b8cf36bcd9cd.nc:   0%|          | 0.00/2.95G [00:00<?, ?B/s]"
      ]
     },
     "metadata": {},
     "output_type": "display_data"
    },
    {
     "name": "stderr",
     "output_type": "stream",
     "text": [
      "2024-12-25 03:59:22,610 WARNING [2024-10-10T00:00:00] From 1 July to 17 November 2024, the final ERA5 product is different to ERA5T due to the correction of [the assimilation of incorrect snow observations on the Alps](https://confluence.ecmwf.int/x/USuXGw)\n",
      "2024-12-25 03:59:22,611 INFO Request ID is f4aa9138-9da5-4895-90f0-29b37dc3592f\n",
      "2024-12-25 03:59:23,223 INFO status has been updated to accepted\n",
      "2024-12-25 04:56:08,833 INFO status has been updated to running\n",
      "2024-12-25 05:30:23,956 INFO status has been updated to successful\n"
     ]
    },
    {
     "data": {
      "application/vnd.jupyter.widget-view+json": {
       "model_id": "43ec7bbe0817452c9353eea10f650d0c",
       "version_major": 2,
       "version_minor": 0
      },
      "text/plain": [
       "70a3168ccd380053f143c38647f0d1c.nc:   0%|          | 0.00/2.96G [00:00<?, ?B/s]"
      ]
     },
     "metadata": {},
     "output_type": "display_data"
    },
    {
     "name": "stderr",
     "output_type": "stream",
     "text": [
      "2024-12-25 05:46:42,549 WARNING [2024-10-10T00:00:00] From 1 July to 17 November 2024, the final ERA5 product is different to ERA5T due to the correction of [the assimilation of incorrect snow observations on the Alps](https://confluence.ecmwf.int/x/USuXGw)\n",
      "2024-12-25 05:46:42,550 INFO Request ID is 214caaa4-6059-428b-bca8-374be2ab3c82\n",
      "2024-12-25 05:46:42,777 INFO status has been updated to accepted\n",
      "2024-12-25 06:23:12,569 INFO status has been updated to running\n",
      "2024-12-25 06:47:28,379 INFO status has been updated to successful\n"
     ]
    },
    {
     "data": {
      "application/vnd.jupyter.widget-view+json": {
       "model_id": "74aff615aca342178fd9838c737788b9",
       "version_major": 2,
       "version_minor": 0
      },
      "text/plain": [
       "cadb3c6cad7350ef8deb37aa6cabd1b3.nc:   0%|          | 0.00/2.86G [00:00<?, ?B/s]"
      ]
     },
     "metadata": {},
     "output_type": "display_data"
    },
    {
     "name": "stderr",
     "output_type": "stream",
     "text": [
      "2024-12-25 06:51:22,843 WARNING [2024-10-10T00:00:00] From 1 July to 17 November 2024, the final ERA5 product is different to ERA5T due to the correction of [the assimilation of incorrect snow observations on the Alps](https://confluence.ecmwf.int/x/USuXGw)\n",
      "2024-12-25 06:51:22,844 INFO Request ID is d9a38518-1f27-4eef-b8d5-c907566ba466\n",
      "2024-12-25 06:51:23,003 INFO status has been updated to accepted\n",
      "2024-12-25 07:56:16,758 INFO status has been updated to running\n",
      "2024-12-25 08:20:23,036 INFO status has been updated to successful\n"
     ]
    },
    {
     "data": {
      "application/vnd.jupyter.widget-view+json": {
       "model_id": "6288e180dbf94667a20a178254fb356f",
       "version_major": 2,
       "version_minor": 0
      },
      "text/plain": [
       "48dc71147977409700dfc0f450b8402d.nc:   0%|          | 0.00/2.96G [00:00<?, ?B/s]"
      ]
     },
     "metadata": {},
     "output_type": "display_data"
    },
    {
     "name": "stderr",
     "output_type": "stream",
     "text": [
      "2024-12-25 08:23:17,301 WARNING [2024-10-10T00:00:00] From 1 July to 17 November 2024, the final ERA5 product is different to ERA5T due to the correction of [the assimilation of incorrect snow observations on the Alps](https://confluence.ecmwf.int/x/USuXGw)\n",
      "2024-12-25 08:23:17,302 INFO Request ID is 0390ad0e-609e-48f5-aa2e-1e5466e9428b\n",
      "2024-12-25 08:23:17,451 INFO status has been updated to accepted\n",
      "2024-12-25 09:21:56,236 INFO status has been updated to running\n",
      "2024-12-25 09:46:02,042 INFO status has been updated to successful\n"
     ]
    },
    {
     "data": {
      "application/vnd.jupyter.widget-view+json": {
       "model_id": "a1a37a8ca53f4d1a9662c49baafe4399",
       "version_major": 2,
       "version_minor": 0
      },
      "text/plain": [
       "d8c35b245b42dac2be11d1527d981aa.nc:   0%|          | 0.00/2.90G [00:00<?, ?B/s]"
      ]
     },
     "metadata": {},
     "output_type": "display_data"
    },
    {
     "name": "stderr",
     "output_type": "stream",
     "text": [
      "2024-12-25 09:48:58,781 WARNING [2024-10-10T00:00:00] From 1 July to 17 November 2024, the final ERA5 product is different to ERA5T due to the correction of [the assimilation of incorrect snow observations on the Alps](https://confluence.ecmwf.int/x/USuXGw)\n",
      "2024-12-25 09:48:58,782 INFO Request ID is 8e84ea97-a153-425a-bb6e-b82230339377\n",
      "2024-12-25 09:48:58,980 INFO status has been updated to accepted\n",
      "2024-12-25 10:55:39,386 INFO status has been updated to running\n",
      "2024-12-25 11:27:53,337 INFO status has been updated to successful\n"
     ]
    },
    {
     "data": {
      "application/vnd.jupyter.widget-view+json": {
       "model_id": "0c056af2f19e408995538675b65a6d8d",
       "version_major": 2,
       "version_minor": 0
      },
      "text/plain": [
       "f85e1dfc8713e5c30861095196b631cd.nc:   0%|          | 0.00/3.01G [00:00<?, ?B/s]"
      ]
     },
     "metadata": {},
     "output_type": "display_data"
    },
    {
     "name": "stderr",
     "output_type": "stream",
     "text": [
      "2024-12-25 11:31:19,951 WARNING [2024-10-10T00:00:00] From 1 July to 17 November 2024, the final ERA5 product is different to ERA5T due to the correction of [the assimilation of incorrect snow observations on the Alps](https://confluence.ecmwf.int/x/USuXGw)\n",
      "2024-12-25 11:31:19,951 INFO Request ID is 654fad90-71a4-4063-a610-0506cf5bb898\n",
      "2024-12-25 11:31:20,215 INFO status has been updated to accepted\n",
      "2024-12-25 12:44:27,928 INFO status has been updated to running\n",
      "2024-12-25 13:08:34,298 INFO status has been updated to successful\n"
     ]
    },
    {
     "data": {
      "application/vnd.jupyter.widget-view+json": {
       "model_id": "666ab2eee1084e5b948687675f9e2456",
       "version_major": 2,
       "version_minor": 0
      },
      "text/plain": [
       "e4579f0d57eeceefb7f3da40b9c05777.nc:   0%|          | 0.00/3.04G [00:00<?, ?B/s]"
      ]
     },
     "metadata": {},
     "output_type": "display_data"
    },
    {
     "name": "stderr",
     "output_type": "stream",
     "text": [
      "2024-12-25 13:20:08,571 WARNING [2024-10-10T00:00:00] From 1 July to 17 November 2024, the final ERA5 product is different to ERA5T due to the correction of [the assimilation of incorrect snow observations on the Alps](https://confluence.ecmwf.int/x/USuXGw)\n",
      "2024-12-25 13:20:08,572 INFO Request ID is 7a02d848-21b5-4db3-9678-cb0922788d11\n",
      "2024-12-25 13:20:08,715 INFO status has been updated to accepted\n",
      "2024-12-25 14:31:06,966 INFO status has been updated to running\n",
      "2024-12-25 15:01:20,763 INFO status has been updated to successful\n"
     ]
    },
    {
     "data": {
      "application/vnd.jupyter.widget-view+json": {
       "model_id": "e8036daadba145e7ab20ba6b1a7d68ce",
       "version_major": 2,
       "version_minor": 0
      },
      "text/plain": [
       "f991d348cf0f4d8790e9a293ca363422.nc:   0%|          | 0.00/2.84G [00:00<?, ?B/s]"
      ]
     },
     "metadata": {},
     "output_type": "display_data"
    },
    {
     "name": "stderr",
     "output_type": "stream",
     "text": [
      "2024-12-25 15:05:56,496 WARNING [2024-10-10T00:00:00] From 1 July to 17 November 2024, the final ERA5 product is different to ERA5T due to the correction of [the assimilation of incorrect snow observations on the Alps](https://confluence.ecmwf.int/x/USuXGw)\n",
      "2024-12-25 15:05:56,497 INFO Request ID is 8056ebac-d770-4464-a48d-27ec3fe291ca\n",
      "2024-12-25 15:05:56,650 INFO status has been updated to accepted\n",
      "2024-12-25 15:58:29,422 INFO status has been updated to running\n",
      "2024-12-25 16:36:54,648 INFO status has been updated to successful\n"
     ]
    },
    {
     "data": {
      "application/vnd.jupyter.widget-view+json": {
       "model_id": "2388f498a5d84838817b6644be1cf29a",
       "version_major": 2,
       "version_minor": 0
      },
      "text/plain": [
       "716dceb388a50312535ef775ea882057.nc:   0%|          | 0.00/3.01G [00:00<?, ?B/s]"
      ]
     },
     "metadata": {},
     "output_type": "display_data"
    },
    {
     "name": "stderr",
     "output_type": "stream",
     "text": [
      "2024-12-25 16:44:44,795 WARNING [2024-10-10T00:00:00] From 1 July to 17 November 2024, the final ERA5 product is different to ERA5T due to the correction of [the assimilation of incorrect snow observations on the Alps](https://confluence.ecmwf.int/x/USuXGw)\n",
      "2024-12-25 16:44:44,796 INFO Request ID is 2027d88f-00ff-4a20-b453-288272cebeae\n",
      "2024-12-25 16:44:44,940 INFO status has been updated to accepted\n",
      "2024-12-25 17:53:35,738 INFO status has been updated to running\n",
      "2024-12-25 18:23:48,614 INFO status has been updated to successful\n"
     ]
    },
    {
     "data": {
      "application/vnd.jupyter.widget-view+json": {
       "model_id": "4d67900ae9e34973a32258da8045a5f7",
       "version_major": 2,
       "version_minor": 0
      },
      "text/plain": [
       "48d2413449c028f0976115f14928d821.nc:   0%|          | 0.00/2.90G [00:00<?, ?B/s]"
      ]
     },
     "metadata": {},
     "output_type": "display_data"
    },
    {
     "name": "stderr",
     "output_type": "stream",
     "text": [
      "2024-12-25 18:29:46,301 WARNING [2024-10-10T00:00:00] From 1 July to 17 November 2024, the final ERA5 product is different to ERA5T due to the correction of [the assimilation of incorrect snow observations on the Alps](https://confluence.ecmwf.int/x/USuXGw)\n",
      "2024-12-25 18:29:46,302 INFO Request ID is 9439bcec-428f-4ee5-bd0c-16e2b871ca87\n",
      "2024-12-25 18:29:46,478 INFO status has been updated to accepted\n",
      "2024-12-25 19:28:24,159 INFO status has been updated to running\n",
      "2024-12-25 19:58:32,008 INFO status has been updated to successful\n"
     ]
    },
    {
     "data": {
      "application/vnd.jupyter.widget-view+json": {
       "model_id": "9571a0ef56d841f9a0e392c2bfd3df00",
       "version_major": 2,
       "version_minor": 0
      },
      "text/plain": [
       "a3d3580b6b2e38a4654bad6932f93300.nc:   0%|          | 0.00/2.96G [00:00<?, ?B/s]"
      ]
     },
     "metadata": {},
     "output_type": "display_data"
    },
    {
     "name": "stderr",
     "output_type": "stream",
     "text": [
      "2024-12-25 20:05:34,902 WARNING [2024-10-10T00:00:00] From 1 July to 17 November 2024, the final ERA5 product is different to ERA5T due to the correction of [the assimilation of incorrect snow observations on the Alps](https://confluence.ecmwf.int/x/USuXGw)\n",
      "2024-12-25 20:05:34,903 INFO Request ID is d5f10230-dcb6-494f-8074-6ee9012779c0\n",
      "2024-12-25 20:05:35,134 INFO status has been updated to accepted\n",
      "Recovering from connection error [('Connection aborted.', RemoteDisconnected('Remote end closed connection without response'))], attemps 1 of 500\n",
      "Retrying in 120 seconds\n",
      "2024-12-25 21:05:05,081 INFO status has been updated to running\n",
      "2024-12-25 21:27:10,856 INFO status has been updated to successful\n"
     ]
    },
    {
     "data": {
      "application/vnd.jupyter.widget-view+json": {
       "model_id": "69b1b2cb310b40639366c6f5a7ec67df",
       "version_major": 2,
       "version_minor": 0
      },
      "text/plain": [
       "e42af3bbf295866ae843f45ac2fd242f.nc:   0%|          | 0.00/2.85G [00:00<?, ?B/s]"
      ]
     },
     "metadata": {},
     "output_type": "display_data"
    },
    {
     "name": "stderr",
     "output_type": "stream",
     "text": [
      "2024-12-25 21:31:37,149 WARNING [2024-10-10T00:00:00] From 1 July to 17 November 2024, the final ERA5 product is different to ERA5T due to the correction of [the assimilation of incorrect snow observations on the Alps](https://confluence.ecmwf.int/x/USuXGw)\n",
      "2024-12-25 21:31:37,150 INFO Request ID is f5b58065-4108-4718-8107-1a5522d8509a\n",
      "2024-12-25 21:31:37,298 INFO status has been updated to accepted\n",
      "2024-12-25 22:12:13,346 INFO status has been updated to running\n",
      "2024-12-25 22:52:35,709 INFO status has been updated to successful\n"
     ]
    },
    {
     "data": {
      "application/vnd.jupyter.widget-view+json": {
       "model_id": "82ff07e085c048b882b1aad5c6c4c070",
       "version_major": 2,
       "version_minor": 0
      },
      "text/plain": [
       "20bea0425860208290aa3278ce869282.nc:   0%|          | 0.00/2.95G [00:00<?, ?B/s]"
      ]
     },
     "metadata": {},
     "output_type": "display_data"
    },
    {
     "name": "stderr",
     "output_type": "stream",
     "text": [
      "2024-12-25 22:57:14,513 WARNING [2024-10-10T00:00:00] From 1 July to 17 November 2024, the final ERA5 product is different to ERA5T due to the correction of [the assimilation of incorrect snow observations on the Alps](https://confluence.ecmwf.int/x/USuXGw)\n",
      "2024-12-25 22:57:14,513 INFO Request ID is 20540eea-5e95-424d-bcc2-c5fe4b6d1b2c\n",
      "2024-12-25 22:57:14,669 INFO status has been updated to accepted\n",
      "2024-12-25 23:11:41,412 INFO status has been updated to running\n",
      "2024-12-25 23:43:49,758 INFO status has been updated to accepted\n",
      "2024-12-25 23:45:50,512 INFO status has been updated to running\n",
      "2024-12-26 00:46:27,986 INFO status has been updated to successful\n"
     ]
    },
    {
     "data": {
      "application/vnd.jupyter.widget-view+json": {
       "model_id": "51e8a0c1e93b4af88245bbed7e5a7810",
       "version_major": 2,
       "version_minor": 0
      },
      "text/plain": [
       "4fd6fb73e52922cab153c77d8c546053.nc:   0%|          | 0.00/2.94G [00:00<?, ?B/s]"
      ]
     },
     "metadata": {},
     "output_type": "display_data"
    },
    {
     "name": "stderr",
     "output_type": "stream",
     "text": [
      "2024-12-26 01:02:57,896 WARNING [2024-10-10T00:00:00] From 1 July to 17 November 2024, the final ERA5 product is different to ERA5T due to the correction of [the assimilation of incorrect snow observations on the Alps](https://confluence.ecmwf.int/x/USuXGw)\n",
      "2024-12-26 01:02:57,897 INFO Request ID is 435eb937-be00-45cb-a1dc-0138cbcc0bba\n",
      "2024-12-26 01:02:58,052 INFO status has been updated to accepted\n",
      "2024-12-26 01:07:18,072 INFO status has been updated to running\n",
      "2024-12-26 01:29:24,742 INFO status has been updated to successful\n"
     ]
    },
    {
     "data": {
      "application/vnd.jupyter.widget-view+json": {
       "model_id": "35c3031a3c1f4922a98473c65eead8f3",
       "version_major": 2,
       "version_minor": 0
      },
      "text/plain": [
       "1c032644b0e8b29c8dc27352112667ca.nc:   0%|          | 0.00/2.86G [00:00<?, ?B/s]"
      ]
     },
     "metadata": {},
     "output_type": "display_data"
    },
    {
     "name": "stderr",
     "output_type": "stream",
     "text": [
      "2024-12-26 01:32:52,714 WARNING [2024-10-10T00:00:00] From 1 July to 17 November 2024, the final ERA5 product is different to ERA5T due to the correction of [the assimilation of incorrect snow observations on the Alps](https://confluence.ecmwf.int/x/USuXGw)\n",
      "2024-12-26 01:32:52,715 INFO Request ID is 489ddcf3-b477-49e3-bef3-b2c2d51a42c5\n",
      "2024-12-26 01:32:52,859 INFO status has been updated to accepted\n",
      "2024-12-26 01:49:16,163 INFO status has been updated to running\n",
      "2024-12-26 02:25:37,083 INFO status has been updated to successful\n"
     ]
    },
    {
     "data": {
      "application/vnd.jupyter.widget-view+json": {
       "model_id": "26d14540e999442f881aae6aa7bbfae6",
       "version_major": 2,
       "version_minor": 0
      },
      "text/plain": [
       "6c511517b398c80faa08e55cfd100f70.nc:   0%|          | 0.00/2.97G [00:00<?, ?B/s]"
      ]
     },
     "metadata": {},
     "output_type": "display_data"
    },
    {
     "name": "stderr",
     "output_type": "stream",
     "text": [
      "2024-12-26 02:34:13,216 WARNING [2024-10-10T00:00:00] From 1 July to 17 November 2024, the final ERA5 product is different to ERA5T due to the correction of [the assimilation of incorrect snow observations on the Alps](https://confluence.ecmwf.int/x/USuXGw)\n",
      "2024-12-26 02:34:13,216 INFO Request ID is 64b5102f-c8c2-4e82-9d05-cab635b6495e\n",
      "2024-12-26 02:34:13,370 INFO status has been updated to accepted\n",
      "2024-12-26 02:44:34,802 INFO status has been updated to running\n",
      "2024-12-26 03:18:49,734 INFO status has been updated to successful\n"
     ]
    },
    {
     "data": {
      "application/vnd.jupyter.widget-view+json": {
       "model_id": "7675ca98df40445b84ef5a48773abce3",
       "version_major": 2,
       "version_minor": 0
      },
      "text/plain": [
       "f684b596dc3a5669fe733336ab3d3936.nc:   0%|          | 0.00/2.90G [00:00<?, ?B/s]"
      ]
     },
     "metadata": {},
     "output_type": "display_data"
    },
    {
     "name": "stderr",
     "output_type": "stream",
     "text": [
      "2024-12-26 03:22:15,933 WARNING [2024-10-10T00:00:00] From 1 July to 17 November 2024, the final ERA5 product is different to ERA5T due to the correction of [the assimilation of incorrect snow observations on the Alps](https://confluence.ecmwf.int/x/USuXGw)\n",
      "2024-12-26 03:22:15,934 INFO Request ID is 9f8ec7b4-5d53-4c35-abcd-35d641784ae1\n",
      "2024-12-26 03:22:16,119 INFO status has been updated to accepted\n",
      "2024-12-26 03:46:41,146 INFO status has been updated to running\n",
      "2024-12-26 04:24:59,950 INFO status has been updated to successful\n"
     ]
    },
    {
     "data": {
      "application/vnd.jupyter.widget-view+json": {
       "model_id": "6f4af76bc9ff43ea80023ae340ff0c16",
       "version_major": 2,
       "version_minor": 0
      },
      "text/plain": [
       "93b7eabe4899faec286c4ae17c33c167.nc:   0%|          | 0.00/3.01G [00:00<?, ?B/s]"
      ]
     },
     "metadata": {},
     "output_type": "display_data"
    },
    {
     "name": "stderr",
     "output_type": "stream",
     "text": [
      "2024-12-26 04:37:03,868 WARNING [2024-10-10T00:00:00] From 1 July to 17 November 2024, the final ERA5 product is different to ERA5T due to the correction of [the assimilation of incorrect snow observations on the Alps](https://confluence.ecmwf.int/x/USuXGw)\n",
      "2024-12-26 04:37:03,869 INFO Request ID is 52e83149-328b-46b5-930e-4a4f9d4cec2b\n",
      "2024-12-26 04:37:04,016 INFO status has been updated to accepted\n",
      "2024-12-26 05:23:43,983 INFO status has been updated to running\n",
      "2024-12-26 05:58:03,468 INFO status has been updated to successful\n"
     ]
    },
    {
     "data": {
      "application/vnd.jupyter.widget-view+json": {
       "model_id": "f5b9d54658374b5492172dd51d5f5704",
       "version_major": 2,
       "version_minor": 0
      },
      "text/plain": [
       "e7eb7b4dcedffc672df57b538658e46c.nc:   0%|          | 0.00/3.02G [00:00<?, ?B/s]"
      ]
     },
     "metadata": {},
     "output_type": "display_data"
    },
    {
     "name": "stderr",
     "output_type": "stream",
     "text": [
      "2024-12-26 06:01:58,203 WARNING [2024-10-10T00:00:00] From 1 July to 17 November 2024, the final ERA5 product is different to ERA5T due to the correction of [the assimilation of incorrect snow observations on the Alps](https://confluence.ecmwf.int/x/USuXGw)\n",
      "2024-12-26 06:01:58,204 INFO Request ID is 3798bf2c-3ff3-47bc-bd3c-c4b16de460a8\n",
      "2024-12-26 06:01:58,408 INFO status has been updated to accepted\n",
      "2024-12-26 06:38:26,687 INFO status has been updated to running\n",
      "2024-12-26 07:00:37,300 INFO status has been updated to successful\n"
     ]
    },
    {
     "data": {
      "application/vnd.jupyter.widget-view+json": {
       "model_id": "6f6597eee6dd40da9a122198d0c1f0d3",
       "version_major": 2,
       "version_minor": 0
      },
      "text/plain": [
       "87a2c8246e754aba57c1196a116bc907.nc:   0%|          | 0.00/2.74G [00:00<?, ?B/s]"
      ]
     },
     "metadata": {},
     "output_type": "display_data"
    },
    {
     "name": "stderr",
     "output_type": "stream",
     "text": [
      "2024-12-26 07:05:11,810 WARNING [2024-10-10T00:00:00] From 1 July to 17 November 2024, the final ERA5 product is different to ERA5T due to the correction of [the assimilation of incorrect snow observations on the Alps](https://confluence.ecmwf.int/x/USuXGw)\n",
      "2024-12-26 07:05:11,811 INFO Request ID is 95b7458e-18f5-47b3-9bc3-0f6a4109c6b8\n",
      "2024-12-26 07:05:11,958 INFO status has been updated to accepted\n",
      "2024-12-26 07:57:48,072 INFO status has been updated to running\n",
      "2024-12-26 08:29:56,919 INFO status has been updated to successful\n"
     ]
    },
    {
     "data": {
      "application/vnd.jupyter.widget-view+json": {
       "model_id": "c94e06c2fbb64ee09b4fb512b892cd93",
       "version_major": 2,
       "version_minor": 0
      },
      "text/plain": [
       "a62842ba64b5bf3c707b3bc23db0f281.nc:   0%|          | 0.00/3.01G [00:00<?, ?B/s]"
      ]
     },
     "metadata": {},
     "output_type": "display_data"
    },
    {
     "name": "stderr",
     "output_type": "stream",
     "text": [
      "2024-12-26 08:34:31,254 WARNING [2024-10-10T00:00:00] From 1 July to 17 November 2024, the final ERA5 product is different to ERA5T due to the correction of [the assimilation of incorrect snow observations on the Alps](https://confluence.ecmwf.int/x/USuXGw)\n",
      "2024-12-26 08:34:31,255 INFO Request ID is c33cb1ba-13bf-42de-9ba8-a219e11b94d8\n",
      "2024-12-26 08:34:31,405 INFO status has been updated to accepted\n",
      "2024-12-26 09:25:11,449 INFO status has been updated to running\n",
      "2024-12-26 09:57:20,050 INFO status has been updated to successful\n"
     ]
    },
    {
     "data": {
      "application/vnd.jupyter.widget-view+json": {
       "model_id": "fcca7382f10145668a1429833b90dcdc",
       "version_major": 2,
       "version_minor": 0
      },
      "text/plain": [
       "813d4dfc9d439c8fcfa5f1143e321a1d.nc:   0%|          | 0.00/2.89G [00:00<?, ?B/s]"
      ]
     },
     "metadata": {},
     "output_type": "display_data"
    },
    {
     "name": "stderr",
     "output_type": "stream",
     "text": [
      "2024-12-26 10:01:19,105 WARNING [2024-10-10T00:00:00] From 1 July to 17 November 2024, the final ERA5 product is different to ERA5T due to the correction of [the assimilation of incorrect snow observations on the Alps](https://confluence.ecmwf.int/x/USuXGw)\n",
      "2024-12-26 10:01:19,106 INFO Request ID is 6fcf26d7-b86c-42e9-bcf0-635a8916b084\n",
      "2024-12-26 10:01:19,319 INFO status has been updated to accepted\n",
      "2024-12-26 10:53:58,587 INFO status has been updated to running\n",
      "2024-12-26 11:30:18,356 INFO status has been updated to successful\n"
     ]
    },
    {
     "data": {
      "application/vnd.jupyter.widget-view+json": {
       "model_id": "fe1817d8f4a84f8fb367b112b83d3c50",
       "version_major": 2,
       "version_minor": 0
      },
      "text/plain": [
       "28b5d21477163d45bbb0a16f1584bf85.nc:   0%|          | 0.00/2.99G [00:00<?, ?B/s]"
      ]
     },
     "metadata": {},
     "output_type": "display_data"
    },
    {
     "name": "stderr",
     "output_type": "stream",
     "text": [
      "2024-12-26 11:34:49,353 WARNING [2024-10-10T00:00:00] From 1 July to 17 November 2024, the final ERA5 product is different to ERA5T due to the correction of [the assimilation of incorrect snow observations on the Alps](https://confluence.ecmwf.int/x/USuXGw)\n",
      "2024-12-26 11:34:49,354 INFO Request ID is 85e06c5c-637b-413f-bad9-6a11ab63c13c\n",
      "2024-12-26 11:34:49,498 INFO status has been updated to accepted\n",
      "2024-12-26 12:43:33,435 INFO status has been updated to running\n",
      "2024-12-26 13:35:56,764 INFO status has been updated to successful\n"
     ]
    },
    {
     "data": {
      "application/vnd.jupyter.widget-view+json": {
       "model_id": "7da451b0bdec417b819d655f26f96fd5",
       "version_major": 2,
       "version_minor": 0
      },
      "text/plain": [
       "5c7646789c5b705b73d4e44c1708ddd4.nc:   0%|          | 0.00/2.87G [00:00<?, ?B/s]"
      ]
     },
     "metadata": {},
     "output_type": "display_data"
    },
    {
     "name": "stderr",
     "output_type": "stream",
     "text": [
      "2024-12-26 13:54:52,392 WARNING [2024-10-10T00:00:00] From 1 July to 17 November 2024, the final ERA5 product is different to ERA5T due to the correction of [the assimilation of incorrect snow observations on the Alps](https://confluence.ecmwf.int/x/USuXGw)\n",
      "2024-12-26 13:54:52,393 INFO Request ID is 70f0e605-001e-45b2-b15b-560b4ef8880e\n",
      "2024-12-26 13:54:52,585 INFO status has been updated to accepted\n",
      "2024-12-26 15:01:54,507 INFO status has been updated to running\n",
      "2024-12-26 15:32:02,786 INFO status has been updated to successful\n"
     ]
    },
    {
     "data": {
      "application/vnd.jupyter.widget-view+json": {
       "model_id": "9bbf05b2c1d24f2fbb272ce2fbda9374",
       "version_major": 2,
       "version_minor": 0
      },
      "text/plain": [
       "d3010753d2abdc854848d2611c8fd4ab.nc:   0%|          | 0.00/2.97G [00:00<?, ?B/s]"
      ]
     },
     "metadata": {},
     "output_type": "display_data"
    },
    {
     "name": "stderr",
     "output_type": "stream",
     "text": [
      "2024-12-26 15:37:12,407 WARNING [2024-10-10T00:00:00] From 1 July to 17 November 2024, the final ERA5 product is different to ERA5T due to the correction of [the assimilation of incorrect snow observations on the Alps](https://confluence.ecmwf.int/x/USuXGw)\n",
      "2024-12-26 15:37:12,408 INFO Request ID is 5b688d05-1af6-4073-ab3b-b698bc40e6d8\n",
      "2024-12-26 15:37:12,648 INFO status has been updated to accepted\n",
      "2024-12-26 16:37:46,526 INFO status has been updated to running\n",
      "2024-12-26 17:08:00,724 INFO status has been updated to successful\n"
     ]
    },
    {
     "data": {
      "application/vnd.jupyter.widget-view+json": {
       "model_id": "da383bf3d62e486a802934ac8a84d852",
       "version_major": 2,
       "version_minor": 0
      },
      "text/plain": [
       "5b4077e1511d980ee43db391ce581a6.nc:   0%|          | 0.00/2.94G [00:00<?, ?B/s]"
      ]
     },
     "metadata": {},
     "output_type": "display_data"
    },
    {
     "name": "stderr",
     "output_type": "stream",
     "text": [
      "2024-12-26 17:11:45,903 WARNING [2024-10-10T00:00:00] From 1 July to 17 November 2024, the final ERA5 product is different to ERA5T due to the correction of [the assimilation of incorrect snow observations on the Alps](https://confluence.ecmwf.int/x/USuXGw)\n",
      "2024-12-26 17:11:45,904 INFO Request ID is a16eee4e-919e-4040-9cd6-4dfc2dc708b8\n",
      "2024-12-26 17:11:46,191 INFO status has been updated to accepted\n",
      "2024-12-26 18:12:25,009 INFO status has been updated to running\n",
      "2024-12-26 18:36:36,673 INFO status has been updated to successful\n"
     ]
    },
    {
     "data": {
      "application/vnd.jupyter.widget-view+json": {
       "model_id": "eebe84c3a6764c64aeb41066cb6cb5c1",
       "version_major": 2,
       "version_minor": 0
      },
      "text/plain": [
       "440195a3f8379aa7adf372feaada57f7.nc:   0%|          | 0.00/2.84G [00:00<?, ?B/s]"
      ]
     },
     "metadata": {},
     "output_type": "display_data"
    },
    {
     "name": "stderr",
     "output_type": "stream",
     "text": [
      "2024-12-26 18:42:00,564 WARNING [2024-10-10T00:00:00] From 1 July to 17 November 2024, the final ERA5 product is different to ERA5T due to the correction of [the assimilation of incorrect snow observations on the Alps](https://confluence.ecmwf.int/x/USuXGw)\n",
      "2024-12-26 18:42:00,565 INFO Request ID is 0eb68c15-27eb-4e3d-9174-bb516222b00a\n",
      "2024-12-26 18:42:01,087 INFO status has been updated to accepted\n",
      "2024-12-26 19:38:45,099 INFO status has been updated to running\n",
      "2024-12-26 20:16:54,636 INFO status has been updated to successful\n"
     ]
    },
    {
     "data": {
      "application/vnd.jupyter.widget-view+json": {
       "model_id": "f290e4a65a344310b35eeacb0263e6a4",
       "version_major": 2,
       "version_minor": 0
      },
      "text/plain": [
       "311a7203179ce066f7009785b059cd65.nc:   0%|          | 0.00/2.98G [00:00<?, ?B/s]"
      ]
     },
     "metadata": {},
     "output_type": "display_data"
    },
    {
     "name": "stderr",
     "output_type": "stream",
     "text": [
      "2024-12-26 20:22:40,224 WARNING [2024-10-10T00:00:00] From 1 July to 17 November 2024, the final ERA5 product is different to ERA5T due to the correction of [the assimilation of incorrect snow observations on the Alps](https://confluence.ecmwf.int/x/USuXGw)\n",
      "2024-12-26 20:22:40,225 INFO Request ID is fbd928c2-686a-4d67-a77f-34e0c8fcf54c\n",
      "2024-12-26 20:22:40,442 INFO status has been updated to accepted\n",
      "2024-12-26 21:27:31,604 INFO status has been updated to running\n",
      "2024-12-26 21:51:47,388 INFO status has been updated to successful\n"
     ]
    },
    {
     "data": {
      "application/vnd.jupyter.widget-view+json": {
       "model_id": "c448c242808d4d96b0c8d89fcd7ca7f3",
       "version_major": 2,
       "version_minor": 0
      },
      "text/plain": [
       "332af16ba899c2acc7622c313415b6be.nc:   0%|          | 0.00/2.89G [00:00<?, ?B/s]"
      ]
     },
     "metadata": {},
     "output_type": "display_data"
    },
    {
     "name": "stderr",
     "output_type": "stream",
     "text": [
      "2024-12-26 22:04:04,483 WARNING [2024-10-10T00:00:00] From 1 July to 17 November 2024, the final ERA5 product is different to ERA5T due to the correction of [the assimilation of incorrect snow observations on the Alps](https://confluence.ecmwf.int/x/USuXGw)\n",
      "2024-12-26 22:04:04,484 INFO Request ID is d1ba4f53-2e9b-41f7-8204-69e3eb4bb588\n",
      "2024-12-26 22:04:04,723 INFO status has been updated to accepted\n",
      "2024-12-26 22:50:47,157 INFO status has been updated to running\n",
      "2024-12-26 23:20:54,779 INFO status has been updated to successful\n"
     ]
    },
    {
     "data": {
      "application/vnd.jupyter.widget-view+json": {
       "model_id": "20b30722ceb94a2bb726e77bfd30ec4b",
       "version_major": 2,
       "version_minor": 0
      },
      "text/plain": [
       "f24d8b5ef3df31343a8cef4f44849cdb.nc:   0%|          | 0.00/3.02G [00:00<?, ?B/s]"
      ]
     },
     "metadata": {},
     "output_type": "display_data"
    },
    {
     "name": "stderr",
     "output_type": "stream",
     "text": [
      "2024-12-26 23:23:41,839 WARNING [2024-10-10T00:00:00] From 1 July to 17 November 2024, the final ERA5 product is different to ERA5T due to the correction of [the assimilation of incorrect snow observations on the Alps](https://confluence.ecmwf.int/x/USuXGw)\n",
      "2024-12-26 23:23:41,840 INFO Request ID is be4c818b-d61f-4fbc-a89f-6766db2da707\n",
      "2024-12-26 23:23:42,204 INFO status has been updated to accepted\n",
      "2024-12-27 00:16:45,116 INFO status has been updated to running\n",
      "2024-12-27 00:53:28,956 INFO status has been updated to successful\n"
     ]
    },
    {
     "data": {
      "application/vnd.jupyter.widget-view+json": {
       "model_id": "2f6ea0e3d60c47c4b2a8f843a6201ee9",
       "version_major": 2,
       "version_minor": 0
      },
      "text/plain": [
       "21e97411e2c4783dbf24598a7d6f5a22.nc:   0%|          | 0.00/3.01G [00:00<?, ?B/s]"
      ]
     },
     "metadata": {},
     "output_type": "display_data"
    },
    {
     "name": "stderr",
     "output_type": "stream",
     "text": [
      "2024-12-27 01:03:07,130 WARNING [2024-10-10T00:00:00] From 1 July to 17 November 2024, the final ERA5 product is different to ERA5T due to the correction of [the assimilation of incorrect snow observations on the Alps](https://confluence.ecmwf.int/x/USuXGw)\n",
      "2024-12-27 01:03:07,131 INFO Request ID is 5f0e9498-b474-42d6-a469-d5007663b4b7\n",
      "2024-12-27 01:03:07,564 INFO status has been updated to accepted\n",
      "2024-12-27 01:29:37,525 INFO status has been updated to running\n",
      "2024-12-27 02:03:50,635 INFO status has been updated to successful\n"
     ]
    },
    {
     "data": {
      "application/vnd.jupyter.widget-view+json": {
       "model_id": "1e91ffcbba9a4fd2a4ea749a4fe6ceee",
       "version_major": 2,
       "version_minor": 0
      },
      "text/plain": [
       "ce88ecf9a1fbf6c051ba009074d3b64d.nc:   0%|          | 0.00/2.75G [00:00<?, ?B/s]"
      ]
     },
     "metadata": {},
     "output_type": "display_data"
    },
    {
     "name": "stderr",
     "output_type": "stream",
     "text": [
      "2024-12-27 02:10:12,175 WARNING [2024-10-10T00:00:00] From 1 July to 17 November 2024, the final ERA5 product is different to ERA5T due to the correction of [the assimilation of incorrect snow observations on the Alps](https://confluence.ecmwf.int/x/USuXGw)\n",
      "2024-12-27 02:10:12,175 INFO Request ID is 4e4ced10-d795-4fb5-905d-b240007c5405\n",
      "2024-12-27 02:10:12,427 INFO status has been updated to accepted\n",
      "2024-12-27 02:28:45,576 INFO status has been updated to running\n",
      "2024-12-27 02:56:59,587 INFO status has been updated to successful\n"
     ]
    },
    {
     "data": {
      "application/vnd.jupyter.widget-view+json": {
       "model_id": "f5797529d5274341980f5074806ada7f",
       "version_major": 2,
       "version_minor": 0
      },
      "text/plain": [
       "3a17f28e050bdb9b489e6493827034b.nc:   0%|          | 0.00/3.01G [00:00<?, ?B/s]"
      ]
     },
     "metadata": {},
     "output_type": "display_data"
    },
    {
     "name": "stderr",
     "output_type": "stream",
     "text": [
      "2024-12-27 03:02:52,394 WARNING [2024-10-10T00:00:00] From 1 July to 17 November 2024, the final ERA5 product is different to ERA5T due to the correction of [the assimilation of incorrect snow observations on the Alps](https://confluence.ecmwf.int/x/USuXGw)\n",
      "2024-12-27 03:02:52,395 INFO Request ID is 7ea97aa2-877e-48e7-899b-2431ab38abb9\n",
      "2024-12-27 03:02:52,565 INFO status has been updated to accepted\n",
      "2024-12-27 03:19:16,232 INFO status has been updated to running\n",
      "2024-12-27 03:51:37,567 INFO status has been updated to successful\n"
     ]
    },
    {
     "data": {
      "application/vnd.jupyter.widget-view+json": {
       "model_id": "3018e5af21394d5181e42cedfabfe441",
       "version_major": 2,
       "version_minor": 0
      },
      "text/plain": [
       "74024f40a2c436cb0c2ede35112177e5.nc:   0%|          | 0.00/2.90G [00:00<?, ?B/s]"
      ]
     },
     "metadata": {},
     "output_type": "display_data"
    },
    {
     "name": "stderr",
     "output_type": "stream",
     "text": [
      "2024-12-27 04:02:14,902 WARNING [2024-10-10T00:00:00] From 1 July to 17 November 2024, the final ERA5 product is different to ERA5T due to the correction of [the assimilation of incorrect snow observations on the Alps](https://confluence.ecmwf.int/x/USuXGw)\n",
      "2024-12-27 04:02:14,902 INFO Request ID is d311ef76-1412-4345-b092-f482eb5d348a\n",
      "2024-12-27 04:02:15,075 INFO status has been updated to accepted\n",
      "2024-12-27 04:28:42,910 INFO status has been updated to running\n",
      "2024-12-27 04:57:01,008 INFO status has been updated to successful\n"
     ]
    },
    {
     "data": {
      "application/vnd.jupyter.widget-view+json": {
       "model_id": "185fcbf35fb94ceda08ff5f02d46aa91",
       "version_major": 2,
       "version_minor": 0
      },
      "text/plain": [
       "ea7ef79e1e0824aca00fe9ebf64f0fde.nc:   0%|          | 0.00/2.99G [00:00<?, ?B/s]"
      ]
     },
     "metadata": {},
     "output_type": "display_data"
    },
    {
     "name": "stderr",
     "output_type": "stream",
     "text": [
      "2024-12-27 05:00:53,922 WARNING [2024-10-10T00:00:00] From 1 July to 17 November 2024, the final ERA5 product is different to ERA5T due to the correction of [the assimilation of incorrect snow observations on the Alps](https://confluence.ecmwf.int/x/USuXGw)\n",
      "2024-12-27 05:00:53,923 INFO Request ID is e75434d1-db1a-4375-bdea-cdd47b29b102\n",
      "2024-12-27 05:01:07,583 INFO status has been updated to accepted\n",
      "2024-12-27 05:37:54,943 INFO status has been updated to running\n",
      "2024-12-27 06:02:02,433 INFO status has been updated to successful\n"
     ]
    },
    {
     "data": {
      "application/vnd.jupyter.widget-view+json": {
       "model_id": "af7f234f74ae40249e378c01887f135c",
       "version_major": 2,
       "version_minor": 0
      },
      "text/plain": [
       "e8b41690279d0b52b3a79c9e44555422.nc:   0%|          | 0.00/2.87G [00:00<?, ?B/s]"
      ]
     },
     "metadata": {},
     "output_type": "display_data"
    },
    {
     "name": "stderr",
     "output_type": "stream",
     "text": [
      "2024-12-27 06:05:33,256 WARNING [2024-10-10T00:00:00] From 1 July to 17 November 2024, the final ERA5 product is different to ERA5T due to the correction of [the assimilation of incorrect snow observations on the Alps](https://confluence.ecmwf.int/x/USuXGw)\n",
      "2024-12-27 06:05:33,257 INFO Request ID is e2bf8592-a37b-4734-a24f-13f285185779\n",
      "2024-12-27 06:05:33,479 INFO status has been updated to accepted\n",
      "2024-12-27 06:09:54,028 INFO status has been updated to running\n",
      "2024-12-27 06:40:02,374 INFO status has been updated to successful\n"
     ]
    },
    {
     "data": {
      "application/vnd.jupyter.widget-view+json": {
       "model_id": "0986905bd78c47eeb6554efd55aebbd7",
       "version_major": 2,
       "version_minor": 0
      },
      "text/plain": [
       "de2e3a014cc3b2dc52419de0dfd7e702.nc:   0%|          | 0.00/2.96G [00:00<?, ?B/s]"
      ]
     },
     "metadata": {},
     "output_type": "display_data"
    },
    {
     "name": "stderr",
     "output_type": "stream",
     "text": [
      "2024-12-27 06:44:38,178 WARNING [2024-10-10T00:00:00] From 1 July to 17 November 2024, the final ERA5 product is different to ERA5T due to the correction of [the assimilation of incorrect snow observations on the Alps](https://confluence.ecmwf.int/x/USuXGw)\n",
      "2024-12-27 06:44:38,179 INFO Request ID is 97c1699d-77f1-4d15-89c2-34642934a90b\n",
      "2024-12-27 06:44:38,334 INFO status has been updated to accepted\n",
      "2024-12-27 07:09:03,500 INFO status has been updated to running\n",
      "2024-12-27 07:43:30,181 INFO status has been updated to successful\n"
     ]
    },
    {
     "data": {
      "application/vnd.jupyter.widget-view+json": {
       "model_id": "1443e8c5f3914a9bbadd85100bb9fc80",
       "version_major": 2,
       "version_minor": 0
      },
      "text/plain": [
       "864e4515d02fd9183ab947b09e8fb9d1.nc:   0%|          | 0.00/2.95G [00:00<?, ?B/s]"
      ]
     },
     "metadata": {},
     "output_type": "display_data"
    },
    {
     "name": "stderr",
     "output_type": "stream",
     "text": [
      "2024-12-27 07:47:34,144 WARNING [2024-10-10T00:00:00] From 1 July to 17 November 2024, the final ERA5 product is different to ERA5T due to the correction of [the assimilation of incorrect snow observations on the Alps](https://confluence.ecmwf.int/x/USuXGw)\n",
      "2024-12-27 07:47:34,145 INFO Request ID is b7e7d445-33c6-4f4c-a63c-031068499040\n",
      "2024-12-27 07:47:34,321 INFO status has been updated to accepted\n",
      "2024-12-27 08:30:04,916 INFO status has been updated to running\n",
      "2024-12-27 09:06:20,067 INFO status has been updated to successful\n"
     ]
    },
    {
     "data": {
      "application/vnd.jupyter.widget-view+json": {
       "model_id": "77f871fe86e545448aaad17f85568fe8",
       "version_major": 2,
       "version_minor": 0
      },
      "text/plain": [
       "43c07dc487fe3f0e57219e701d56e38e.nc:   0%|          | 0.00/2.85G [00:00<?, ?B/s]"
      ]
     },
     "metadata": {},
     "output_type": "display_data"
    },
    {
     "name": "stderr",
     "output_type": "stream",
     "text": [
      "2024-12-27 09:18:07,058 WARNING [2024-10-10T00:00:00] From 1 July to 17 November 2024, the final ERA5 product is different to ERA5T due to the correction of [the assimilation of incorrect snow observations on the Alps](https://confluence.ecmwf.int/x/USuXGw)\n",
      "2024-12-27 09:18:07,059 INFO Request ID is f39d2261-a9b8-40f0-a4bd-3dab4c13ac53\n",
      "2024-12-27 09:18:07,209 INFO status has been updated to accepted\n",
      "2024-12-27 09:56:44,426 INFO status has been updated to running\n",
      "2024-12-27 10:28:58,479 INFO status has been updated to successful\n"
     ]
    },
    {
     "data": {
      "application/vnd.jupyter.widget-view+json": {
       "model_id": "ebe24a5b0b40474398c757f69e7e13e3",
       "version_major": 2,
       "version_minor": 0
      },
      "text/plain": [
       "e8d07a88000254cf17f21c0897e6ba08.nc:   0%|          | 0.00/2.95G [00:00<?, ?B/s]"
      ]
     },
     "metadata": {},
     "output_type": "display_data"
    },
    {
     "name": "stderr",
     "output_type": "stream",
     "text": [
      "2024-12-27 10:32:56,727 WARNING [2024-10-10T00:00:00] From 1 July to 17 November 2024, the final ERA5 product is different to ERA5T due to the correction of [the assimilation of incorrect snow observations on the Alps](https://confluence.ecmwf.int/x/USuXGw)\n",
      "2024-12-27 10:32:56,728 INFO Request ID is 89fb3435-9065-41a0-9d4a-7f7ea6ca4feb\n",
      "2024-12-27 10:32:57,260 INFO status has been updated to accepted\n",
      "2024-12-27 11:29:37,392 INFO status has been updated to running\n",
      "2024-12-27 12:03:52,343 INFO status has been updated to successful\n"
     ]
    },
    {
     "data": {
      "application/vnd.jupyter.widget-view+json": {
       "model_id": "018c95a9f8ff44308ddb1aa275df830a",
       "version_major": 2,
       "version_minor": 0
      },
      "text/plain": [
       "6a84b382911d1806591e2aaddebca539.nc:   0%|          | 0.00/2.89G [00:00<?, ?B/s]"
      ]
     },
     "metadata": {},
     "output_type": "display_data"
    },
    {
     "name": "stderr",
     "output_type": "stream",
     "text": [
      "2024-12-27 12:08:02,332 WARNING [2024-10-10T00:00:00] From 1 July to 17 November 2024, the final ERA5 product is different to ERA5T due to the correction of [the assimilation of incorrect snow observations on the Alps](https://confluence.ecmwf.int/x/USuXGw)\n",
      "2024-12-27 12:08:02,333 INFO Request ID is c8ce6bde-bca6-4279-8c8e-5c88ec9fcfb3\n",
      "2024-12-27 12:08:02,591 INFO status has been updated to accepted\n",
      "2024-12-27 12:36:35,783 INFO status has been updated to running\n",
      "2024-12-27 13:06:44,773 INFO status has been updated to successful\n"
     ]
    },
    {
     "data": {
      "application/vnd.jupyter.widget-view+json": {
       "model_id": "8fb115de8d164d4da4bfc06feeab49e1",
       "version_major": 2,
       "version_minor": 0
      },
      "text/plain": [
       "3c720c12aed0c74bd63b8197a57f8143.nc:   0%|          | 0.00/3.01G [00:00<?, ?B/s]"
      ]
     },
     "metadata": {},
     "output_type": "display_data"
    },
    {
     "name": "stderr",
     "output_type": "stream",
     "text": [
      "2024-12-27 13:24:18,992 WARNING [2024-10-10T00:00:00] From 1 July to 17 November 2024, the final ERA5 product is different to ERA5T due to the correction of [the assimilation of incorrect snow observations on the Alps](https://confluence.ecmwf.int/x/USuXGw)\n",
      "2024-12-27 13:24:18,993 INFO Request ID is f7661d1c-93f4-422c-80a1-0a88cd2fd8ec\n",
      "2024-12-27 13:24:19,222 INFO status has been updated to accepted\n",
      "2024-12-27 13:36:40,902 INFO status has been updated to running\n"
     ]
    }
   ],
   "source": [
    "\n",
    "\n",
    "for year in years:\n",
    "    for month in months:\n",
    "        out_fol = '/media/nmathewa/nma_backup/Datasets/Datasets/era5_plevels_maritime/'\n",
    "        out_file = out_fol + 'era5_plevels_' + year + month + 'maritime'+'.nc'\n",
    "        request[\"year\"] = [year]\n",
    "        request[\"month\"] = [month]\n",
    "        client.retrieve(dataset, request).download(out_file)\n"
   ]
  }
 ],
 "metadata": {
  "kernelspec": {
   "display_name": "nma",
   "language": "python",
   "name": "python3"
  },
  "language_info": {
   "codemirror_mode": {
    "name": "ipython",
    "version": 3
   },
   "file_extension": ".py",
   "mimetype": "text/x-python",
   "name": "python",
   "nbconvert_exporter": "python",
   "pygments_lexer": "ipython3",
   "version": "3.12.2"
  }
 },
 "nbformat": 4,
 "nbformat_minor": 2
}
