{
 "cells": [
  {
   "cell_type": "code",
   "execution_count": 29,
   "metadata": {},
   "outputs": [
    {
     "name": "stderr",
     "output_type": "stream",
     "text": [
      "2025-04-07 14:29:14,785 INFO [2024-09-26T00:00:00] Watch our [Forum](https://forum.ecmwf.int/) for Announcements, news and other discussed topics.\n",
      "2025-04-07 14:29:14,786 WARNING [2024-06-16T00:00:00] CDS API syntax is changed and some keys or parameter names may have also changed. To avoid requests failing, please use the \"Show API request code\" tool on the dataset Download Form to check you are using the correct syntax for your API request.\n"
     ]
    }
   ],
   "source": [
    "import cdsapi\n",
    "\n",
    "\n",
    "months = [ \"09\",\n",
    "    \"10\", \"11\", \"12\"\n",
    "]\n",
    "\"\"\"\n",
    "months = [ \"01\",\n",
    "    \"02\", \"03\", \"04\",\n",
    "    \"05\", \"06\", \"07\",\n",
    "    \"08\", \"09\", \"10\",\n",
    "    \"11\", \"12\"\n",
    "]\"\n",
    "\"\"\"\n",
    "\"\"\"\n",
    "years = ['2001', '2002', '2003', '2004', '2005', '2006', '2007', '2008', '2009', '2010',\n",
    "            '2011', '2012', '2013']\"\n",
    "\"\"\"\n",
    "years = ['2013'] \n",
    "dataset = \"reanalysis-era5-land\"\n",
    "request = {\n",
    "    \"variable\": [\n",
    "        \"10m_u_component_of_wind\",\n",
    "        \"10m_v_component_of_wind\"\n",
    "    ],\n",
    "    \"year\": \"2013\",\n",
    "    \"month\": \"01\",\n",
    "    \"day\": [\n",
    "        \"01\", \"02\", \"03\",\n",
    "        \"04\", \"05\", \"06\",\n",
    "        \"07\", \"08\", \"09\",\n",
    "        \"10\", \"11\", \"12\",\n",
    "        \"13\", \"14\", \"15\",\n",
    "        \"16\", \"17\", \"18\",\n",
    "        \"19\", \"20\", \"21\",\n",
    "        \"22\", \"23\", \"24\",\n",
    "        \"25\", \"26\", \"27\",\n",
    "        \"28\", \"29\", \"30\",\n",
    "        \"31\"\n",
    "    ],\n",
    "    \"time\": [\n",
    "        \"00:00\", \"01:00\", \"02:00\",\n",
    "        \"03:00\", \"04:00\", \"05:00\",\n",
    "        \"06:00\", \"07:00\", \"08:00\",\n",
    "        \"09:00\", \"10:00\", \"11:00\",\n",
    "        \"12:00\", \"13:00\", \"14:00\",\n",
    "        \"15:00\", \"16:00\", \"17:00\",\n",
    "        \"18:00\", \"19:00\", \"20:00\",\n",
    "        \"21:00\", \"22:00\", \"23:00\"\n",
    "    ],\n",
    "    \"data_format\": \"netcdf\",\n",
    "    \"download_format\": \"unarchived\",\n",
    "    \"area\": [23.9, 83.85, -19.35, 169.72]\n",
    "}\n",
    "\n",
    "client = cdsapi.Client()\n",
    "\n",
    "\n"
   ]
  },
  {
   "cell_type": "code",
   "execution_count": 36,
   "metadata": {},
   "outputs": [
    {
     "name": "stderr",
     "output_type": "stream",
     "text": [
      "2025-04-07 16:52:43,035 INFO [2024-09-26T00:00:00] Watch our [Forum](https://forum.ecmwf.int/) for Announcements, news and other discussed topics.\n",
      "2025-04-07 16:52:43,036 WARNING [2024-06-16T00:00:00] CDS API syntax is changed and some keys or parameter names may have also changed. To avoid requests failing, please use the \"Show API request code\" tool on the dataset Download Form to check you are using the correct syntax for your API request.\n"
     ]
    }
   ],
   "source": [
    "import numpy as np \n",
    "import cdsapi\n",
    "\n",
    "\n",
    "\n",
    "years = np.arange(1940, 2025)\n",
    "\n",
    "new_years = list(map(str, list(years)))\n",
    "\n",
    "dataset = \"reanalysis-era5-single-levels\"\n",
    "request = {\n",
    "    \"product_type\": [\"reanalysis\"],\n",
    "    \"variable\": [\n",
    "        \"10m_u_component_of_wind\",\n",
    "        \"10m_v_component_of_wind\"\n",
    "    ],\n",
    "    \"year\": [\"1940\"],\n",
    "    \"month\": [\n",
    "        \"01\", \"02\", \"03\",\n",
    "        \"04\", \"05\", \"06\",\n",
    "        \"07\", \"08\", \"09\",\n",
    "        \"10\", \"11\", \"12\"\n",
    "    ],\n",
    "    \"day\": [\n",
    "        \"01\", \"02\", \"03\",\n",
    "        \"04\", \"05\", \"06\",\n",
    "        \"07\", \"08\", \"09\",\n",
    "        \"10\", \"11\", \"12\",\n",
    "        \"13\", \"14\", \"15\",\n",
    "        \"16\", \"17\", \"18\",\n",
    "        \"19\", \"20\", \"21\",\n",
    "        \"22\", \"23\", \"24\",\n",
    "        \"25\", \"26\", \"27\",\n",
    "        \"28\", \"29\", \"30\",\n",
    "        \"31\"\n",
    "    ],\n",
    "    \"time\": [\n",
    "        \"00:00\", \"01:00\", \"02:00\",\n",
    "        \"03:00\", \"04:00\", \"05:00\",\n",
    "        \"06:00\", \"07:00\", \"08:00\",\n",
    "        \"09:00\", \"10:00\", \"11:00\",\n",
    "        \"12:00\", \"13:00\", \"14:00\",\n",
    "        \"15:00\", \"16:00\", \"17:00\",\n",
    "        \"18:00\", \"19:00\", \"20:00\",\n",
    "        \"21:00\", \"22:00\", \"23:00\"\n",
    "    ],\n",
    "    \"data_format\": \"netcdf\",\n",
    "    \"download_format\": \"unarchived\",\n",
    "    \"area\": [29, -81, 27, -79]\n",
    "}\n",
    "\n",
    "client = cdsapi.Client()\n"
   ]
  },
  {
   "cell_type": "code",
   "execution_count": 1,
   "metadata": {},
   "outputs": [
    {
     "name": "stderr",
     "output_type": "stream",
     "text": [
      "2025-04-15 10:02:12,804 INFO [2024-09-26T00:00:00] Watch our [Forum](https://forum.ecmwf.int/) for Announcements, news and other discussed topics.\n",
      "2025-04-15 10:02:12,804 WARNING [2024-06-16T00:00:00] CDS API syntax is changed and some keys or parameter names may have also changed. To avoid requests failing, please use the \"Show API request code\" tool on the dataset Download Form to check you are using the correct syntax for your API request.\n"
     ]
    }
   ],
   "source": [
    "import cdsapi\n",
    "\n",
    "\n",
    "\n",
    "years = [2000, 2001, 2002, 2003, 2004, 2005, 2006, 2007, 2008, 2009, 2010,\n",
    "         2011, 2012, 2013, 2014]\n",
    "\n",
    "\n",
    "\n",
    "\n",
    "dataset = \"reanalysis-era5-single-levels\"\n",
    "request = {\n",
    "    \"product_type\": [\"reanalysis\"],\n",
    "    \"variable\": [\n",
    "        \"10m_u_component_of_wind\",\n",
    "        \"10m_v_component_of_wind\",\n",
    "        \"mean_sea_level_pressure\"\n",
    "    ],\n",
    "    \"year\": [\"2001\"],\n",
    "    \"month\": [\n",
    "        \"01\", \"02\", \"03\",\n",
    "        \"04\", \"05\", \"06\",\n",
    "        \"07\", \"08\", \"09\",\n",
    "        \"10\", \"11\", \"12\"\n",
    "    ],\n",
    "    \"day\": [\n",
    "        \"01\", \"02\", \"03\",\n",
    "        \"04\", \"05\", \"06\",\n",
    "        \"07\", \"08\", \"09\",\n",
    "        \"10\", \"11\", \"12\",\n",
    "        \"13\", \"14\", \"15\",\n",
    "        \"16\", \"17\", \"18\",\n",
    "        \"19\", \"20\", \"21\",\n",
    "        \"22\", \"23\", \"24\",\n",
    "        \"25\", \"26\", \"27\",\n",
    "        \"28\", \"29\", \"30\",\n",
    "        \"31\"\n",
    "    ],\n",
    "    \"time\": [\n",
    "        \"00:00\", \"01:00\", \"02:00\",\n",
    "        \"03:00\", \"04:00\", \"05:00\",\n",
    "        \"06:00\", \"07:00\", \"08:00\",\n",
    "        \"09:00\", \"10:00\", \"11:00\",\n",
    "        \"12:00\", \"13:00\", \"14:00\",\n",
    "        \"15:00\", \"16:00\", \"17:00\",\n",
    "        \"18:00\", \"19:00\", \"20:00\",\n",
    "        \"21:00\", \"22:00\", \"23:00\"\n",
    "    ],\n",
    "    \"data_format\": \"netcdf\",\n",
    "    \"download_format\": \"unarchived\",\n",
    "    \"area\": [23.9, 83.85, -19.35, 169.72]\n",
    "}\n",
    "\n",
    "client = cdsapi.Client()\n"
   ]
  },
  {
   "cell_type": "code",
   "execution_count": 4,
   "metadata": {},
   "outputs": [
    {
     "name": "stderr",
     "output_type": "stream",
     "text": [
      "2025-04-15 12:35:06,670 INFO Request ID is d1914078-9a60-4065-9270-aeac6483f2e0\n",
      "2025-04-15 12:35:06,864 INFO status has been updated to accepted\n",
      "2025-04-15 12:35:21,025 INFO status has been updated to running\n",
      "2025-04-15 13:09:35,086 INFO status has been updated to successful\n"
     ]
    },
    {
     "data": {
      "application/vnd.jupyter.widget-view+json": {
       "model_id": "1dfc26e46e0a4363a72b1e4e67e6c9a7",
       "version_major": 2,
       "version_minor": 0
      },
      "text/plain": [
       "833433a3b85f65d7d32ee38aad44e9f7.nc:   0%|          | 0.00/3.09G [00:00<?, ?B/s]"
      ]
     },
     "metadata": {},
     "output_type": "display_data"
    },
    {
     "name": "stderr",
     "output_type": "stream",
     "text": [
      "2025-04-15 13:13:34,983 INFO Request ID is fa9f9f50-4a45-4bdc-a351-1b81ee43793f\n",
      "2025-04-15 13:13:35,141 INFO status has been updated to accepted\n",
      "2025-04-15 13:13:44,372 INFO status has been updated to running\n",
      "2025-04-15 13:50:03,795 INFO status has been updated to successful\n"
     ]
    },
    {
     "data": {
      "application/vnd.jupyter.widget-view+json": {
       "model_id": "410320666c7344ca92f8d182a6c9bb4d",
       "version_major": 2,
       "version_minor": 0
      },
      "text/plain": [
       "555520c4bc9932fe9902267f8c3ff0ae.nc:   0%|          | 0.00/3.09G [00:00<?, ?B/s]"
      ]
     },
     "metadata": {},
     "output_type": "display_data"
    },
    {
     "name": "stderr",
     "output_type": "stream",
     "text": [
      "2025-04-15 14:27:36,415 INFO Request ID is 5a8c4237-2140-410f-ae1c-be4a9723e6cd\n",
      "2025-04-15 14:27:36,580 INFO status has been updated to accepted\n",
      "2025-04-15 14:27:50,707 INFO status has been updated to running\n",
      "2025-04-15 15:08:05,710 INFO status has been updated to successful\n"
     ]
    },
    {
     "data": {
      "application/vnd.jupyter.widget-view+json": {
       "model_id": "c42067eca7294aaa83aabc9eff4edbf1",
       "version_major": 2,
       "version_minor": 0
      },
      "text/plain": [
       "85990adb31c6ed45de342a1469a37a7.nc:   0%|          | 0.00/3.08G [00:00<?, ?B/s]"
      ]
     },
     "metadata": {},
     "output_type": "display_data"
    },
    {
     "name": "stderr",
     "output_type": "stream",
     "text": [
      "2025-04-15 15:11:07,721 INFO Request ID is 22a5191a-a09d-4cb6-9e69-8ba5fa079361\n",
      "2025-04-15 15:11:07,893 INFO status has been updated to accepted\n",
      "2025-04-15 15:11:16,725 INFO status has been updated to running\n",
      "2025-04-15 16:09:47,541 INFO status has been updated to successful\n"
     ]
    },
    {
     "data": {
      "application/vnd.jupyter.widget-view+json": {
       "model_id": "3bc0f5b7bb8e42968a2f084664607297",
       "version_major": 2,
       "version_minor": 0
      },
      "text/plain": [
       "f62b8c44deb09e1d9a03003f8d203e4a.nc:   0%|          | 0.00/3.11G [00:00<?, ?B/s]"
      ]
     },
     "metadata": {},
     "output_type": "display_data"
    },
    {
     "name": "stderr",
     "output_type": "stream",
     "text": [
      "2025-04-15 16:15:58,677 INFO Request ID is 95ffe860-6762-44a8-a960-6678247c1a61\n",
      "2025-04-15 16:15:58,870 INFO status has been updated to accepted\n",
      "2025-04-15 16:16:32,839 INFO status has been updated to running\n",
      "2025-04-15 16:52:26,945 INFO status has been updated to successful\n"
     ]
    },
    {
     "data": {
      "application/vnd.jupyter.widget-view+json": {
       "model_id": "e02d542837ec44f3a41f922a6c7311ab",
       "version_major": 2,
       "version_minor": 0
      },
      "text/plain": [
       "287140da8f3e8fe060554438ca0293b0.nc:   0%|          | 0.00/3.11G [00:00<?, ?B/s]"
      ]
     },
     "metadata": {},
     "output_type": "display_data"
    },
    {
     "name": "stderr",
     "output_type": "stream",
     "text": [
      "2025-04-15 16:58:06,924 INFO Request ID is c28b82dd-ea9c-4403-b70d-0d5f593f4dec\n",
      "2025-04-15 16:58:07,077 INFO status has been updated to accepted\n",
      "2025-04-15 16:58:16,322 INFO status has been updated to running\n",
      "2025-04-15 17:34:35,783 INFO status has been updated to successful\n"
     ]
    },
    {
     "data": {
      "application/vnd.jupyter.widget-view+json": {
       "model_id": "4b71487d786f457eb2c10a61fb571250",
       "version_major": 2,
       "version_minor": 0
      },
      "text/plain": [
       "f2f870a33ee3749eda771fb89494bbfd.nc:   0%|          | 0.00/3.10G [00:00<?, ?B/s]"
      ]
     },
     "metadata": {},
     "output_type": "display_data"
    },
    {
     "name": "stderr",
     "output_type": "stream",
     "text": [
      "2025-04-15 17:43:50,349 INFO Request ID is a299fabf-4f2a-4af0-a2ca-fdf0ebeaf79f\n",
      "2025-04-15 17:43:50,506 INFO status has been updated to accepted\n",
      "2025-04-15 17:44:04,802 INFO status has been updated to running\n",
      "2025-04-15 18:20:17,944 INFO status has been updated to successful\n"
     ]
    },
    {
     "data": {
      "application/vnd.jupyter.widget-view+json": {
       "model_id": "2579caebc90941a49272314323f86953",
       "version_major": 2,
       "version_minor": 0
      },
      "text/plain": [
       "697f552eb931a720d80e82fe58452edf.nc:   0%|          | 0.00/3.07G [00:00<?, ?B/s]"
      ]
     },
     "metadata": {},
     "output_type": "display_data"
    },
    {
     "name": "stderr",
     "output_type": "stream",
     "text": [
      "2025-04-15 18:30:41,131 INFO Request ID is 2a40f17b-a141-475c-9e8a-16fd657a01b1\n",
      "2025-04-15 18:30:41,398 INFO status has been updated to accepted\n",
      "2025-04-15 18:31:03,320 INFO status has been updated to running\n",
      "2025-04-15 19:09:19,307 INFO status has been updated to successful\n"
     ]
    },
    {
     "data": {
      "application/vnd.jupyter.widget-view+json": {
       "model_id": "6c20386a840a4d2f80cc612439fe1fad",
       "version_major": 2,
       "version_minor": 0
      },
      "text/plain": [
       "949c3d764984ef8ec4321fab946d530a.nc:   0%|          | 0.00/3.09G [00:00<?, ?B/s]"
      ]
     },
     "metadata": {},
     "output_type": "display_data"
    },
    {
     "name": "stderr",
     "output_type": "stream",
     "text": [
      "2025-04-15 19:19:53,928 INFO Request ID is 94e061f4-4692-4286-bb3d-ec0069cd94b4\n",
      "2025-04-15 19:19:54,100 INFO status has been updated to accepted\n",
      "2025-04-15 19:20:15,980 INFO status has been updated to running\n",
      "2025-04-15 19:58:22,938 INFO status has been updated to successful\n"
     ]
    },
    {
     "data": {
      "application/vnd.jupyter.widget-view+json": {
       "model_id": "4af532d3acaf409a94f31dcbf9cedcfe",
       "version_major": 2,
       "version_minor": 0
      },
      "text/plain": [
       "285ae92a60bd4c29aa2e305c5229a83c.nc:   0%|          | 0.00/3.09G [00:00<?, ?B/s]"
      ]
     },
     "metadata": {},
     "output_type": "display_data"
    },
    {
     "name": "stderr",
     "output_type": "stream",
     "text": [
      "2025-04-15 20:03:25,106 INFO Request ID is 2d57538f-4b9f-4214-bc91-b64dd00cf340\n",
      "2025-04-15 20:03:25,277 INFO status has been updated to accepted\n",
      "2025-04-15 20:03:34,107 INFO status has been updated to running\n",
      "2025-04-15 20:40:03,453 INFO status has been updated to successful\n"
     ]
    },
    {
     "data": {
      "application/vnd.jupyter.widget-view+json": {
       "model_id": "821fd54c090f430e8a59537e889e6eab",
       "version_major": 2,
       "version_minor": 0
      },
      "text/plain": [
       "f096200cc3d231324f74ff988f57397.nc:   0%|          | 0.00/3.10G [00:00<?, ?B/s]"
      ]
     },
     "metadata": {},
     "output_type": "display_data"
    },
    {
     "name": "stderr",
     "output_type": "stream",
     "text": [
      "2025-04-15 20:56:41,230 INFO Request ID is af9fcf08-8b06-4645-8e64-9b7ff52b0ead\n",
      "2025-04-15 20:56:41,387 INFO status has been updated to accepted\n",
      "2025-04-15 20:56:55,404 INFO status has been updated to running\n",
      "2025-04-15 21:31:13,545 INFO status has been updated to successful\n"
     ]
    },
    {
     "data": {
      "application/vnd.jupyter.widget-view+json": {
       "model_id": "396c6aa308f743139c4f87353b788ea9",
       "version_major": 2,
       "version_minor": 0
      },
      "text/plain": [
       "983ff7692e5ef27a9547d660125723eb.nc:   0%|          | 0.00/3.10G [00:00<?, ?B/s]"
      ]
     },
     "metadata": {},
     "output_type": "display_data"
    },
    {
     "name": "stderr",
     "output_type": "stream",
     "text": [
      "2025-04-15 21:36:31,985 INFO Request ID is da2fd4f1-3472-4b1a-a99e-3f4e09a2b22f\n",
      "2025-04-15 21:36:32,155 INFO status has been updated to accepted\n",
      "2025-04-15 21:36:46,614 INFO status has been updated to running\n",
      "2025-04-15 22:13:04,924 INFO status has been updated to successful\n"
     ]
    },
    {
     "data": {
      "application/vnd.jupyter.widget-view+json": {
       "model_id": "20308f315c854e11a80bd7f891d3d66e",
       "version_major": 2,
       "version_minor": 0
      },
      "text/plain": [
       "f36c50bdb8efe188cd179adf8f33c1f7.nc:   0%|          | 0.00/3.09G [00:00<?, ?B/s]"
      ]
     },
     "metadata": {},
     "output_type": "display_data"
    },
    {
     "name": "stderr",
     "output_type": "stream",
     "text": [
      "2025-04-15 22:19:57,242 INFO Request ID is 53f489a0-e34f-4567-8d30-f97774fb0620\n",
      "2025-04-15 22:19:57,394 INFO status has been updated to accepted\n",
      "2025-04-15 22:20:06,483 INFO status has been updated to running\n",
      "2025-04-15 22:52:29,290 INFO status has been updated to successful\n"
     ]
    },
    {
     "data": {
      "application/vnd.jupyter.widget-view+json": {
       "model_id": "4b90aaf7f14d45668c7b7cdb51727833",
       "version_major": 2,
       "version_minor": 0
      },
      "text/plain": [
       "ac6f22cdb10571794f6d250225069bf2.nc:   0%|          | 0.00/3.11G [00:00<?, ?B/s]"
      ]
     },
     "metadata": {},
     "output_type": "display_data"
    },
    {
     "name": "stderr",
     "output_type": "stream",
     "text": [
      "2025-04-15 22:58:25,643 INFO Request ID is c623e93a-34b8-41da-a43d-9bae1ab429f4\n",
      "2025-04-15 22:58:25,805 INFO status has been updated to accepted\n",
      "2025-04-15 23:10:47,845 INFO status has been updated to running\n",
      "2025-04-15 23:44:55,456 INFO status has been updated to successful\n"
     ]
    },
    {
     "data": {
      "application/vnd.jupyter.widget-view+json": {
       "model_id": "a0452c71434348f5a7983512fa8fbcf8",
       "version_major": 2,
       "version_minor": 0
      },
      "text/plain": [
       "b8a3f0e62655606abb6e0891414a839b.nc:   0%|          | 0.00/3.11G [00:00<?, ?B/s]"
      ]
     },
     "metadata": {},
     "output_type": "display_data"
    },
    {
     "name": "stderr",
     "output_type": "stream",
     "text": [
      "2025-04-15 23:55:30,275 INFO Request ID is 0d752c92-d22b-4309-82a6-684900c85e31\n",
      "2025-04-15 23:55:30,427 INFO status has been updated to accepted\n",
      "2025-04-16 00:54:08,034 INFO status has been updated to running\n",
      "2025-04-16 01:30:16,583 INFO status has been updated to successful\n"
     ]
    },
    {
     "data": {
      "application/vnd.jupyter.widget-view+json": {
       "model_id": "1de369da0335417784704537a5e1ea1c",
       "version_major": 2,
       "version_minor": 0
      },
      "text/plain": [
       "53c38794978cf342635b51dd20248a27.nc:   0%|          | 0.00/3.11G [00:00<?, ?B/s]"
      ]
     },
     "metadata": {},
     "output_type": "display_data"
    },
    {
     "data": {
      "text/plain": [
       "'\\nfor year in new_years:\\n    out_file = out_fol + \\'era5_single_uandv_\\' + year + \\'_capecanaveral\\'+\\'.nc\\'\\n    request[\"year\"] = [year]\\n    client.retrieve(dataset, request).download(out_file)\\n    print(\\'Downloaded: \\', out_file)\\n\\n'"
      ]
     },
     "execution_count": 4,
     "metadata": {},
     "output_type": "execute_result"
    }
   ],
   "source": [
    "import os\n",
    "#out_fol = '/media/nmathewa/nma_backup/Datasets/Datasets/ERA5_land_maritime/u10_and_v10_2000_2014/'\n",
    "\n",
    "#out_fol = '/media/nmathewa/nma_backup/Datasets/CAPE_Canvaeral_ERA_single_1940_2025/'\n",
    "\n",
    "out_fol = '/media/nmathewa/nma_backup/Datasets/Datasets/ERA5_single_level_Maritime/wind_and_mslp_2000_2014/'\n",
    "\n",
    "if os.path.exists(out_fol) == False:\n",
    "    os.makedirs(out_fol)\n",
    "for year in years:\n",
    "    out_file = out_fol + 'era5_level_t2m_sst_' + str(year) +'.nc'\n",
    "    request[\"year\"] = [year]\n",
    "    client.retrieve(dataset, request).download(out_file)\n",
    "\n",
    "\n",
    "\"\"\"\n",
    "for year in new_years:\n",
    "    out_file = out_fol + 'era5_single_uandv_' + year + '_capecanaveral'+'.nc'\n",
    "    request[\"year\"] = [year]\n",
    "    client.retrieve(dataset, request).download(out_file)\n",
    "    print('Downloaded: ', out_file)\n",
    "\n",
    "\"\"\"\n",
    "\n",
    "\n"
   ]
  }
 ],
 "metadata": {
  "kernelspec": {
   "display_name": "nma",
   "language": "python",
   "name": "python3"
  },
  "language_info": {
   "codemirror_mode": {
    "name": "ipython",
    "version": 3
   },
   "file_extension": ".py",
   "mimetype": "text/x-python",
   "name": "python",
   "nbconvert_exporter": "python",
   "pygments_lexer": "ipython3",
   "version": "3.13.2"
  }
 },
 "nbformat": 4,
 "nbformat_minor": 2
}
