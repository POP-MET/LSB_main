{
 "cells": [
  {
   "cell_type": "code",
   "execution_count": 2,
   "metadata": {},
   "outputs": [
    {
     "name": "stderr",
     "output_type": "stream",
     "text": [
      "Exception in callback multi_future.<locals>.callback() at /home1/nalex2023/.conda/envs/nma/lib/python3.13/site-packages/tornado/gen.py:523\n",
      "handle: <Handle multi_future.<locals>.callback() at /home1/nalex2023/.conda/envs/nma/lib/python3.13/site-packages/tornado/gen.py:523>\n",
      "Traceback (most recent call last):\n",
      "  File \"/home1/nalex2023/.conda/envs/nma/lib/python3.13/asyncio/events.py\", line 89, in _run\n",
      "    self._context.run(self._callback, *self._args)\n",
      "    ~~~~~~~~~~~~~~~~~^^^^^^^^^^^^^^^^^^^^^^^^^^^^^\n",
      "  File \"/home1/nalex2023/.conda/envs/nma/lib/python3.13/site-packages/tornado/gen.py\", line 529, in callback\n",
      "    result_list.append(f.result())\n",
      "                       ~~~~~~~~^^\n",
      "  File \"/home1/nalex2023/.conda/envs/nma/lib/python3.13/site-packages/bokeh/server/session.py\", line 88, in _needs_document_lock_wrapper\n",
      "    with await self._lock.acquire():\n",
      "         ^^^^^^^^^^^^^^^^^^^^^^^^^^\n",
      "asyncio.exceptions.CancelledError\n",
      "Exception in callback multi_future.<locals>.callback() at /home1/nalex2023/.conda/envs/nma/lib/python3.13/site-packages/tornado/gen.py:523\n",
      "handle: <Handle multi_future.<locals>.callback() at /home1/nalex2023/.conda/envs/nma/lib/python3.13/site-packages/tornado/gen.py:523>\n",
      "Traceback (most recent call last):\n",
      "  File \"/home1/nalex2023/.conda/envs/nma/lib/python3.13/asyncio/events.py\", line 89, in _run\n",
      "    self._context.run(self._callback, *self._args)\n",
      "    ~~~~~~~~~~~~~~~~~^^^^^^^^^^^^^^^^^^^^^^^^^^^^^\n",
      "  File \"/home1/nalex2023/.conda/envs/nma/lib/python3.13/site-packages/tornado/gen.py\", line 529, in callback\n",
      "    result_list.append(f.result())\n",
      "                       ~~~~~~~~^^\n",
      "  File \"/home1/nalex2023/.conda/envs/nma/lib/python3.13/site-packages/bokeh/server/session.py\", line 88, in _needs_document_lock_wrapper\n",
      "    with await self._lock.acquire():\n",
      "         ^^^^^^^^^^^^^^^^^^^^^^^^^^\n",
      "asyncio.exceptions.CancelledError\n",
      "Exception in callback multi_future.<locals>.callback() at /home1/nalex2023/.conda/envs/nma/lib/python3.13/site-packages/tornado/gen.py:523\n",
      "handle: <Handle multi_future.<locals>.callback() at /home1/nalex2023/.conda/envs/nma/lib/python3.13/site-packages/tornado/gen.py:523>\n",
      "Traceback (most recent call last):\n",
      "  File \"/home1/nalex2023/.conda/envs/nma/lib/python3.13/asyncio/events.py\", line 89, in _run\n",
      "    self._context.run(self._callback, *self._args)\n",
      "    ~~~~~~~~~~~~~~~~~^^^^^^^^^^^^^^^^^^^^^^^^^^^^^\n",
      "  File \"/home1/nalex2023/.conda/envs/nma/lib/python3.13/site-packages/tornado/gen.py\", line 529, in callback\n",
      "    result_list.append(f.result())\n",
      "                       ~~~~~~~~^^\n",
      "  File \"/home1/nalex2023/.conda/envs/nma/lib/python3.13/site-packages/bokeh/server/session.py\", line 88, in _needs_document_lock_wrapper\n",
      "    with await self._lock.acquire():\n",
      "         ^^^^^^^^^^^^^^^^^^^^^^^^^^\n",
      "asyncio.exceptions.CancelledError\n",
      "Exception in callback multi_future.<locals>.callback() at /home1/nalex2023/.conda/envs/nma/lib/python3.13/site-packages/tornado/gen.py:523\n",
      "handle: <Handle multi_future.<locals>.callback() at /home1/nalex2023/.conda/envs/nma/lib/python3.13/site-packages/tornado/gen.py:523>\n",
      "Traceback (most recent call last):\n",
      "  File \"/home1/nalex2023/.conda/envs/nma/lib/python3.13/asyncio/events.py\", line 89, in _run\n",
      "    self._context.run(self._callback, *self._args)\n",
      "    ~~~~~~~~~~~~~~~~~^^^^^^^^^^^^^^^^^^^^^^^^^^^^^\n",
      "  File \"/home1/nalex2023/.conda/envs/nma/lib/python3.13/site-packages/tornado/gen.py\", line 529, in callback\n",
      "    result_list.append(f.result())\n",
      "                       ~~~~~~~~^^\n",
      "  File \"/home1/nalex2023/.conda/envs/nma/lib/python3.13/site-packages/bokeh/server/session.py\", line 88, in _needs_document_lock_wrapper\n",
      "    with await self._lock.acquire():\n",
      "         ^^^^^^^^^^^^^^^^^^^^^^^^^^\n",
      "asyncio.exceptions.CancelledError\n",
      "Exception in callback multi_future.<locals>.callback() at /home1/nalex2023/.conda/envs/nma/lib/python3.13/site-packages/tornado/gen.py:523\n",
      "handle: <Handle multi_future.<locals>.callback() at /home1/nalex2023/.conda/envs/nma/lib/python3.13/site-packages/tornado/gen.py:523>\n",
      "Traceback (most recent call last):\n",
      "  File \"/home1/nalex2023/.conda/envs/nma/lib/python3.13/asyncio/events.py\", line 89, in _run\n",
      "    self._context.run(self._callback, *self._args)\n",
      "    ~~~~~~~~~~~~~~~~~^^^^^^^^^^^^^^^^^^^^^^^^^^^^^\n",
      "  File \"/home1/nalex2023/.conda/envs/nma/lib/python3.13/site-packages/tornado/gen.py\", line 529, in callback\n",
      "    result_list.append(f.result())\n",
      "                       ~~~~~~~~^^\n",
      "  File \"/home1/nalex2023/.conda/envs/nma/lib/python3.13/site-packages/bokeh/server/session.py\", line 88, in _needs_document_lock_wrapper\n",
      "    with await self._lock.acquire():\n",
      "         ^^^^^^^^^^^^^^^^^^^^^^^^^^\n",
      "asyncio.exceptions.CancelledError\n",
      "Exception in callback multi_future.<locals>.callback() at /home1/nalex2023/.conda/envs/nma/lib/python3.13/site-packages/tornado/gen.py:523\n",
      "handle: <Handle multi_future.<locals>.callback() at /home1/nalex2023/.conda/envs/nma/lib/python3.13/site-packages/tornado/gen.py:523>\n",
      "Traceback (most recent call last):\n",
      "  File \"/home1/nalex2023/.conda/envs/nma/lib/python3.13/asyncio/events.py\", line 89, in _run\n",
      "    self._context.run(self._callback, *self._args)\n",
      "    ~~~~~~~~~~~~~~~~~^^^^^^^^^^^^^^^^^^^^^^^^^^^^^\n",
      "  File \"/home1/nalex2023/.conda/envs/nma/lib/python3.13/site-packages/tornado/gen.py\", line 529, in callback\n",
      "    result_list.append(f.result())\n",
      "                       ~~~~~~~~^^\n",
      "  File \"/home1/nalex2023/.conda/envs/nma/lib/python3.13/site-packages/bokeh/server/session.py\", line 88, in _needs_document_lock_wrapper\n",
      "    with await self._lock.acquire():\n",
      "         ^^^^^^^^^^^^^^^^^^^^^^^^^^\n",
      "asyncio.exceptions.CancelledError\n"
     ]
    }
   ],
   "source": [
    "from dask_jobqueue import SLURMCluster\n",
    "import matplotlib.pyplot as plt \n",
    "import glob\n",
    "import os\n",
    "import xarray as xr \n",
    "import pandas as pd\n",
    "import numpy as np\n",
    "\n",
    "\n",
    "from dask_jobqueue import SLURMCluster\n",
    "\n",
    "cluster = SLURMCluster(\n",
    "    job_name=\"Climt1\",          # --job-name\n",
    "    cores=12,                     # Number of cores per task (adjust if needed)\n",
    "    processes=6,                 # One process per task\n",
    "    memory=\"100GB\",               # --mem\n",
    "    walltime=\"01:15:00\",         # --time\n",
    "    queue=\"med\",               # --partition\n",
    "    log_directory=\".\",           # Logs will be saved to the current directory\n",
    ")\n",
    "\n",
    "\n",
    "from dask.distributed import Client\n",
    "\n",
    "\n",
    "cluster.scale(jobs=10)\n",
    "client = Client(cluster)\n"
   ]
  },
  {
   "cell_type": "code",
   "execution_count": 73,
   "metadata": {},
   "outputs": [],
   "source": [
    "client.close()\n",
    "cluster.close()"
   ]
  },
  {
   "cell_type": "code",
   "execution_count": null,
   "metadata": {},
   "outputs": [
    {
     "data": {
      "application/vnd.microsoft.datawrangler.viewer.v0+json": {
       "columns": [
        {
         "name": "index",
         "rawType": "int64",
         "type": "integer"
        },
        {
         "name": "filepath",
         "rawType": "object",
         "type": "string"
        },
        {
         "name": "filename",
         "rawType": "object",
         "type": "string"
        },
        {
         "name": "datetime",
         "rawType": "datetime64[ns]",
         "type": "datetime"
        }
       ],
       "conversionMethod": "pd.DataFrame",
       "ref": "9ef9dd19-386a-40da-8179-ad16ee8fac48",
       "rows": [
        [
         "2516",
         "/home1/nalex2023/Datasets/met_manus/twpmetC1.b1.20000101.000000.cdf",
         "twpmetC1.b1.20000101.000000.cdf",
         "2000-01-01 00:00:00"
        ],
        [
         "3481",
         "/home1/nalex2023/Datasets/met_manus/twpmetC1.b1.20000102.000001.cdf",
         "twpmetC1.b1.20000102.000001.cdf",
         "2000-01-02 00:00:01"
        ],
        [
         "867",
         "/home1/nalex2023/Datasets/met_manus/twpmetC1.b1.20000103.000000.cdf",
         "twpmetC1.b1.20000103.000000.cdf",
         "2000-01-03 00:00:00"
        ],
        [
         "1904",
         "/home1/nalex2023/Datasets/met_manus/twpmetC1.b1.20000104.000001.cdf",
         "twpmetC1.b1.20000104.000001.cdf",
         "2000-01-04 00:00:01"
        ],
        [
         "6043",
         "/home1/nalex2023/Datasets/met_manus/twpmetC1.b1.20000105.000000.cdf",
         "twpmetC1.b1.20000105.000000.cdf",
         "2000-01-05 00:00:00"
        ],
        [
         "2190",
         "/home1/nalex2023/Datasets/met_manus/twpmetC1.b1.20000106.000000.cdf",
         "twpmetC1.b1.20000106.000000.cdf",
         "2000-01-06 00:00:00"
        ],
        [
         "5581",
         "/home1/nalex2023/Datasets/met_manus/twpmetC1.b1.20000107.000001.cdf",
         "twpmetC1.b1.20000107.000001.cdf",
         "2000-01-07 00:00:01"
        ],
        [
         "2335",
         "/home1/nalex2023/Datasets/met_manus/twpmetC1.b1.20000108.000001.cdf",
         "twpmetC1.b1.20000108.000001.cdf",
         "2000-01-08 00:00:01"
        ],
        [
         "3349",
         "/home1/nalex2023/Datasets/met_manus/twpmetC1.b1.20000109.000001.cdf",
         "twpmetC1.b1.20000109.000001.cdf",
         "2000-01-09 00:00:01"
        ],
        [
         "2147",
         "/home1/nalex2023/Datasets/met_manus/twpmetC1.b1.20000110.000000.cdf",
         "twpmetC1.b1.20000110.000000.cdf",
         "2000-01-10 00:00:00"
        ],
        [
         "4279",
         "/home1/nalex2023/Datasets/met_manus/twpmetC1.b1.20000111.000000.cdf",
         "twpmetC1.b1.20000111.000000.cdf",
         "2000-01-11 00:00:00"
        ],
        [
         "1942",
         "/home1/nalex2023/Datasets/met_manus/twpmetC1.b1.20000112.000001.cdf",
         "twpmetC1.b1.20000112.000001.cdf",
         "2000-01-12 00:00:01"
        ],
        [
         "3879",
         "/home1/nalex2023/Datasets/met_manus/twpmetC1.b1.20000113.000001.cdf",
         "twpmetC1.b1.20000113.000001.cdf",
         "2000-01-13 00:00:01"
        ],
        [
         "4812",
         "/home1/nalex2023/Datasets/met_manus/twpmetC1.b1.20000114.000000.cdf",
         "twpmetC1.b1.20000114.000000.cdf",
         "2000-01-14 00:00:00"
        ],
        [
         "814",
         "/home1/nalex2023/Datasets/met_manus/twpmetC1.b1.20000115.000000.cdf",
         "twpmetC1.b1.20000115.000000.cdf",
         "2000-01-15 00:00:00"
        ],
        [
         "3193",
         "/home1/nalex2023/Datasets/met_manus/twpmetC1.b1.20000116.000000.cdf",
         "twpmetC1.b1.20000116.000000.cdf",
         "2000-01-16 00:00:00"
        ],
        [
         "1368",
         "/home1/nalex2023/Datasets/met_manus/twpmetC1.b1.20000117.000001.cdf",
         "twpmetC1.b1.20000117.000001.cdf",
         "2000-01-17 00:00:01"
        ],
        [
         "5333",
         "/home1/nalex2023/Datasets/met_manus/twpmetC1.b1.20000118.000000.cdf",
         "twpmetC1.b1.20000118.000000.cdf",
         "2000-01-18 00:00:00"
        ],
        [
         "1977",
         "/home1/nalex2023/Datasets/met_manus/twpmetC1.b1.20000119.000001.cdf",
         "twpmetC1.b1.20000119.000001.cdf",
         "2000-01-19 00:00:01"
        ],
        [
         "4099",
         "/home1/nalex2023/Datasets/met_manus/twpmetC1.b1.20000120.000000.cdf",
         "twpmetC1.b1.20000120.000000.cdf",
         "2000-01-20 00:00:00"
        ],
        [
         "749",
         "/home1/nalex2023/Datasets/met_manus/twpmetC1.b1.20000121.000001.cdf",
         "twpmetC1.b1.20000121.000001.cdf",
         "2000-01-21 00:00:01"
        ],
        [
         "5506",
         "/home1/nalex2023/Datasets/met_manus/twpmetC1.b1.20000122.000000.cdf",
         "twpmetC1.b1.20000122.000000.cdf",
         "2000-01-22 00:00:00"
        ],
        [
         "2109",
         "/home1/nalex2023/Datasets/met_manus/twpmetC1.b1.20000123.000001.cdf",
         "twpmetC1.b1.20000123.000001.cdf",
         "2000-01-23 00:00:01"
        ],
        [
         "1400",
         "/home1/nalex2023/Datasets/met_manus/twpmetC1.b1.20000124.000000.cdf",
         "twpmetC1.b1.20000124.000000.cdf",
         "2000-01-24 00:00:00"
        ],
        [
         "5006",
         "/home1/nalex2023/Datasets/met_manus/twpmetC1.b1.20000125.000000.cdf",
         "twpmetC1.b1.20000125.000000.cdf",
         "2000-01-25 00:00:00"
        ],
        [
         "2740",
         "/home1/nalex2023/Datasets/met_manus/twpmetC1.b1.20000126.000000.cdf",
         "twpmetC1.b1.20000126.000000.cdf",
         "2000-01-26 00:00:00"
        ],
        [
         "4593",
         "/home1/nalex2023/Datasets/met_manus/twpmetC1.b1.20000127.000001.cdf",
         "twpmetC1.b1.20000127.000001.cdf",
         "2000-01-27 00:00:01"
        ],
        [
         "1803",
         "/home1/nalex2023/Datasets/met_manus/twpmetC1.b1.20000128.000001.cdf",
         "twpmetC1.b1.20000128.000001.cdf",
         "2000-01-28 00:00:01"
        ],
        [
         "3913",
         "/home1/nalex2023/Datasets/met_manus/twpmetC1.b1.20000129.000001.cdf",
         "twpmetC1.b1.20000129.000001.cdf",
         "2000-01-29 00:00:01"
        ],
        [
         "2702",
         "/home1/nalex2023/Datasets/met_manus/twpmetC1.b1.20000130.000000.cdf",
         "twpmetC1.b1.20000130.000000.cdf",
         "2000-01-30 00:00:00"
        ],
        [
         "3727",
         "/home1/nalex2023/Datasets/met_manus/twpmetC1.b1.20000131.000000.cdf",
         "twpmetC1.b1.20000131.000000.cdf",
         "2000-01-31 00:00:00"
        ],
        [
         "3014",
         "/home1/nalex2023/Datasets/met_manus/twpmetC1.b1.20000201.000000.cdf",
         "twpmetC1.b1.20000201.000000.cdf",
         "2000-02-01 00:00:00"
        ],
        [
         "5102",
         "/home1/nalex2023/Datasets/met_manus/twpmetC1.b1.20000202.000000.cdf",
         "twpmetC1.b1.20000202.000000.cdf",
         "2000-02-02 00:00:00"
        ],
        [
         "1305",
         "/home1/nalex2023/Datasets/met_manus/twpmetC1.b1.20000203.000000.cdf",
         "twpmetC1.b1.20000203.000000.cdf",
         "2000-02-03 00:00:00"
        ],
        [
         "2203",
         "/home1/nalex2023/Datasets/met_manus/twpmetC1.b1.20000204.000001.cdf",
         "twpmetC1.b1.20000204.000001.cdf",
         "2000-02-04 00:00:01"
        ],
        [
         "4339",
         "/home1/nalex2023/Datasets/met_manus/twpmetC1.b1.20000205.000001.cdf",
         "twpmetC1.b1.20000205.000001.cdf",
         "2000-02-05 00:00:01"
        ],
        [
         "454",
         "/home1/nalex2023/Datasets/met_manus/twpmetC1.b1.20000206.000001.cdf",
         "twpmetC1.b1.20000206.000001.cdf",
         "2000-02-06 00:00:01"
        ],
        [
         "3823",
         "/home1/nalex2023/Datasets/met_manus/twpmetC1.b1.20000207.000000.cdf",
         "twpmetC1.b1.20000207.000000.cdf",
         "2000-02-07 00:00:00"
        ],
        [
         "2824",
         "/home1/nalex2023/Datasets/met_manus/twpmetC1.b1.20000208.000001.cdf",
         "twpmetC1.b1.20000208.000001.cdf",
         "2000-02-08 00:00:01"
        ],
        [
         "4688",
         "/home1/nalex2023/Datasets/met_manus/twpmetC1.b1.20000209.000000.cdf",
         "twpmetC1.b1.20000209.000000.cdf",
         "2000-02-09 00:00:00"
        ],
        [
         "1929",
         "/home1/nalex2023/Datasets/met_manus/twpmetC1.b1.20000210.000000.cdf",
         "twpmetC1.b1.20000210.000000.cdf",
         "2000-02-10 00:00:00"
        ],
        [
         "6082",
         "/home1/nalex2023/Datasets/met_manus/twpmetC1.b1.20000211.000001.cdf",
         "twpmetC1.b1.20000211.000001.cdf",
         "2000-02-11 00:00:01"
        ],
        [
         "138",
         "/home1/nalex2023/Datasets/met_manus/twpmetC1.b1.20000212.000000.cdf",
         "twpmetC1.b1.20000212.000000.cdf",
         "2000-02-12 00:00:00"
        ],
        [
         "4284",
         "/home1/nalex2023/Datasets/met_manus/twpmetC1.b1.20000213.000001.cdf",
         "twpmetC1.b1.20000213.000001.cdf",
         "2000-02-13 00:00:01"
        ],
        [
         "5163",
         "/home1/nalex2023/Datasets/met_manus/twpmetC1.b1.20000214.000000.cdf",
         "twpmetC1.b1.20000214.000000.cdf",
         "2000-02-14 00:00:00"
        ],
        [
         "2546",
         "/home1/nalex2023/Datasets/met_manus/twpmetC1.b1.20000215.000001.cdf",
         "twpmetC1.b1.20000215.000001.cdf",
         "2000-02-15 00:00:01"
        ],
        [
         "3444",
         "/home1/nalex2023/Datasets/met_manus/twpmetC1.b1.20000216.000000.cdf",
         "twpmetC1.b1.20000216.000000.cdf",
         "2000-02-16 00:00:00"
        ],
        [
         "841",
         "/home1/nalex2023/Datasets/met_manus/twpmetC1.b1.20000217.000001.cdf",
         "twpmetC1.b1.20000217.000001.cdf",
         "2000-02-17 00:00:01"
        ],
        [
         "4046",
         "/home1/nalex2023/Datasets/met_manus/twpmetC1.b1.20000218.000001.cdf",
         "twpmetC1.b1.20000218.000001.cdf",
         "2000-02-18 00:00:01"
        ],
        [
         "692",
         "/home1/nalex2023/Datasets/met_manus/twpmetC1.b1.20000219.000000.cdf",
         "twpmetC1.b1.20000219.000000.cdf",
         "2000-02-19 00:00:00"
        ]
       ],
       "shape": {
        "columns": 3,
        "rows": 4732
       }
      },
      "text/html": [
       "<div>\n",
       "<style scoped>\n",
       "    .dataframe tbody tr th:only-of-type {\n",
       "        vertical-align: middle;\n",
       "    }\n",
       "\n",
       "    .dataframe tbody tr th {\n",
       "        vertical-align: top;\n",
       "    }\n",
       "\n",
       "    .dataframe thead th {\n",
       "        text-align: right;\n",
       "    }\n",
       "</style>\n",
       "<table border=\"1\" class=\"dataframe\">\n",
       "  <thead>\n",
       "    <tr style=\"text-align: right;\">\n",
       "      <th></th>\n",
       "      <th>filepath</th>\n",
       "      <th>filename</th>\n",
       "      <th>datetime</th>\n",
       "    </tr>\n",
       "  </thead>\n",
       "  <tbody>\n",
       "    <tr>\n",
       "      <th>2516</th>\n",
       "      <td>/home1/nalex2023/Datasets/met_manus/twpmetC1.b...</td>\n",
       "      <td>twpmetC1.b1.20000101.000000.cdf</td>\n",
       "      <td>2000-01-01 00:00:00</td>\n",
       "    </tr>\n",
       "    <tr>\n",
       "      <th>3481</th>\n",
       "      <td>/home1/nalex2023/Datasets/met_manus/twpmetC1.b...</td>\n",
       "      <td>twpmetC1.b1.20000102.000001.cdf</td>\n",
       "      <td>2000-01-02 00:00:01</td>\n",
       "    </tr>\n",
       "    <tr>\n",
       "      <th>867</th>\n",
       "      <td>/home1/nalex2023/Datasets/met_manus/twpmetC1.b...</td>\n",
       "      <td>twpmetC1.b1.20000103.000000.cdf</td>\n",
       "      <td>2000-01-03 00:00:00</td>\n",
       "    </tr>\n",
       "    <tr>\n",
       "      <th>1904</th>\n",
       "      <td>/home1/nalex2023/Datasets/met_manus/twpmetC1.b...</td>\n",
       "      <td>twpmetC1.b1.20000104.000001.cdf</td>\n",
       "      <td>2000-01-04 00:00:01</td>\n",
       "    </tr>\n",
       "    <tr>\n",
       "      <th>6043</th>\n",
       "      <td>/home1/nalex2023/Datasets/met_manus/twpmetC1.b...</td>\n",
       "      <td>twpmetC1.b1.20000105.000000.cdf</td>\n",
       "      <td>2000-01-05 00:00:00</td>\n",
       "    </tr>\n",
       "    <tr>\n",
       "      <th>...</th>\n",
       "      <td>...</td>\n",
       "      <td>...</td>\n",
       "      <td>...</td>\n",
       "    </tr>\n",
       "    <tr>\n",
       "      <th>182</th>\n",
       "      <td>/home1/nalex2023/Datasets/met_manus/twpmetC1.b...</td>\n",
       "      <td>twpmetC1.b1.20121227.000000.cdf</td>\n",
       "      <td>2012-12-27 00:00:00</td>\n",
       "    </tr>\n",
       "    <tr>\n",
       "      <th>3352</th>\n",
       "      <td>/home1/nalex2023/Datasets/met_manus/twpmetC1.b...</td>\n",
       "      <td>twpmetC1.b1.20121228.000000.cdf</td>\n",
       "      <td>2012-12-28 00:00:00</td>\n",
       "    </tr>\n",
       "    <tr>\n",
       "      <th>2332</th>\n",
       "      <td>/home1/nalex2023/Datasets/met_manus/twpmetC1.b...</td>\n",
       "      <td>twpmetC1.b1.20121229.000000.cdf</td>\n",
       "      <td>2012-12-29 00:00:00</td>\n",
       "    </tr>\n",
       "    <tr>\n",
       "      <th>5538</th>\n",
       "      <td>/home1/nalex2023/Datasets/met_manus/twpmetC1.b...</td>\n",
       "      <td>twpmetC1.b1.20121230.000000.cdf</td>\n",
       "      <td>2012-12-30 00:00:00</td>\n",
       "    </tr>\n",
       "    <tr>\n",
       "      <th>130</th>\n",
       "      <td>/home1/nalex2023/Datasets/met_manus/twpmetC1.b...</td>\n",
       "      <td>twpmetC1.b1.20121231.000000.cdf</td>\n",
       "      <td>2012-12-31 00:00:00</td>\n",
       "    </tr>\n",
       "  </tbody>\n",
       "</table>\n",
       "<p>4732 rows × 3 columns</p>\n",
       "</div>"
      ],
      "text/plain": [
       "                                               filepath  \\\n",
       "2516  /home1/nalex2023/Datasets/met_manus/twpmetC1.b...   \n",
       "3481  /home1/nalex2023/Datasets/met_manus/twpmetC1.b...   \n",
       "867   /home1/nalex2023/Datasets/met_manus/twpmetC1.b...   \n",
       "1904  /home1/nalex2023/Datasets/met_manus/twpmetC1.b...   \n",
       "6043  /home1/nalex2023/Datasets/met_manus/twpmetC1.b...   \n",
       "...                                                 ...   \n",
       "182   /home1/nalex2023/Datasets/met_manus/twpmetC1.b...   \n",
       "3352  /home1/nalex2023/Datasets/met_manus/twpmetC1.b...   \n",
       "2332  /home1/nalex2023/Datasets/met_manus/twpmetC1.b...   \n",
       "5538  /home1/nalex2023/Datasets/met_manus/twpmetC1.b...   \n",
       "130   /home1/nalex2023/Datasets/met_manus/twpmetC1.b...   \n",
       "\n",
       "                             filename            datetime  \n",
       "2516  twpmetC1.b1.20000101.000000.cdf 2000-01-01 00:00:00  \n",
       "3481  twpmetC1.b1.20000102.000001.cdf 2000-01-02 00:00:01  \n",
       "867   twpmetC1.b1.20000103.000000.cdf 2000-01-03 00:00:00  \n",
       "1904  twpmetC1.b1.20000104.000001.cdf 2000-01-04 00:00:01  \n",
       "6043  twpmetC1.b1.20000105.000000.cdf 2000-01-05 00:00:00  \n",
       "...                               ...                 ...  \n",
       "182   twpmetC1.b1.20121227.000000.cdf 2012-12-27 00:00:00  \n",
       "3352  twpmetC1.b1.20121228.000000.cdf 2012-12-28 00:00:00  \n",
       "2332  twpmetC1.b1.20121229.000000.cdf 2012-12-29 00:00:00  \n",
       "5538  twpmetC1.b1.20121230.000000.cdf 2012-12-30 00:00:00  \n",
       "130   twpmetC1.b1.20121231.000000.cdf 2012-12-31 00:00:00  \n",
       "\n",
       "[4732 rows x 3 columns]"
      ]
     },
     "execution_count": 65,
     "metadata": {},
     "output_type": "execute_result"
    }
   ],
   "source": [
    "met_arm = '/home1/nalex2023/Datasets/met_manus/'\n",
    "\n",
    "\n",
    "def create_dft(in_dir,arm_data=True):\n",
    "    files = glob.glob(in_dir+os.sep+'*.nc')\n",
    "    if len(files) == 0:\n",
    "        files = glob.glob(in_dir+os.sep+'*.cdf')\n",
    "        if len(files) == 0:\n",
    "            raise Exception('No files Found')\n",
    "        else:\n",
    "            pass\n",
    "    else:\n",
    "        pass\n",
    "    \n",
    "    dft = pd.DataFrame(files,columns=['filepath'])\n",
    "    dft['filename'] = dft['filepath'].str.split(os.sep).str[-1]\n",
    "    \n",
    "    if arm_data:\n",
    "        dft['datetime'] = pd.to_datetime(dft['filename'].str.split(\n",
    "            '.',\n",
    "            expand=True).iloc[:, 2] + dft['filename'].str.split(\n",
    "                '.',  expand=True).iloc[:, 3],format='%Y%m%d%H%M%S')\n",
    "\n",
    "\n",
    "    return dft\n",
    "\n",
    "\n",
    "dft_met = create_dft(met_arm).sort_values('datetime')\n",
    "\n",
    "\n",
    "years = np.arange(2000,2013)\n",
    "\n",
    "dft_sub = dft_met[dft_met['datetime'].dt.year.isin(years)]\n",
    "\n",
    "\n",
    "dft_sub"
   ]
  },
  {
   "cell_type": "code",
   "execution_count": 66,
   "metadata": {},
   "outputs": [],
   "source": [
    "def prepro_met(ds):\n",
    "    ds = ds[['temp_mean','qc_temp_mean','rh_mean','qc_rh_mean','wspd_arith_mean','qc_wspd_arith_mean','wdir_vec_mean','qc_wdir_vec_mean']]    \n",
    "    \n",
    "    return ds\n",
    "\n"
   ]
  },
  {
   "cell_type": "code",
   "execution_count": 67,
   "metadata": {},
   "outputs": [
    {
     "name": "stderr",
     "output_type": "stream",
     "text": [
      "/home1/nalex2023/.conda/envs/nma/lib/python3.13/site-packages/distributed/client.py:3371: UserWarning: Sending large graph of size 28.21 MiB.\n",
      "This may cause some slowdown.\n",
      "Consider loading the data with Dask directly\n",
      " or using futures or delayed objects to embed the data into the graph without repetition.\n",
      "See also https://docs.dask.org/en/stable/best-practices.html#load-data-with-dask for more information.\n",
      "  warnings.warn(\n"
     ]
    }
   ],
   "source": [
    "\n",
    "\n",
    "\n",
    "met_dset = xr.open_mfdataset(dft_sub['filepath'].values,chunks={},\n",
    "                             preprocess=prepro_met,parallel=True,combine='by_coords').compute()\n"
   ]
  },
  {
   "cell_type": "code",
   "execution_count": 68,
   "metadata": {},
   "outputs": [],
   "source": [
    "qc_vars = [i for i in met_dset.data_vars if 'qc' in i]\n",
    "\n"
   ]
  },
  {
   "cell_type": "code",
   "execution_count": 69,
   "metadata": {},
   "outputs": [],
   "source": [
    "qc_vars = [i for i in met_dset.data_vars if 'qc' in i]\n",
    "\n",
    "# if qc is not 0 then set to nan\n",
    "\n",
    "for i in qc_vars:\n",
    "    met_dset[i.split('qc_')[1]] = met_dset[i.split('qc_')[1]].where(met_dset[i] == 0)\n",
    "\n",
    "\n",
    "met_dset_hourly = met_dset.resample(time='1h').mean().compute()"
   ]
  },
  {
   "cell_type": "code",
   "execution_count": 72,
   "metadata": {},
   "outputs": [],
   "source": [
    "out_dir = '/home1/nalex2023/Datasets/LSB_OUTS/'\n",
    "\n",
    "met_dset_hourly.to_netcdf(out_dir+'met_arm_hourly_2000_2013.nc')"
   ]
  },
  {
   "cell_type": "code",
   "execution_count": 74,
   "metadata": {},
   "outputs": [],
   "source": [
    "from dask_jobqueue import SLURMCluster\n",
    "import matplotlib.pyplot as plt \n",
    "import glob\n",
    "import os\n",
    "import xarray as xr \n",
    "import pandas as pd\n",
    "import numpy as np\n",
    "\n",
    "\n",
    "from dask_jobqueue import SLURMCluster\n",
    "\n",
    "cluster = SLURMCluster(\n",
    "    job_name=\"Climt1\",          # --job-name\n",
    "    cores=12,                     # Number of cores per task (adjust if needed)\n",
    "    processes=6,                 # One process per task\n",
    "    memory=\"100GB\",               # --mem\n",
    "    walltime=\"01:15:00\",         # --time\n",
    "    queue=\"med\",               # --partition\n",
    "    log_directory=\".\",           # Logs will be saved to the current directory\n",
    ")\n",
    "\n",
    "\n",
    "from dask.distributed import Client\n",
    "\n",
    "\n",
    "cluster.scale(jobs=10)\n",
    "client = Client(cluster)\n",
    "\n",
    "met_data_file = '/home1/nalex2023/Datasets/LSB_OUTS/met_arm_hourly_2000_2013.nc'\n",
    "\n",
    "out_dir = '/home1/nalex2023/Datasets/LSB_OUTS/'\n",
    "\n",
    "dset_met = xr.open_dataset(met_data_file).compute()\n",
    "\n",
    "#dset_met_diurnal_complete = dset_met.groupby('time.hour').mean()\n",
    "\n",
    "#dset_met_diurnal_complete.to_netcdf(out_dir+'met_arm_diurnal_2000_2013_complete.nc')\n",
    "\n",
    "#dset_met_diurnal_seasonal = dset_met.groupby('time.season').apply(lambda x: x.groupby('time.hour').mean())"
   ]
  },
  {
   "cell_type": "code",
   "execution_count": 75,
   "metadata": {},
   "outputs": [
    {
     "data": {
      "text/html": [
       "<div>\n",
       "    <div style=\"width: 24px; height: 24px; background-color: #e1e1e1; border: 3px solid #9D9D9D; border-radius: 5px; position: absolute;\"> </div>\n",
       "    <div style=\"margin-left: 48px;\">\n",
       "        <h3 style=\"margin-bottom: 0px;\">Client</h3>\n",
       "        <p style=\"color: #9D9D9D; margin-bottom: 0px;\">Client-7e3d70db-ea38-11ef-b3eb-3cecef4ec7d4</p>\n",
       "        <table style=\"width: 100%; text-align: left;\">\n",
       "\n",
       "        <tr>\n",
       "        \n",
       "            <td style=\"text-align: left;\"><strong>Connection method:</strong> Cluster object</td>\n",
       "            <td style=\"text-align: left;\"><strong>Cluster type:</strong> dask_jobqueue.SLURMCluster</td>\n",
       "        \n",
       "        </tr>\n",
       "\n",
       "        \n",
       "            <tr>\n",
       "                <td style=\"text-align: left;\">\n",
       "                    <strong>Dashboard: </strong> <a href=\"http://10.42.239.61:8787/status\" target=\"_blank\">http://10.42.239.61:8787/status</a>\n",
       "                </td>\n",
       "                <td style=\"text-align: left;\"></td>\n",
       "            </tr>\n",
       "        \n",
       "\n",
       "        </table>\n",
       "\n",
       "        \n",
       "\n",
       "        \n",
       "            <details>\n",
       "            <summary style=\"margin-bottom: 20px;\"><h3 style=\"display: inline;\">Cluster Info</h3></summary>\n",
       "            <div class=\"jp-RenderedHTMLCommon jp-RenderedHTML jp-mod-trusted jp-OutputArea-output\">\n",
       "    <div style=\"width: 24px; height: 24px; background-color: #e1e1e1; border: 3px solid #9D9D9D; border-radius: 5px; position: absolute;\">\n",
       "    </div>\n",
       "    <div style=\"margin-left: 48px;\">\n",
       "        <h3 style=\"margin-bottom: 0px; margin-top: 0px;\">SLURMCluster</h3>\n",
       "        <p style=\"color: #9D9D9D; margin-bottom: 0px;\">845c4435</p>\n",
       "        <table style=\"width: 100%; text-align: left;\">\n",
       "            <tr>\n",
       "                <td style=\"text-align: left;\">\n",
       "                    <strong>Dashboard:</strong> <a href=\"http://10.42.239.61:8787/status\" target=\"_blank\">http://10.42.239.61:8787/status</a>\n",
       "                </td>\n",
       "                <td style=\"text-align: left;\">\n",
       "                    <strong>Workers:</strong> 0\n",
       "                </td>\n",
       "            </tr>\n",
       "            <tr>\n",
       "                <td style=\"text-align: left;\">\n",
       "                    <strong>Total threads:</strong> 0\n",
       "                </td>\n",
       "                <td style=\"text-align: left;\">\n",
       "                    <strong>Total memory:</strong> 0 B\n",
       "                </td>\n",
       "            </tr>\n",
       "            \n",
       "        </table>\n",
       "\n",
       "        <details>\n",
       "            <summary style=\"margin-bottom: 20px;\">\n",
       "                <h3 style=\"display: inline;\">Scheduler Info</h3>\n",
       "            </summary>\n",
       "\n",
       "            <div style=\"\">\n",
       "    <div>\n",
       "        <div style=\"width: 24px; height: 24px; background-color: #FFF7E5; border: 3px solid #FF6132; border-radius: 5px; position: absolute;\"> </div>\n",
       "        <div style=\"margin-left: 48px;\">\n",
       "            <h3 style=\"margin-bottom: 0px;\">Scheduler</h3>\n",
       "            <p style=\"color: #9D9D9D; margin-bottom: 0px;\">Scheduler-3c5a56dd-5c0c-4d62-81e9-11bd42f271fb</p>\n",
       "            <table style=\"width: 100%; text-align: left;\">\n",
       "                <tr>\n",
       "                    <td style=\"text-align: left;\">\n",
       "                        <strong>Comm:</strong> tcp://10.42.239.61:38083\n",
       "                    </td>\n",
       "                    <td style=\"text-align: left;\">\n",
       "                        <strong>Workers:</strong> 0\n",
       "                    </td>\n",
       "                </tr>\n",
       "                <tr>\n",
       "                    <td style=\"text-align: left;\">\n",
       "                        <strong>Dashboard:</strong> <a href=\"http://10.42.239.61:8787/status\" target=\"_blank\">http://10.42.239.61:8787/status</a>\n",
       "                    </td>\n",
       "                    <td style=\"text-align: left;\">\n",
       "                        <strong>Total threads:</strong> 0\n",
       "                    </td>\n",
       "                </tr>\n",
       "                <tr>\n",
       "                    <td style=\"text-align: left;\">\n",
       "                        <strong>Started:</strong> Just now\n",
       "                    </td>\n",
       "                    <td style=\"text-align: left;\">\n",
       "                        <strong>Total memory:</strong> 0 B\n",
       "                    </td>\n",
       "                </tr>\n",
       "            </table>\n",
       "        </div>\n",
       "    </div>\n",
       "\n",
       "    <details style=\"margin-left: 48px;\">\n",
       "        <summary style=\"margin-bottom: 20px;\">\n",
       "            <h3 style=\"display: inline;\">Workers</h3>\n",
       "        </summary>\n",
       "\n",
       "        \n",
       "\n",
       "    </details>\n",
       "</div>\n",
       "\n",
       "        </details>\n",
       "    </div>\n",
       "</div>\n",
       "            </details>\n",
       "        \n",
       "\n",
       "    </div>\n",
       "</div>"
      ],
      "text/plain": [
       "<Client: 'tcp://10.42.239.61:38083' processes=0 threads=0, memory=0 B>"
      ]
     },
     "execution_count": 75,
     "metadata": {},
     "output_type": "execute_result"
    }
   ],
   "source": [
    "client"
   ]
  },
  {
   "cell_type": "code",
   "execution_count": 76,
   "metadata": {},
   "outputs": [],
   "source": [
    "dset_met_diurnal_complete = dset_met.groupby('time.hour').mean()\n",
    "\n"
   ]
  },
  {
   "cell_type": "code",
   "execution_count": 77,
   "metadata": {},
   "outputs": [],
   "source": [
    "dset_met_diurnal_complete.to_netcdf(out_dir+'met_arm_diurnal_2000_2013_complete.nc')"
   ]
  },
  {
   "cell_type": "code",
   "execution_count": 78,
   "metadata": {},
   "outputs": [],
   "source": [
    "dset_met_diurnal_seasonal = dset_met.groupby('time.season').apply(lambda x: x.groupby('time.hour').mean())"
   ]
  },
  {
   "cell_type": "code",
   "execution_count": 79,
   "metadata": {},
   "outputs": [],
   "source": [
    "dset_met_diurnal_seasonal.to_netcdf(out_dir+'met_arm_diurnal_2000_2013_seasonal.nc')"
   ]
  }
 ],
 "metadata": {
  "kernelspec": {
   "display_name": "Python 3 (ipykernel)",
   "language": "python",
   "name": "python3"
  },
  "language_info": {
   "codemirror_mode": {
    "name": "ipython",
    "version": 3
   },
   "file_extension": ".py",
   "mimetype": "text/x-python",
   "name": "python",
   "nbconvert_exporter": "python",
   "pygments_lexer": "ipython3",
   "version": "3.13.1"
  }
 },
 "nbformat": 4,
 "nbformat_minor": 2
}
