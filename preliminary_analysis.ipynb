{
 "cells": [
  {
   "cell_type": "markdown",
   "metadata": {},
   "source": [
    "### Preliminary Analysis \n",
    "\n",
    "    1. Plotting wind vector anomaly and looking into the rotation \n",
    "    2. off-shore on-shore vectors with time. Then taking composite seasonally. \n",
    "    3. Diurnal FFT amplitudes are considered the strength, \n",
    "    4. taking the background wind and temperature contrast. \n",
    "\n",
    "(Rafeeq et al.,2020; Short et al, ATHULYA ET AL.2022).\n",
    "\n"
   ]
  },
  {
   "cell_type": "markdown",
   "metadata": {},
   "source": [
    "#### Step 1: Analyzing the spatial background wind, SST, precipitaion, clouds\n",
    "        1. diurnal climatology\n",
    "        2. seasonal diurnal climatology\n",
    "May be animated to get a feel of the circulation."
   ]
  },
  {
   "cell_type": "code",
   "execution_count": null,
   "metadata": {},
   "outputs": [],
   "source": []
  },
  {
   "cell_type": "markdown",
   "metadata": {},
   "source": [
    "#### Step 2: Spatial diurnal FFT amplitudes are considered the strength: following ATHULYA ET AL.2022"
   ]
  }
 ],
 "metadata": {
  "language_info": {
   "name": "python"
  }
 },
 "nbformat": 4,
 "nbformat_minor": 2
}
