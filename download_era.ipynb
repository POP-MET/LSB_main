{
 "cells": [
  {
   "cell_type": "code",
   "execution_count": 29,
   "metadata": {},
   "outputs": [
    {
     "name": "stderr",
     "output_type": "stream",
     "text": [
      "2025-04-07 14:29:14,785 INFO [2024-09-26T00:00:00] Watch our [Forum](https://forum.ecmwf.int/) for Announcements, news and other discussed topics.\n",
      "2025-04-07 14:29:14,786 WARNING [2024-06-16T00:00:00] CDS API syntax is changed and some keys or parameter names may have also changed. To avoid requests failing, please use the \"Show API request code\" tool on the dataset Download Form to check you are using the correct syntax for your API request.\n"
     ]
    }
   ],
   "source": [
    "import cdsapi\n",
    "\n",
    "\n",
    "months = [ \"09\",\n",
    "    \"10\", \"11\", \"12\"\n",
    "]\n",
    "\"\"\"\n",
    "months = [ \"01\",\n",
    "    \"02\", \"03\", \"04\",\n",
    "    \"05\", \"06\", \"07\",\n",
    "    \"08\", \"09\", \"10\",\n",
    "    \"11\", \"12\"\n",
    "]\"\n",
    "\"\"\"\n",
    "\"\"\"\n",
    "years = ['2001', '2002', '2003', '2004', '2005', '2006', '2007', '2008', '2009', '2010',\n",
    "            '2011', '2012', '2013']\"\n",
    "\"\"\"\n",
    "years = ['2013'] \n",
    "dataset = \"reanalysis-era5-land\"\n",
    "request = {\n",
    "    \"variable\": [\n",
    "        \"10m_u_component_of_wind\",\n",
    "        \"10m_v_component_of_wind\"\n",
    "    ],\n",
    "    \"year\": \"2013\",\n",
    "    \"month\": \"01\",\n",
    "    \"day\": [\n",
    "        \"01\", \"02\", \"03\",\n",
    "        \"04\", \"05\", \"06\",\n",
    "        \"07\", \"08\", \"09\",\n",
    "        \"10\", \"11\", \"12\",\n",
    "        \"13\", \"14\", \"15\",\n",
    "        \"16\", \"17\", \"18\",\n",
    "        \"19\", \"20\", \"21\",\n",
    "        \"22\", \"23\", \"24\",\n",
    "        \"25\", \"26\", \"27\",\n",
    "        \"28\", \"29\", \"30\",\n",
    "        \"31\"\n",
    "    ],\n",
    "    \"time\": [\n",
    "        \"00:00\", \"01:00\", \"02:00\",\n",
    "        \"03:00\", \"04:00\", \"05:00\",\n",
    "        \"06:00\", \"07:00\", \"08:00\",\n",
    "        \"09:00\", \"10:00\", \"11:00\",\n",
    "        \"12:00\", \"13:00\", \"14:00\",\n",
    "        \"15:00\", \"16:00\", \"17:00\",\n",
    "        \"18:00\", \"19:00\", \"20:00\",\n",
    "        \"21:00\", \"22:00\", \"23:00\"\n",
    "    ],\n",
    "    \"data_format\": \"netcdf\",\n",
    "    \"download_format\": \"unarchived\",\n",
    "    \"area\": [23.9, 83.85, -19.35, 169.72]\n",
    "}\n",
    "\n",
    "client = cdsapi.Client()\n",
    "\n",
    "\n"
   ]
  },
  {
   "cell_type": "code",
   "execution_count": 36,
   "metadata": {},
   "outputs": [
    {
     "name": "stderr",
     "output_type": "stream",
     "text": [
      "2025-04-07 16:52:43,035 INFO [2024-09-26T00:00:00] Watch our [Forum](https://forum.ecmwf.int/) for Announcements, news and other discussed topics.\n",
      "2025-04-07 16:52:43,036 WARNING [2024-06-16T00:00:00] CDS API syntax is changed and some keys or parameter names may have also changed. To avoid requests failing, please use the \"Show API request code\" tool on the dataset Download Form to check you are using the correct syntax for your API request.\n"
     ]
    }
   ],
   "source": [
    "import numpy as np \n",
    "import cdsapi\n",
    "\n",
    "\n",
    "\n",
    "years = np.arange(1940, 2025)\n",
    "\n",
    "new_years = list(map(str, list(years)))\n",
    "\n",
    "dataset = \"reanalysis-era5-single-levels\"\n",
    "request = {\n",
    "    \"product_type\": [\"reanalysis\"],\n",
    "    \"variable\": [\n",
    "        \"10m_u_component_of_wind\",\n",
    "        \"10m_v_component_of_wind\"\n",
    "    ],\n",
    "    \"year\": [\"1940\"],\n",
    "    \"month\": [\n",
    "        \"01\", \"02\", \"03\",\n",
    "        \"04\", \"05\", \"06\",\n",
    "        \"07\", \"08\", \"09\",\n",
    "        \"10\", \"11\", \"12\"\n",
    "    ],\n",
    "    \"day\": [\n",
    "        \"01\", \"02\", \"03\",\n",
    "        \"04\", \"05\", \"06\",\n",
    "        \"07\", \"08\", \"09\",\n",
    "        \"10\", \"11\", \"12\",\n",
    "        \"13\", \"14\", \"15\",\n",
    "        \"16\", \"17\", \"18\",\n",
    "        \"19\", \"20\", \"21\",\n",
    "        \"22\", \"23\", \"24\",\n",
    "        \"25\", \"26\", \"27\",\n",
    "        \"28\", \"29\", \"30\",\n",
    "        \"31\"\n",
    "    ],\n",
    "    \"time\": [\n",
    "        \"00:00\", \"01:00\", \"02:00\",\n",
    "        \"03:00\", \"04:00\", \"05:00\",\n",
    "        \"06:00\", \"07:00\", \"08:00\",\n",
    "        \"09:00\", \"10:00\", \"11:00\",\n",
    "        \"12:00\", \"13:00\", \"14:00\",\n",
    "        \"15:00\", \"16:00\", \"17:00\",\n",
    "        \"18:00\", \"19:00\", \"20:00\",\n",
    "        \"21:00\", \"22:00\", \"23:00\"\n",
    "    ],\n",
    "    \"data_format\": \"netcdf\",\n",
    "    \"download_format\": \"unarchived\",\n",
    "    \"area\": [29, -81, 27, -79]\n",
    "}\n",
    "\n",
    "client = cdsapi.Client()\n"
   ]
  },
  {
   "cell_type": "code",
   "execution_count": 3,
   "metadata": {},
   "outputs": [
    {
     "name": "stderr",
     "output_type": "stream",
     "text": [
      "2025-04-14 11:28:43,703 INFO [2024-09-26T00:00:00] Watch our [Forum](https://forum.ecmwf.int/) for Announcements, news and other discussed topics.\n",
      "2025-04-14 11:28:43,704 WARNING [2024-06-16T00:00:00] CDS API syntax is changed and some keys or parameter names may have also changed. To avoid requests failing, please use the \"Show API request code\" tool on the dataset Download Form to check you are using the correct syntax for your API request.\n"
     ]
    }
   ],
   "source": [
    "import cdsapi\n",
    "\n",
    "\n",
    "\n",
    "years = [2000, 2001, 2002, 2003, 2004, 2005, 2006, 2007, 2008, 2009, 2010,\n",
    "         2011, 2012, 2013, 2014]\n",
    "\n",
    "\n",
    "\n",
    "\n",
    "dataset = \"reanalysis-era5-single-levels\"\n",
    "request = {\n",
    "    \"product_type\": [\"reanalysis\"],\n",
    "    \"variable\": [\n",
    "        \"2m_temperature\",\n",
    "        \"sea_surface_temperature\"\n",
    "    ],\n",
    "    \"year\": [\"2000\"],\n",
    "    \"month\": [\n",
    "        \"01\", \"02\", \"03\",\n",
    "        \"04\", \"05\", \"06\",\n",
    "        \"07\", \"08\", \"09\",\n",
    "        \"10\", \"11\", \"12\"\n",
    "    ],\n",
    "    \"day\": [\n",
    "        \"01\", \"02\", \"03\",\n",
    "        \"04\", \"05\", \"06\",\n",
    "        \"07\", \"08\", \"09\",\n",
    "        \"10\", \"11\", \"12\",\n",
    "        \"13\", \"14\", \"15\",\n",
    "        \"16\", \"17\", \"18\",\n",
    "        \"19\", \"20\", \"21\",\n",
    "        \"22\", \"23\", \"24\",\n",
    "        \"25\", \"26\", \"27\",\n",
    "        \"28\", \"29\", \"30\",\n",
    "        \"31\"\n",
    "    ],\n",
    "    \"time\": [\n",
    "        \"00:00\", \"01:00\", \"02:00\",\n",
    "        \"03:00\", \"04:00\", \"05:00\",\n",
    "        \"06:00\", \"07:00\", \"08:00\",\n",
    "        \"09:00\", \"10:00\", \"11:00\",\n",
    "        \"12:00\", \"13:00\", \"14:00\",\n",
    "        \"15:00\", \"16:00\", \"17:00\",\n",
    "        \"18:00\", \"19:00\", \"20:00\",\n",
    "        \"21:00\", \"22:00\", \"23:00\"\n",
    "    ],\n",
    "    \"data_format\": \"netcdf\",\n",
    "    \"download_format\": \"unarchived\",\n",
    "    \"area\": [23.9, 83.85, -19.35, 169.72]\n",
    "}\n",
    "\n",
    "client = cdsapi.Client()\n"
   ]
  },
  {
   "cell_type": "code",
   "execution_count": null,
   "metadata": {},
   "outputs": [
    {
     "name": "stderr",
     "output_type": "stream",
     "text": [
      "2025-04-14 11:29:45,393 INFO Request ID is 0ce85f37-5d25-414b-9299-f88df0bea0ed\n",
      "2025-04-14 11:29:45,544 INFO status has been updated to accepted\n",
      "2025-04-14 11:30:07,417 INFO status has been updated to running\n",
      "2025-04-14 11:54:10,120 INFO status has been updated to successful\n"
     ]
    },
    {
     "data": {
      "application/vnd.jupyter.widget-view+json": {
       "model_id": "8ef74700f630405b91599f34ab58a7c3",
       "version_major": 2,
       "version_minor": 0
      },
      "text/plain": [
       "308fb853585827103dd16947f9005c9f.nc:   0%|          | 0.00/978M [00:00<?, ?B/s]"
      ]
     },
     "metadata": {},
     "output_type": "display_data"
    },
    {
     "name": "stderr",
     "output_type": "stream",
     "text": [
      "2025-04-14 11:55:13,539 INFO Request ID is 26c3177c-0c1a-4e6b-9d4e-5bfc5c12ea8c\n",
      "2025-04-14 11:55:13,693 INFO status has been updated to accepted\n",
      "2025-04-14 11:55:46,956 INFO status has been updated to running\n",
      "2025-04-14 12:19:39,067 INFO status has been updated to successful\n"
     ]
    },
    {
     "data": {
      "application/vnd.jupyter.widget-view+json": {
       "model_id": "6ecbb49bd54d4908a81e9588f568bca8",
       "version_major": 2,
       "version_minor": 0
      },
      "text/plain": [
       "f689f6acac1ac0a2744f83690f946f4a.nc:   0%|          | 0.00/1.00G [00:00<?, ?B/s]"
      ]
     },
     "metadata": {},
     "output_type": "display_data"
    },
    {
     "name": "stderr",
     "output_type": "stream",
     "text": [
      "2025-04-14 12:21:19,321 INFO Request ID is ec56dbee-298b-411a-b03b-4c0a513b618e\n",
      "2025-04-14 12:21:19,476 INFO status has been updated to accepted\n",
      "2025-04-14 12:24:12,758 INFO status has been updated to running\n",
      "2025-04-14 12:49:44,933 INFO status has been updated to successful\n"
     ]
    },
    {
     "data": {
      "application/vnd.jupyter.widget-view+json": {
       "model_id": "7c7ae0d359d3417498374db50fc26c43",
       "version_major": 2,
       "version_minor": 0
      },
      "text/plain": [
       "c8efbff1cb42d66556ac319e583f269a.nc:   0%|          | 0.00/0.99G [00:00<?, ?B/s]"
      ]
     },
     "metadata": {},
     "output_type": "display_data"
    },
    {
     "name": "stderr",
     "output_type": "stream",
     "text": [
      "2025-04-14 12:51:39,429 INFO Request ID is 1ea3154f-f9ac-4427-9ab9-4c0a807af4e3\n",
      "2025-04-14 12:51:39,590 INFO status has been updated to accepted\n",
      "2025-04-14 12:52:13,082 INFO status has been updated to running\n",
      "2025-04-14 13:14:04,007 INFO status has been updated to successful\n"
     ]
    },
    {
     "data": {
      "application/vnd.jupyter.widget-view+json": {
       "model_id": "597606b77e614c97a22f3834c847a59d",
       "version_major": 2,
       "version_minor": 0
      },
      "text/plain": [
       "e19af2fc983e02c5a92b4bfd1fb100c4.nc:   0%|          | 0.00/0.99G [00:00<?, ?B/s]"
      ]
     },
     "metadata": {},
     "output_type": "display_data"
    },
    {
     "name": "stderr",
     "output_type": "stream",
     "text": [
      "2025-04-14 13:16:36,592 INFO Request ID is ca1e87ac-993d-4ad9-937e-dde079e15ae5\n",
      "2025-04-14 13:16:36,747 INFO status has been updated to accepted\n",
      "2025-04-14 13:16:50,782 INFO status has been updated to running\n",
      "2025-04-14 13:43:02,370 INFO status has been updated to successful\n"
     ]
    },
    {
     "data": {
      "application/vnd.jupyter.widget-view+json": {
       "model_id": "3561c6c75bf34d6eaa11c3ec00e55be1",
       "version_major": 2,
       "version_minor": 0
      },
      "text/plain": [
       "7102442e47bd30bc3b3329d01a0422a7.nc:   0%|          | 0.00/979M [00:00<?, ?B/s]"
      ]
     },
     "metadata": {},
     "output_type": "display_data"
    },
    {
     "name": "stderr",
     "output_type": "stream",
     "text": [
      "2025-04-14 13:49:19,461 INFO Request ID is 461633b7-68bd-460a-9673-ecfd51788c40\n",
      "2025-04-14 13:49:19,613 INFO status has been updated to accepted\n",
      "2025-04-14 13:49:41,326 INFO status has been updated to running\n",
      "2025-04-14 14:13:44,185 INFO status has been updated to successful\n"
     ]
    },
    {
     "data": {
      "application/vnd.jupyter.widget-view+json": {
       "model_id": "5d4619f2823448648b0da7c31f313095",
       "version_major": 2,
       "version_minor": 0
      },
      "text/plain": [
       "c935312a851fdc8e849c1367a09f9819.nc:   0%|          | 0.00/970M [00:00<?, ?B/s]"
      ]
     },
     "metadata": {},
     "output_type": "display_data"
    },
    {
     "name": "stderr",
     "output_type": "stream",
     "text": [
      "2025-04-14 14:17:02,560 INFO Request ID is 6cee77fb-1f0e-4816-9c3e-aeaf65ffceb5\n",
      "2025-04-14 14:17:02,713 INFO status has been updated to accepted\n",
      "2025-04-14 14:17:11,592 INFO status has been updated to running\n",
      "2025-04-14 14:41:32,679 INFO status has been updated to successful\n"
     ]
    },
    {
     "data": {
      "application/vnd.jupyter.widget-view+json": {
       "model_id": "8a6a25d54a15409aaac644886c6bdf51",
       "version_major": 2,
       "version_minor": 0
      },
      "text/plain": [
       "38e4c776ff0753147a0a203e6d892976.nc:   0%|          | 0.00/1.00G [00:00<?, ?B/s]"
      ]
     },
     "metadata": {},
     "output_type": "display_data"
    },
    {
     "name": "stderr",
     "output_type": "stream",
     "text": [
      "2025-04-14 14:43:26,640 INFO Request ID is a5b3c466-81c1-40e9-95c0-2e03bc68a771\n",
      "2025-04-14 14:43:26,795 INFO status has been updated to accepted\n",
      "2025-04-14 14:43:48,699 INFO status has been updated to running\n",
      "2025-04-14 15:07:52,202 INFO status has been updated to successful\n"
     ]
    },
    {
     "data": {
      "application/vnd.jupyter.widget-view+json": {
       "model_id": "7741d8e5b24c4c4495e697bb86066b6d",
       "version_major": 2,
       "version_minor": 0
      },
      "text/plain": [
       "d4a1d739aa50ee57e27c66433159364.nc:   0%|          | 0.00/975M [00:00<?, ?B/s]"
      ]
     },
     "metadata": {},
     "output_type": "display_data"
    },
    {
     "name": "stderr",
     "output_type": "stream",
     "text": [
      "2025-04-14 15:10:11,085 INFO Request ID is 6d971ec0-b180-49f7-85d3-0b87fea0d5c9\n",
      "2025-04-14 15:10:11,250 INFO status has been updated to accepted\n",
      "2025-04-14 15:10:25,346 INFO status has been updated to running\n",
      "2025-04-14 15:36:36,619 INFO status has been updated to successful\n"
     ]
    },
    {
     "data": {
      "application/vnd.jupyter.widget-view+json": {
       "model_id": "1ed400530bb043a3878a556a3402eee1",
       "version_major": 2,
       "version_minor": 0
      },
      "text/plain": [
       "f95743ab505f7be77d9308e7a518f734.nc:   0%|          | 0.00/976M [00:00<?, ?B/s]"
      ]
     },
     "metadata": {},
     "output_type": "display_data"
    },
    {
     "name": "stderr",
     "output_type": "stream",
     "text": [
      "2025-04-14 15:39:40,917 INFO Request ID is 8dc118f0-93c6-4d25-971b-42252f9b4ae8\n",
      "2025-04-14 15:39:41,120 INFO status has been updated to accepted\n",
      "2025-04-14 15:39:55,414 INFO status has been updated to running\n",
      "2025-04-14 16:08:13,081 INFO status has been updated to successful\n"
     ]
    },
    {
     "data": {
      "application/vnd.jupyter.widget-view+json": {
       "model_id": "3f018f869cec4d4fbf883551fd59d9c1",
       "version_major": 2,
       "version_minor": 0
      },
      "text/plain": [
       "19688440d6faac54ca21d54cd132a5fb.nc:   0%|          | 0.00/0.99G [00:00<?, ?B/s]"
      ]
     },
     "metadata": {},
     "output_type": "display_data"
    },
    {
     "name": "stderr",
     "output_type": "stream",
     "text": [
      "2025-04-14 16:09:31,125 INFO Request ID is e43f7f7b-eb73-486c-a5f6-56ddec901aa2\n",
      "2025-04-14 16:09:31,281 INFO status has been updated to accepted\n",
      "2025-04-14 16:10:22,023 INFO status has been updated to running\n",
      "2025-04-14 16:33:55,700 INFO status has been updated to successful\n"
     ]
    },
    {
     "data": {
      "application/vnd.jupyter.widget-view+json": {
       "model_id": "3b515f679d284b0b9ddfb84e9000128d",
       "version_major": 2,
       "version_minor": 0
      },
      "text/plain": [
       "1827fe830cc165779fff466ed21a294c.nc:   0%|          | 0.00/973M [00:00<?, ?B/s]"
      ]
     },
     "metadata": {},
     "output_type": "display_data"
    },
    {
     "name": "stderr",
     "output_type": "stream",
     "text": [
      "2025-04-14 16:35:14,271 INFO Request ID is d4991b8e-c6ee-4b72-a319-8ff04689e9d0\n",
      "2025-04-14 16:35:14,432 INFO status has been updated to accepted\n",
      "2025-04-14 16:35:28,529 INFO status has been updated to running\n"
     ]
    }
   ],
   "source": [
    "import os\n",
    "#out_fol = '/media/nmathewa/nma_backup/Datasets/Datasets/ERA5_land_maritime/u10_and_v10_2000_2014/'\n",
    "\n",
    "#out_fol = '/media/nmathewa/nma_backup/Datasets/CAPE_Canvaeral_ERA_single_1940_2025/'\n",
    "\n",
    "out_fol = '/media/nmathewa/nma_backup/Datasets/Datasets/ERA5_single_level_Maritime/sst_and_t2m_2000_2014/'\n",
    "\n",
    "if os.path.exists(out_fol) == False:\n",
    "    os.makedirs(out_fol)\n",
    "for year in years:\n",
    "    out_file = out_fol + 'era5_level_t2m_sst_' + str(year) +'.nc'\n",
    "    request[\"year\"] = [year]\n",
    "    client.retrieve(dataset, request).download(out_file)\n",
    "\n",
    "\n",
    "\"\"\"\n",
    "for year in new_years:\n",
    "    out_file = out_fol + 'era5_single_uandv_' + year + '_capecanaveral'+'.nc'\n",
    "    request[\"year\"] = [year]\n",
    "    client.retrieve(dataset, request).download(out_file)\n",
    "    print('Downloaded: ', out_file)\n",
    "\n",
    "\"\"\"\n",
    "\n",
    "\n"
   ]
  }
 ],
 "metadata": {
  "kernelspec": {
   "display_name": "nma",
   "language": "python",
   "name": "python3"
  },
  "language_info": {
   "codemirror_mode": {
    "name": "ipython",
    "version": 3
   },
   "file_extension": ".py",
   "mimetype": "text/x-python",
   "name": "python",
   "nbconvert_exporter": "python",
   "pygments_lexer": "ipython3",
   "version": "3.13.2"
  }
 },
 "nbformat": 4,
 "nbformat_minor": 2
}
