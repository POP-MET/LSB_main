{
 "cells": [
  {
   "cell_type": "code",
   "execution_count": 1,
   "metadata": {},
   "outputs": [
    {
     "ename": "ModuleNotFoundError",
     "evalue": "No module named 'cdsapi'",
     "output_type": "error",
     "traceback": [
      "\u001b[0;31m---------------------------------------------------------------------------\u001b[0m",
      "\u001b[0;31mModuleNotFoundError\u001b[0m                       Traceback (most recent call last)",
      "Cell \u001b[0;32mIn[1], line 1\u001b[0m\n\u001b[0;32m----> 1\u001b[0m \u001b[38;5;28;01mimport\u001b[39;00m \u001b[38;5;21;01mcdsapi\u001b[39;00m\n\u001b[1;32m      4\u001b[0m months \u001b[38;5;241m=\u001b[39m [\n\u001b[1;32m      5\u001b[0m     \u001b[38;5;124m\"\u001b[39m\u001b[38;5;124m01\u001b[39m\u001b[38;5;124m\"\u001b[39m, \u001b[38;5;124m\"\u001b[39m\u001b[38;5;124m02\u001b[39m\u001b[38;5;124m\"\u001b[39m, \u001b[38;5;124m\"\u001b[39m\u001b[38;5;124m03\u001b[39m\u001b[38;5;124m\"\u001b[39m,\n\u001b[1;32m      6\u001b[0m     \u001b[38;5;124m\"\u001b[39m\u001b[38;5;124m04\u001b[39m\u001b[38;5;124m\"\u001b[39m, \u001b[38;5;124m\"\u001b[39m\u001b[38;5;124m05\u001b[39m\u001b[38;5;124m\"\u001b[39m, \u001b[38;5;124m\"\u001b[39m\u001b[38;5;124m06\u001b[39m\u001b[38;5;124m\"\u001b[39m,\n\u001b[1;32m      7\u001b[0m     \u001b[38;5;124m\"\u001b[39m\u001b[38;5;124m07\u001b[39m\u001b[38;5;124m\"\u001b[39m, \u001b[38;5;124m\"\u001b[39m\u001b[38;5;124m08\u001b[39m\u001b[38;5;124m\"\u001b[39m, \u001b[38;5;124m\"\u001b[39m\u001b[38;5;124m09\u001b[39m\u001b[38;5;124m\"\u001b[39m,\n\u001b[1;32m      8\u001b[0m     \u001b[38;5;124m\"\u001b[39m\u001b[38;5;124m10\u001b[39m\u001b[38;5;124m\"\u001b[39m, \u001b[38;5;124m\"\u001b[39m\u001b[38;5;124m11\u001b[39m\u001b[38;5;124m\"\u001b[39m, \u001b[38;5;124m\"\u001b[39m\u001b[38;5;124m12\u001b[39m\u001b[38;5;124m\"\u001b[39m\n\u001b[1;32m      9\u001b[0m ]\n\u001b[1;32m     11\u001b[0m years \u001b[38;5;241m=\u001b[39m [\u001b[38;5;124m'\u001b[39m\u001b[38;5;124m2001\u001b[39m\u001b[38;5;124m'\u001b[39m, \u001b[38;5;124m'\u001b[39m\u001b[38;5;124m2002\u001b[39m\u001b[38;5;124m'\u001b[39m, \u001b[38;5;124m'\u001b[39m\u001b[38;5;124m2003\u001b[39m\u001b[38;5;124m'\u001b[39m, \u001b[38;5;124m'\u001b[39m\u001b[38;5;124m2004\u001b[39m\u001b[38;5;124m'\u001b[39m, \u001b[38;5;124m'\u001b[39m\u001b[38;5;124m2005\u001b[39m\u001b[38;5;124m'\u001b[39m, \u001b[38;5;124m'\u001b[39m\u001b[38;5;124m2006\u001b[39m\u001b[38;5;124m'\u001b[39m, \u001b[38;5;124m'\u001b[39m\u001b[38;5;124m2007\u001b[39m\u001b[38;5;124m'\u001b[39m, \u001b[38;5;124m'\u001b[39m\u001b[38;5;124m2008\u001b[39m\u001b[38;5;124m'\u001b[39m, \u001b[38;5;124m'\u001b[39m\u001b[38;5;124m2009\u001b[39m\u001b[38;5;124m'\u001b[39m, \u001b[38;5;124m'\u001b[39m\u001b[38;5;124m2010\u001b[39m\u001b[38;5;124m'\u001b[39m,\n\u001b[1;32m     12\u001b[0m             \u001b[38;5;124m'\u001b[39m\u001b[38;5;124m2011\u001b[39m\u001b[38;5;124m'\u001b[39m, \u001b[38;5;124m'\u001b[39m\u001b[38;5;124m2012\u001b[39m\u001b[38;5;124m'\u001b[39m, \u001b[38;5;124m'\u001b[39m\u001b[38;5;124m2013\u001b[39m\u001b[38;5;124m'\u001b[39m]\n",
      "\u001b[0;31mModuleNotFoundError\u001b[0m: No module named 'cdsapi'"
     ]
    }
   ],
   "source": [
    "import cdsapi\n",
    "\n",
    "\n",
    "months = [\n",
    "    \"01\", \"02\", \"03\",\n",
    "    \"04\", \"05\", \"06\",\n",
    "    \"07\", \"08\", \"09\",\n",
    "    \"10\", \"11\", \"12\"\n",
    "]\n",
    "\n",
    "years = ['2001', '2002', '2003', '2004', '2005', '2006', '2007', '2008', '2009', '2010',\n",
    "            '2011', '2012', '2013']\n",
    "\n",
    "dataset = \"reanalysis-era5-land\"\n",
    "request = {\n",
    "    \"variable\": [\n",
    "        \"2m_temperature\",\n",
    "        \"skin_temperature\"\n",
    "    ],\n",
    "    \"year\": \"2000\",\n",
    "    \"month\": \"01\",\n",
    "    \"day\": [\n",
    "        \"01\", \"02\", \"03\",\n",
    "        \"04\", \"05\", \"06\",\n",
    "        \"07\", \"08\", \"09\",\n",
    "        \"10\", \"11\", \"12\",\n",
    "        \"13\", \"14\", \"15\",\n",
    "        \"16\", \"17\", \"18\",\n",
    "        \"19\", \"20\", \"21\",\n",
    "        \"22\", \"23\", \"24\",\n",
    "        \"25\", \"26\", \"27\",\n",
    "        \"28\", \"29\", \"30\",\n",
    "        \"31\"\n",
    "    ],\n",
    "    \"time\": [\n",
    "        \"00:00\", \"01:00\", \"02:00\",\n",
    "        \"03:00\", \"04:00\", \"05:00\",\n",
    "        \"06:00\", \"07:00\", \"08:00\",\n",
    "        \"09:00\", \"10:00\", \"11:00\",\n",
    "        \"12:00\", \"13:00\", \"14:00\",\n",
    "        \"15:00\", \"16:00\", \"17:00\",\n",
    "        \"18:00\", \"19:00\", \"20:00\",\n",
    "        \"21:00\", \"22:00\", \"23:00\"\n",
    "    ],\n",
    "    \"data_format\": \"netcdf\",\n",
    "    \"download_format\": \"unarchived\",\n",
    "    \"area\": [23.9, 83.85, -19.35, 169.72]\n",
    "}\n",
    "\n",
    "client = cdsapi.Client()\n",
    "\n",
    "\n"
   ]
  },
  {
   "cell_type": "code",
   "execution_count": 4,
   "metadata": {},
   "outputs": [
    {
     "name": "stderr",
     "output_type": "stream",
     "text": [
      "2024-12-23 15:44:37,016 WARNING [2024-10-10T00:00:00] From 1 July to 17 November 2024, the final ERA5 product is different to ERA5T due to the correction of [the assimilation of incorrect snow observations on the Alps](https://confluence.ecmwf.int/x/USuXGw)\n",
      "2024-12-23 15:44:37,017 INFO Request ID is b4346a33-3687-4660-9880-4b9de235e474\n",
      "2024-12-23 15:44:37,189 INFO status has been updated to accepted\n",
      "2024-12-23 15:48:57,625 INFO status has been updated to running\n",
      "2024-12-23 16:21:05,491 INFO status has been updated to successful\n"
     ]
    },
    {
     "data": {
      "application/vnd.jupyter.widget-view+json": {
       "model_id": "7dcac0f1f00349d2a6f4faf26a02ddd3",
       "version_major": 2,
       "version_minor": 0
      },
      "text/plain": [
       "6cc01c69aec9011bcb607f981d1fb88a.nc:   0%|          | 0.00/3.01G [00:00<?, ?B/s]"
      ]
     },
     "metadata": {},
     "output_type": "display_data"
    },
    {
     "name": "stderr",
     "output_type": "stream",
     "text": [
      "2024-12-23 16:29:25,829 WARNING [2024-10-10T00:00:00] From 1 July to 17 November 2024, the final ERA5 product is different to ERA5T due to the correction of [the assimilation of incorrect snow observations on the Alps](https://confluence.ecmwf.int/x/USuXGw)\n",
      "2024-12-23 16:29:25,829 INFO Request ID is e767cfee-fb3d-485a-abb3-16c8ef76385d\n",
      "2024-12-23 16:29:25,982 INFO status has been updated to accepted\n",
      "2024-12-23 16:29:34,459 INFO status has been updated to running\n",
      "2024-12-23 17:00:07,173 INFO status has been updated to successful\n"
     ]
    },
    {
     "data": {
      "application/vnd.jupyter.widget-view+json": {
       "model_id": "5a5fa3afea2b4875977d49994b2e6c60",
       "version_major": 2,
       "version_minor": 0
      },
      "text/plain": [
       "ac2743259c5c33627eac7bce2d328e34.nc:   0%|          | 0.00/2.72G [00:00<?, ?B/s]"
      ]
     },
     "metadata": {},
     "output_type": "display_data"
    },
    {
     "name": "stderr",
     "output_type": "stream",
     "text": [
      "2024-12-23 17:05:13,532 WARNING [2024-10-10T00:00:00] From 1 July to 17 November 2024, the final ERA5 product is different to ERA5T due to the correction of [the assimilation of incorrect snow observations on the Alps](https://confluence.ecmwf.int/x/USuXGw)\n",
      "2024-12-23 17:05:13,533 INFO Request ID is 203efdd7-023f-40c7-84ac-090b926872ee\n",
      "2024-12-23 17:05:13,683 INFO status has been updated to accepted\n",
      "2024-12-23 17:05:21,815 INFO status has been updated to running\n",
      "2024-12-23 17:41:42,476 INFO status has been updated to successful\n"
     ]
    },
    {
     "data": {
      "application/vnd.jupyter.widget-view+json": {
       "model_id": "52e899bbcc644793be364f9d4c2ff3f4",
       "version_major": 2,
       "version_minor": 0
      },
      "text/plain": [
       "aacd85ef9758f98eed057475a29f87b0.nc:   0%|          | 0.00/3.01G [00:00<?, ?B/s]"
      ]
     },
     "metadata": {},
     "output_type": "display_data"
    },
    {
     "name": "stderr",
     "output_type": "stream",
     "text": [
      "2024-12-23 17:46:29,703 WARNING [2024-10-10T00:00:00] From 1 July to 17 November 2024, the final ERA5 product is different to ERA5T due to the correction of [the assimilation of incorrect snow observations on the Alps](https://confluence.ecmwf.int/x/USuXGw)\n",
      "2024-12-23 17:46:29,704 INFO Request ID is 783c9083-3e7c-48bd-bceb-ce7eb963f265\n",
      "2024-12-23 17:46:29,856 INFO status has been updated to accepted\n",
      "2024-12-23 17:46:37,439 INFO status has been updated to running\n",
      "2024-12-23 18:10:59,569 INFO status has been updated to successful\n"
     ]
    },
    {
     "data": {
      "application/vnd.jupyter.widget-view+json": {
       "model_id": "5908200ab6fa4d6dad8ae77a1010c404",
       "version_major": 2,
       "version_minor": 0
      },
      "text/plain": [
       "a50eb7660c3f291565a0c4cb4e3a73b6.nc:   0%|          | 0.00/2.91G [00:00<?, ?B/s]"
      ]
     },
     "metadata": {},
     "output_type": "display_data"
    },
    {
     "name": "stderr",
     "output_type": "stream",
     "text": [
      "2024-12-23 18:21:05,822 WARNING [2024-10-10T00:00:00] From 1 July to 17 November 2024, the final ERA5 product is different to ERA5T due to the correction of [the assimilation of incorrect snow observations on the Alps](https://confluence.ecmwf.int/x/USuXGw)\n",
      "2024-12-23 18:21:05,823 INFO Request ID is 896de16f-fa8b-4b10-b1f4-fd5450780301\n",
      "2024-12-23 18:21:05,980 INFO status has been updated to accepted\n",
      "2024-12-23 18:21:18,904 INFO status has been updated to running\n",
      "2024-12-23 18:47:36,515 INFO status has been updated to successful\n"
     ]
    },
    {
     "data": {
      "application/vnd.jupyter.widget-view+json": {
       "model_id": "e854a75fbe1c46459e5b8136ddbcfe8c",
       "version_major": 2,
       "version_minor": 0
      },
      "text/plain": [
       "b887246bd2fe3be782f45eb1d4ec8749.nc:   0%|          | 0.00/2.99G [00:00<?, ?B/s]"
      ]
     },
     "metadata": {},
     "output_type": "display_data"
    },
    {
     "name": "stderr",
     "output_type": "stream",
     "text": [
      "2024-12-23 18:57:21,421 WARNING [2024-10-10T00:00:00] From 1 July to 17 November 2024, the final ERA5 product is different to ERA5T due to the correction of [the assimilation of incorrect snow observations on the Alps](https://confluence.ecmwf.int/x/USuXGw)\n",
      "2024-12-23 18:57:21,422 INFO Request ID is 21b495ce-5037-4077-8e37-99d95cc4ee92\n",
      "2024-12-23 18:57:21,570 INFO status has been updated to accepted\n",
      "2024-12-23 18:57:29,179 INFO status has been updated to running\n",
      "2024-12-23 19:24:06,728 INFO status has been updated to successful\n"
     ]
    },
    {
     "data": {
      "application/vnd.jupyter.widget-view+json": {
       "model_id": "9e5739c988a44fa0b34a6f56250b18f2",
       "version_major": 2,
       "version_minor": 0
      },
      "text/plain": [
       "f0a21f050fe3c2e9f17edeeb73471e88.nc:   0%|          | 0.00/2.86G [00:00<?, ?B/s]"
      ]
     },
     "metadata": {},
     "output_type": "display_data"
    },
    {
     "name": "stderr",
     "output_type": "stream",
     "text": [
      "2024-12-23 19:45:10,427 WARNING [2024-10-10T00:00:00] From 1 July to 17 November 2024, the final ERA5 product is different to ERA5T due to the correction of [the assimilation of incorrect snow observations on the Alps](https://confluence.ecmwf.int/x/USuXGw)\n",
      "2024-12-23 19:45:10,428 INFO Request ID is 9fcd11d7-6ffd-4a09-9d09-2fbff73c71eb\n",
      "2024-12-23 19:45:10,608 INFO status has been updated to accepted\n",
      "2024-12-23 19:45:18,314 INFO status has been updated to running\n",
      "Recovering from connection error [('Connection aborted.', RemoteDisconnected('Remote end closed connection without response'))], attemps 1 of 500\n",
      "Retrying in 120 seconds\n",
      "2024-12-23 20:24:43,530 INFO status has been updated to successful\n"
     ]
    },
    {
     "data": {
      "application/vnd.jupyter.widget-view+json": {
       "model_id": "3aaeb61a50f345bdb04a1ddf3dab9901",
       "version_major": 2,
       "version_minor": 0
      },
      "text/plain": [
       "92189bba1b5797ba16b4f19c3fd4b11e.nc:   0%|          | 0.00/2.95G [00:00<?, ?B/s]"
      ]
     },
     "metadata": {},
     "output_type": "display_data"
    },
    {
     "name": "stderr",
     "output_type": "stream",
     "text": [
      "2024-12-23 20:47:01,790 WARNING [2024-10-10T00:00:00] From 1 July to 17 November 2024, the final ERA5 product is different to ERA5T due to the correction of [the assimilation of incorrect snow observations on the Alps](https://confluence.ecmwf.int/x/USuXGw)\n",
      "2024-12-23 20:47:01,791 INFO Request ID is 30feeb51-88f1-4f89-8ab3-271568b84a07\n",
      "2024-12-23 20:47:01,998 INFO status has been updated to accepted\n",
      "2024-12-23 20:47:09,693 INFO status has been updated to running\n",
      "2024-12-23 21:11:36,502 INFO status has been updated to successful\n"
     ]
    },
    {
     "data": {
      "application/vnd.jupyter.widget-view+json": {
       "model_id": "f5e4bc7341774975a84b3a287acec29c",
       "version_major": 2,
       "version_minor": 0
      },
      "text/plain": [
       "7e9f816433cfe7855437447317613559.nc:   0%|          | 0.00/2.94G [00:00<?, ?B/s]"
      ]
     },
     "metadata": {},
     "output_type": "display_data"
    },
    {
     "name": "stderr",
     "output_type": "stream",
     "text": [
      "2024-12-23 21:19:48,403 WARNING [2024-10-10T00:00:00] From 1 July to 17 November 2024, the final ERA5 product is different to ERA5T due to the correction of [the assimilation of incorrect snow observations on the Alps](https://confluence.ecmwf.int/x/USuXGw)\n",
      "2024-12-23 21:19:48,404 INFO Request ID is 0b636aae-a7f5-4d69-a07f-80fec6003542\n",
      "2024-12-23 21:19:48,573 INFO status has been updated to accepted\n",
      "2024-12-23 21:20:01,441 INFO status has been updated to running\n",
      "2024-12-23 22:04:39,007 INFO status has been updated to successful\n"
     ]
    },
    {
     "data": {
      "application/vnd.jupyter.widget-view+json": {
       "model_id": "2a2ccf034f644129b020df27b5a586ca",
       "version_major": 2,
       "version_minor": 0
      },
      "text/plain": [
       "7aa0ef17f12fe7ffad10a8df33bc87c7.nc:   0%|          | 0.00/2.85G [00:00<?, ?B/s]"
      ]
     },
     "metadata": {},
     "output_type": "display_data"
    },
    {
     "name": "stderr",
     "output_type": "stream",
     "text": [
      "2024-12-23 22:08:33,416 WARNING [2024-10-10T00:00:00] From 1 July to 17 November 2024, the final ERA5 product is different to ERA5T due to the correction of [the assimilation of incorrect snow observations on the Alps](https://confluence.ecmwf.int/x/USuXGw)\n",
      "2024-12-23 22:08:33,417 INFO Request ID is fb87d0b8-a22e-462a-9287-97c111e62615\n",
      "2024-12-23 22:08:34,199 INFO status has been updated to accepted\n",
      "2024-12-23 22:08:42,509 INFO status has been updated to running\n",
      "2024-12-23 23:11:51,160 INFO status has been updated to successful\n"
     ]
    },
    {
     "data": {
      "application/vnd.jupyter.widget-view+json": {
       "model_id": "faa2bb00f4764f9891b035ac945a7d9a",
       "version_major": 2,
       "version_minor": 0
      },
      "text/plain": [
       "d91c1e3159ebf2eb8153b4239af5dc16.nc:   0%|          | 0.00/2.96G [00:00<?, ?B/s]"
      ]
     },
     "metadata": {},
     "output_type": "display_data"
    },
    {
     "name": "stderr",
     "output_type": "stream",
     "text": [
      "2024-12-23 23:20:44,381 WARNING [2024-10-10T00:00:00] From 1 July to 17 November 2024, the final ERA5 product is different to ERA5T due to the correction of [the assimilation of incorrect snow observations on the Alps](https://confluence.ecmwf.int/x/USuXGw)\n",
      "2024-12-23 23:20:44,382 INFO Request ID is 25ac82ab-0548-4aed-bf69-f63749e60bb1\n",
      "2024-12-23 23:20:44,539 INFO status has been updated to accepted\n",
      "2024-12-23 23:20:52,477 INFO status has been updated to running\n",
      "2024-12-23 23:53:19,247 INFO status has been updated to successful\n"
     ]
    },
    {
     "data": {
      "application/vnd.jupyter.widget-view+json": {
       "model_id": "5e172d28987f490da904dadfe3ded6bc",
       "version_major": 2,
       "version_minor": 0
      },
      "text/plain": [
       "3a0ae774ae91a13754246bcca58ff9bc.nc:   0%|          | 0.00/2.88G [00:00<?, ?B/s]"
      ]
     },
     "metadata": {},
     "output_type": "display_data"
    },
    {
     "name": "stderr",
     "output_type": "stream",
     "text": [
      "2024-12-23 23:56:18,188 WARNING [2024-10-10T00:00:00] From 1 July to 17 November 2024, the final ERA5 product is different to ERA5T due to the correction of [the assimilation of incorrect snow observations on the Alps](https://confluence.ecmwf.int/x/USuXGw)\n",
      "2024-12-23 23:56:18,189 INFO Request ID is d0e23dc3-33d9-4eb2-a03e-b3d540ece952\n",
      "2024-12-23 23:56:18,337 INFO status has been updated to accepted\n",
      "2024-12-23 23:56:26,548 INFO status has been updated to running\n",
      "2024-12-24 00:30:46,701 INFO status has been updated to successful\n"
     ]
    },
    {
     "data": {
      "application/vnd.jupyter.widget-view+json": {
       "model_id": "e33a5ddc3dc340c59f32f1faf8d081c1",
       "version_major": 2,
       "version_minor": 0
      },
      "text/plain": [
       "8b84c113f0d2639dfa540e9f4d1870f4.nc:   0%|          | 0.00/2.99G [00:00<?, ?B/s]"
      ]
     },
     "metadata": {},
     "output_type": "display_data"
    },
    {
     "name": "stderr",
     "output_type": "stream",
     "text": [
      "2024-12-24 00:41:02,503 WARNING [2024-10-10T00:00:00] From 1 July to 17 November 2024, the final ERA5 product is different to ERA5T due to the correction of [the assimilation of incorrect snow observations on the Alps](https://confluence.ecmwf.int/x/USuXGw)\n",
      "2024-12-24 00:41:02,504 INFO Request ID is eaa0a225-08c0-4d7b-8cf5-33dad61c54d5\n",
      "2024-12-24 00:41:02,689 INFO status has been updated to accepted\n",
      "2024-12-24 00:41:24,045 INFO status has been updated to running\n",
      "2024-12-24 01:21:38,332 INFO status has been updated to successful\n"
     ]
    },
    {
     "data": {
      "application/vnd.jupyter.widget-view+json": {
       "model_id": "6d3010bc09004a5ab0129c2c055de9c2",
       "version_major": 2,
       "version_minor": 0
      },
      "text/plain": [
       "fc922847b7740207502d0fd4b391495b.nc:   0%|          | 0.00/3.01G [00:00<?, ?B/s]"
      ]
     },
     "metadata": {},
     "output_type": "display_data"
    },
    {
     "name": "stderr",
     "output_type": "stream",
     "text": [
      "2024-12-24 01:32:49,554 WARNING [2024-10-10T00:00:00] From 1 July to 17 November 2024, the final ERA5 product is different to ERA5T due to the correction of [the assimilation of incorrect snow observations on the Alps](https://confluence.ecmwf.int/x/USuXGw)\n",
      "2024-12-24 01:32:49,554 INFO Request ID is e21cd46f-a983-449a-9e16-71f79da064cd\n",
      "2024-12-24 01:32:49,851 INFO status has been updated to accepted\n",
      "2024-12-24 02:53:37,966 INFO status has been updated to running\n",
      "2024-12-24 03:15:44,056 INFO status has been updated to successful\n"
     ]
    },
    {
     "data": {
      "application/vnd.jupyter.widget-view+json": {
       "model_id": "5c36712ccf2e4a5bb6b6c60331f066a2",
       "version_major": 2,
       "version_minor": 0
      },
      "text/plain": [
       "955078c5e56eb74f7d43cdacabbb552f.nc:   0%|          | 0.00/2.77G [00:00<?, ?B/s]"
      ]
     },
     "metadata": {},
     "output_type": "display_data"
    },
    {
     "name": "stderr",
     "output_type": "stream",
     "text": [
      "2024-12-24 03:20:05,085 WARNING [2024-10-10T00:00:00] From 1 July to 17 November 2024, the final ERA5 product is different to ERA5T due to the correction of [the assimilation of incorrect snow observations on the Alps](https://confluence.ecmwf.int/x/USuXGw)\n",
      "2024-12-24 03:20:05,086 INFO Request ID is 6b089d44-7e7c-40aa-908c-efa393cbdfb6\n",
      "2024-12-24 03:20:05,331 INFO status has been updated to accepted\n",
      "2024-12-24 05:37:53,655 INFO status has been updated to running\n",
      "2024-12-24 06:10:18,161 INFO status has been updated to successful\n"
     ]
    },
    {
     "data": {
      "application/vnd.jupyter.widget-view+json": {
       "model_id": "4d0bf214370b409dad6eaf91618c049d",
       "version_major": 2,
       "version_minor": 0
      },
      "text/plain": [
       "2f23d84277e06486a50d1117f1d520a.nc:   0%|          | 0.00/3.03G [00:00<?, ?B/s]"
      ]
     },
     "metadata": {},
     "output_type": "display_data"
    },
    {
     "name": "stderr",
     "output_type": "stream",
     "text": [
      "2024-12-24 06:23:13,010 WARNING [2024-10-10T00:00:00] From 1 July to 17 November 2024, the final ERA5 product is different to ERA5T due to the correction of [the assimilation of incorrect snow observations on the Alps](https://confluence.ecmwf.int/x/USuXGw)\n",
      "2024-12-24 06:23:13,011 INFO Request ID is c9e9663f-e50a-4db3-998a-1e955c636fb0\n",
      "2024-12-24 06:23:13,166 INFO status has been updated to accepted\n",
      "2024-12-24 08:43:31,611 INFO status has been updated to running\n",
      "2024-12-24 09:11:41,715 INFO status has been updated to successful\n"
     ]
    },
    {
     "data": {
      "application/vnd.jupyter.widget-view+json": {
       "model_id": "5301f397a77b46ec8427e1b1b616a964",
       "version_major": 2,
       "version_minor": 0
      },
      "text/plain": [
       "458f2418e956078fa7e4e13f4ef329c5.nc:   0%|          | 0.00/2.91G [00:00<?, ?B/s]"
      ]
     },
     "metadata": {},
     "output_type": "display_data"
    },
    {
     "name": "stderr",
     "output_type": "stream",
     "text": [
      "2024-12-24 09:17:03,118 WARNING [2024-10-10T00:00:00] From 1 July to 17 November 2024, the final ERA5 product is different to ERA5T due to the correction of [the assimilation of incorrect snow observations on the Alps](https://confluence.ecmwf.int/x/USuXGw)\n",
      "2024-12-24 09:17:03,119 INFO Request ID is 2477cce1-196b-4ae8-9397-1a0ac7e7a49c\n",
      "2024-12-24 09:17:03,330 INFO status has been updated to accepted\n",
      "2024-12-24 12:10:41,211 INFO status has been updated to running\n",
      "2024-12-24 12:33:07,299 INFO status has been updated to successful\n"
     ]
    },
    {
     "data": {
      "application/vnd.jupyter.widget-view+json": {
       "model_id": "ea7eaad6b7be4543a46e5e5b1d61675a",
       "version_major": 2,
       "version_minor": 0
      },
      "text/plain": [
       "818262ceabc389a3d8c90829ab438b02.nc:   0%|          | 0.00/2.98G [00:00<?, ?B/s]"
      ]
     },
     "metadata": {},
     "output_type": "display_data"
    },
    {
     "name": "stderr",
     "output_type": "stream",
     "text": [
      "2024-12-24 12:44:44,698 WARNING [2024-10-10T00:00:00] From 1 July to 17 November 2024, the final ERA5 product is different to ERA5T due to the correction of [the assimilation of incorrect snow observations on the Alps](https://confluence.ecmwf.int/x/USuXGw)\n",
      "2024-12-24 12:44:44,699 INFO Request ID is 5cdce014-36f1-4d0f-9a2c-080758606941\n",
      "2024-12-24 12:44:44,854 INFO status has been updated to accepted\n",
      "2024-12-24 15:22:00,066 INFO status has been updated to running\n",
      "2024-12-24 15:54:26,284 INFO status has been updated to successful\n"
     ]
    },
    {
     "data": {
      "application/vnd.jupyter.widget-view+json": {
       "model_id": "b74b3df3445e42f08e1e6968dbe32425",
       "version_major": 2,
       "version_minor": 0
      },
      "text/plain": [
       "8bfe2a7057caf4185566c1b6acfb6b4e.nc:   0%|          | 0.00/2.87G [00:00<?, ?B/s]"
      ]
     },
     "metadata": {},
     "output_type": "display_data"
    },
    {
     "name": "stderr",
     "output_type": "stream",
     "text": [
      "2024-12-24 16:01:47,400 WARNING [2024-10-10T00:00:00] From 1 July to 17 November 2024, the final ERA5 product is different to ERA5T due to the correction of [the assimilation of incorrect snow observations on the Alps](https://confluence.ecmwf.int/x/USuXGw)\n",
      "2024-12-24 16:01:47,401 INFO Request ID is b6094904-64ff-43fb-836f-ee3437eb1801\n",
      "2024-12-24 16:01:47,630 INFO status has been updated to accepted\n",
      "2024-12-24 17:30:50,320 INFO status has been updated to running\n",
      "2024-12-24 17:52:55,894 INFO status has been updated to successful\n"
     ]
    },
    {
     "data": {
      "application/vnd.jupyter.widget-view+json": {
       "model_id": "266f1ca9674647abb68da3ce2364dc96",
       "version_major": 2,
       "version_minor": 0
      },
      "text/plain": [
       "f17595551295c045cf4a997d6ee1ff1.nc:   0%|          | 0.00/2.94G [00:00<?, ?B/s]"
      ]
     },
     "metadata": {},
     "output_type": "display_data"
    },
    {
     "name": "stderr",
     "output_type": "stream",
     "text": [
      "2024-12-24 17:56:50,109 WARNING [2024-10-10T00:00:00] From 1 July to 17 November 2024, the final ERA5 product is different to ERA5T due to the correction of [the assimilation of incorrect snow observations on the Alps](https://confluence.ecmwf.int/x/USuXGw)\n",
      "2024-12-24 17:56:50,110 INFO Request ID is 8b817194-b957-42d3-904a-ea6dd52975ae\n",
      "2024-12-24 17:56:50,277 INFO status has been updated to accepted\n",
      "2024-12-24 18:33:18,640 INFO status has been updated to running\n",
      "2024-12-24 19:27:37,522 INFO status has been updated to successful\n"
     ]
    },
    {
     "data": {
      "application/vnd.jupyter.widget-view+json": {
       "model_id": "efc4c3e6b68840e693aa0bece70d56eb",
       "version_major": 2,
       "version_minor": 0
      },
      "text/plain": [
       "4824d8a7eafd958166cbf4bddaaab3f.nc:   0%|          | 0.00/2.95G [00:00<?, ?B/s]"
      ]
     },
     "metadata": {},
     "output_type": "display_data"
    },
    {
     "name": "stderr",
     "output_type": "stream",
     "text": [
      "2024-12-24 19:30:41,248 WARNING [2024-10-10T00:00:00] From 1 July to 17 November 2024, the final ERA5 product is different to ERA5T due to the correction of [the assimilation of incorrect snow observations on the Alps](https://confluence.ecmwf.int/x/USuXGw)\n",
      "2024-12-24 19:30:41,249 INFO Request ID is 80408f2c-8102-414f-a2f8-0918ae5128bc\n",
      "2024-12-24 19:30:41,532 INFO status has been updated to accepted\n",
      "2024-12-24 19:51:04,634 INFO status has been updated to running\n",
      "Recovering from connection error [('Connection aborted.', RemoteDisconnected('Remote end closed connection without response'))], attemps 1 of 500\n",
      "Retrying in 120 seconds\n",
      "2024-12-24 20:24:08,643 INFO status has been updated to successful\n"
     ]
    },
    {
     "data": {
      "application/vnd.jupyter.widget-view+json": {
       "model_id": "5dd54f8e7457414ba8d96ebe7f001563",
       "version_major": 2,
       "version_minor": 0
      },
      "text/plain": [
       "40b99904ac22f49726f2d0f89423d3fd.nc:   0%|          | 0.00/2.86G [00:00<?, ?B/s]"
      ]
     },
     "metadata": {},
     "output_type": "display_data"
    },
    {
     "name": "stderr",
     "output_type": "stream",
     "text": [
      "2024-12-24 20:34:11,779 WARNING [2024-10-10T00:00:00] From 1 July to 17 November 2024, the final ERA5 product is different to ERA5T due to the correction of [the assimilation of incorrect snow observations on the Alps](https://confluence.ecmwf.int/x/USuXGw)\n",
      "2024-12-24 20:34:11,780 INFO Request ID is 39bdc921-7abb-4430-a9f6-f02fdd5d6573\n",
      "2024-12-24 20:34:12,033 INFO status has been updated to accepted\n",
      "2024-12-24 20:52:35,589 INFO status has been updated to running\n",
      "2024-12-24 21:18:52,400 INFO status has been updated to successful\n"
     ]
    },
    {
     "data": {
      "application/vnd.jupyter.widget-view+json": {
       "model_id": "33223d6ba9b8419e957d4dd1e8a4c05a",
       "version_major": 2,
       "version_minor": 0
      },
      "text/plain": [
       "fb534cc08962ac0f19991229a6b0f829.nc:   0%|          | 0.00/2.98G [00:00<?, ?B/s]"
      ]
     },
     "metadata": {},
     "output_type": "display_data"
    },
    {
     "name": "stderr",
     "output_type": "stream",
     "text": [
      "2024-12-24 21:22:49,223 WARNING [2024-10-10T00:00:00] From 1 July to 17 November 2024, the final ERA5 product is different to ERA5T due to the correction of [the assimilation of incorrect snow observations on the Alps](https://confluence.ecmwf.int/x/USuXGw)\n",
      "2024-12-24 21:22:49,223 INFO Request ID is ac5153ae-4e96-4a63-b862-6c2001179277\n",
      "2024-12-24 21:22:49,389 INFO status has been updated to accepted\n",
      "2024-12-24 21:47:13,301 INFO status has been updated to running\n",
      "2024-12-24 22:13:25,262 INFO status has been updated to successful\n"
     ]
    },
    {
     "data": {
      "application/vnd.jupyter.widget-view+json": {
       "model_id": "a75ed401f2174404bfdd4ebb59d4fd9c",
       "version_major": 2,
       "version_minor": 0
      },
      "text/plain": [
       "5d742b8dabe22f02485c4d12c26afadf.nc:   0%|          | 0.00/2.89G [00:00<?, ?B/s]"
      ]
     },
     "metadata": {},
     "output_type": "display_data"
    },
    {
     "name": "stderr",
     "output_type": "stream",
     "text": [
      "2024-12-24 22:19:57,321 WARNING [2024-10-10T00:00:00] From 1 July to 17 November 2024, the final ERA5 product is different to ERA5T due to the correction of [the assimilation of incorrect snow observations on the Alps](https://confluence.ecmwf.int/x/USuXGw)\n",
      "2024-12-24 22:19:57,322 INFO Request ID is 23f348a3-ef93-4bed-bad3-97b44e590150\n",
      "2024-12-24 22:19:57,469 INFO status has been updated to accepted\n",
      "2024-12-24 22:20:18,813 INFO status has been updated to running\n",
      "2024-12-24 22:48:23,465 INFO status has been updated to successful\n"
     ]
    },
    {
     "data": {
      "application/vnd.jupyter.widget-view+json": {
       "model_id": "67088cc8dcf647e084fb2db8a0bdbdc0",
       "version_major": 2,
       "version_minor": 0
      },
      "text/plain": [
       "79c0ea9ac6dfa024cff6bb4fe391efa.nc:   0%|          | 0.00/3.00G [00:00<?, ?B/s]"
      ]
     },
     "metadata": {},
     "output_type": "display_data"
    },
    {
     "name": "stderr",
     "output_type": "stream",
     "text": [
      "2024-12-24 22:53:55,963 WARNING [2024-10-10T00:00:00] From 1 July to 17 November 2024, the final ERA5 product is different to ERA5T due to the correction of [the assimilation of incorrect snow observations on the Alps](https://confluence.ecmwf.int/x/USuXGw)\n",
      "2024-12-24 22:53:55,963 INFO Request ID is e888c0dd-c477-48c5-990a-6c5262178a45\n",
      "2024-12-24 22:53:56,142 INFO status has been updated to accepted\n",
      "2024-12-24 23:12:18,183 INFO status has been updated to running\n",
      "2024-12-24 23:36:24,543 INFO status has been updated to successful\n"
     ]
    },
    {
     "data": {
      "application/vnd.jupyter.widget-view+json": {
       "model_id": "5548ff175c5d4ad9801f2e574e2f643c",
       "version_major": 2,
       "version_minor": 0
      },
      "text/plain": [
       "10d810ca1d3b949f23108352863b7c9c.nc:   0%|          | 0.00/3.00G [00:00<?, ?B/s]"
      ]
     },
     "metadata": {},
     "output_type": "display_data"
    },
    {
     "name": "stderr",
     "output_type": "stream",
     "text": [
      "2024-12-24 23:39:18,156 WARNING [2024-10-10T00:00:00] From 1 July to 17 November 2024, the final ERA5 product is different to ERA5T due to the correction of [the assimilation of incorrect snow observations on the Alps](https://confluence.ecmwf.int/x/USuXGw)\n",
      "2024-12-24 23:39:18,157 INFO Request ID is 8a1736d1-d93c-4825-9d7e-84735fae3c8d\n",
      "2024-12-24 23:39:18,307 INFO status has been updated to accepted\n",
      "2024-12-24 23:45:42,910 INFO status has been updated to running\n",
      "2024-12-25 00:07:58,471 INFO status has been updated to successful\n"
     ]
    },
    {
     "data": {
      "application/vnd.jupyter.widget-view+json": {
       "model_id": "5d664448389d4059818c9a0af02289bc",
       "version_major": 2,
       "version_minor": 0
      },
      "text/plain": [
       "21560510d86a2186ee22459bb62fdb17.nc:   0%|          | 0.00/2.75G [00:00<?, ?B/s]"
      ]
     },
     "metadata": {},
     "output_type": "display_data"
    },
    {
     "name": "stderr",
     "output_type": "stream",
     "text": [
      "2024-12-25 00:28:27,504 WARNING [2024-10-10T00:00:00] From 1 July to 17 November 2024, the final ERA5 product is different to ERA5T due to the correction of [the assimilation of incorrect snow observations on the Alps](https://confluence.ecmwf.int/x/USuXGw)\n",
      "2024-12-25 00:28:27,504 INFO Request ID is f48fe706-c89b-4190-8626-e1a80d854678\n",
      "2024-12-25 00:28:27,664 INFO status has been updated to accepted\n",
      "2024-12-25 00:28:35,310 INFO status has been updated to running\n",
      "2024-12-25 01:01:00,504 INFO status has been updated to successful\n"
     ]
    },
    {
     "data": {
      "application/vnd.jupyter.widget-view+json": {
       "model_id": "3ea868cd2a8b459fa4f68605dd54948b",
       "version_major": 2,
       "version_minor": 0
      },
      "text/plain": [
       "b2ac8eb1b3b15a9697e1f33c1a21314e.nc:   0%|          | 0.00/3.01G [00:00<?, ?B/s]"
      ]
     },
     "metadata": {},
     "output_type": "display_data"
    },
    {
     "name": "stderr",
     "output_type": "stream",
     "text": [
      "2024-12-25 01:20:45,899 WARNING [2024-10-10T00:00:00] From 1 July to 17 November 2024, the final ERA5 product is different to ERA5T due to the correction of [the assimilation of incorrect snow observations on the Alps](https://confluence.ecmwf.int/x/USuXGw)\n",
      "2024-12-25 01:20:45,900 INFO Request ID is 36728cd5-2449-4503-ae61-8ab633c77297\n",
      "2024-12-25 01:20:46,055 INFO status has been updated to accepted\n",
      "2024-12-25 01:20:53,685 INFO status has been updated to running\n",
      "2024-12-25 01:49:16,904 INFO status has been updated to successful\n"
     ]
    },
    {
     "data": {
      "application/vnd.jupyter.widget-view+json": {
       "model_id": "c81b6d28e26e4950a475b1ddf5824417",
       "version_major": 2,
       "version_minor": 0
      },
      "text/plain": [
       "f02d8527ca8e2bf618026e23790ff8ac.nc:   0%|          | 0.00/2.90G [00:00<?, ?B/s]"
      ]
     },
     "metadata": {},
     "output_type": "display_data"
    },
    {
     "name": "stderr",
     "output_type": "stream",
     "text": [
      "2024-12-25 01:56:22,757 WARNING [2024-10-10T00:00:00] From 1 July to 17 November 2024, the final ERA5 product is different to ERA5T due to the correction of [the assimilation of incorrect snow observations on the Alps](https://confluence.ecmwf.int/x/USuXGw)\n",
      "2024-12-25 01:56:22,758 INFO Request ID is 401290e5-1c33-48ce-9409-eee9a05ab41b\n",
      "2024-12-25 01:56:23,001 INFO status has been updated to accepted\n",
      "2024-12-25 01:56:30,886 INFO status has been updated to running\n",
      "2024-12-25 01:56:36,082 INFO status has been updated to accepted\n",
      "2024-12-25 01:56:43,812 INFO status has been updated to running\n",
      "2024-12-25 02:32:56,739 INFO status has been updated to successful\n"
     ]
    },
    {
     "data": {
      "application/vnd.jupyter.widget-view+json": {
       "model_id": "de7648e9d5164aa7a1474453cc6ce5bf",
       "version_major": 2,
       "version_minor": 0
      },
      "text/plain": [
       "ce2ba0af399144cc6bd2604f6c0d48de.nc:   0%|          | 0.00/2.96G [00:00<?, ?B/s]"
      ]
     },
     "metadata": {},
     "output_type": "display_data"
    },
    {
     "name": "stderr",
     "output_type": "stream",
     "text": [
      "2024-12-25 02:37:51,860 WARNING [2024-10-10T00:00:00] From 1 July to 17 November 2024, the final ERA5 product is different to ERA5T due to the correction of [the assimilation of incorrect snow observations on the Alps](https://confluence.ecmwf.int/x/USuXGw)\n",
      "2024-12-25 02:37:51,861 INFO Request ID is d90676b6-3841-4618-bf0a-15e256b87739\n",
      "2024-12-25 02:37:52,073 INFO status has been updated to accepted\n",
      "2024-12-25 02:39:46,041 INFO status has been updated to running\n",
      "2024-12-25 03:12:27,894 INFO status has been updated to successful\n"
     ]
    },
    {
     "data": {
      "application/vnd.jupyter.widget-view+json": {
       "model_id": "ab295ed20a4e4655a8e68429212b4742",
       "version_major": 2,
       "version_minor": 0
      },
      "text/plain": [
       "3a216e03c7830d9ce6c09dffbc9ce83d.nc:   0%|          | 0.00/2.88G [00:00<?, ?B/s]"
      ]
     },
     "metadata": {},
     "output_type": "display_data"
    },
    {
     "name": "stderr",
     "output_type": "stream",
     "text": [
      "2024-12-25 03:15:49,122 WARNING [2024-10-10T00:00:00] From 1 July to 17 November 2024, the final ERA5 product is different to ERA5T due to the correction of [the assimilation of incorrect snow observations on the Alps](https://confluence.ecmwf.int/x/USuXGw)\n",
      "2024-12-25 03:15:49,123 INFO Request ID is 34eca6c3-73dd-4048-b55f-8c0fa4603e2f\n",
      "2024-12-25 03:15:49,278 INFO status has been updated to accepted\n",
      "2024-12-25 03:24:14,663 INFO status has been updated to running\n",
      "2024-12-25 03:54:36,677 INFO status has been updated to successful\n"
     ]
    },
    {
     "data": {
      "application/vnd.jupyter.widget-view+json": {
       "model_id": "58b8a7a484984cc88fbe651707178a4c",
       "version_major": 2,
       "version_minor": 0
      },
      "text/plain": [
       "3d3c7064d977d6aff526b8cf36bcd9cd.nc:   0%|          | 0.00/2.95G [00:00<?, ?B/s]"
      ]
     },
     "metadata": {},
     "output_type": "display_data"
    },
    {
     "name": "stderr",
     "output_type": "stream",
     "text": [
      "2024-12-25 03:59:22,610 WARNING [2024-10-10T00:00:00] From 1 July to 17 November 2024, the final ERA5 product is different to ERA5T due to the correction of [the assimilation of incorrect snow observations on the Alps](https://confluence.ecmwf.int/x/USuXGw)\n",
      "2024-12-25 03:59:22,611 INFO Request ID is f4aa9138-9da5-4895-90f0-29b37dc3592f\n",
      "2024-12-25 03:59:23,223 INFO status has been updated to accepted\n",
      "2024-12-25 04:56:08,833 INFO status has been updated to running\n",
      "2024-12-25 05:30:23,956 INFO status has been updated to successful\n"
     ]
    },
    {
     "data": {
      "application/vnd.jupyter.widget-view+json": {
       "model_id": "43ec7bbe0817452c9353eea10f650d0c",
       "version_major": 2,
       "version_minor": 0
      },
      "text/plain": [
       "70a3168ccd380053f143c38647f0d1c.nc:   0%|          | 0.00/2.96G [00:00<?, ?B/s]"
      ]
     },
     "metadata": {},
     "output_type": "display_data"
    },
    {
     "name": "stderr",
     "output_type": "stream",
     "text": [
      "2024-12-25 05:46:42,549 WARNING [2024-10-10T00:00:00] From 1 July to 17 November 2024, the final ERA5 product is different to ERA5T due to the correction of [the assimilation of incorrect snow observations on the Alps](https://confluence.ecmwf.int/x/USuXGw)\n",
      "2024-12-25 05:46:42,550 INFO Request ID is 214caaa4-6059-428b-bca8-374be2ab3c82\n",
      "2024-12-25 05:46:42,777 INFO status has been updated to accepted\n",
      "2024-12-25 06:23:12,569 INFO status has been updated to running\n",
      "2024-12-25 06:47:28,379 INFO status has been updated to successful\n"
     ]
    },
    {
     "data": {
      "application/vnd.jupyter.widget-view+json": {
       "model_id": "74aff615aca342178fd9838c737788b9",
       "version_major": 2,
       "version_minor": 0
      },
      "text/plain": [
       "cadb3c6cad7350ef8deb37aa6cabd1b3.nc:   0%|          | 0.00/2.86G [00:00<?, ?B/s]"
      ]
     },
     "metadata": {},
     "output_type": "display_data"
    },
    {
     "name": "stderr",
     "output_type": "stream",
     "text": [
      "2024-12-25 06:51:22,843 WARNING [2024-10-10T00:00:00] From 1 July to 17 November 2024, the final ERA5 product is different to ERA5T due to the correction of [the assimilation of incorrect snow observations on the Alps](https://confluence.ecmwf.int/x/USuXGw)\n",
      "2024-12-25 06:51:22,844 INFO Request ID is d9a38518-1f27-4eef-b8d5-c907566ba466\n",
      "2024-12-25 06:51:23,003 INFO status has been updated to accepted\n",
      "2024-12-25 07:56:16,758 INFO status has been updated to running\n",
      "2024-12-25 08:20:23,036 INFO status has been updated to successful\n"
     ]
    },
    {
     "data": {
      "application/vnd.jupyter.widget-view+json": {
       "model_id": "6288e180dbf94667a20a178254fb356f",
       "version_major": 2,
       "version_minor": 0
      },
      "text/plain": [
       "48dc71147977409700dfc0f450b8402d.nc:   0%|          | 0.00/2.96G [00:00<?, ?B/s]"
      ]
     },
     "metadata": {},
     "output_type": "display_data"
    },
    {
     "name": "stderr",
     "output_type": "stream",
     "text": [
      "2024-12-25 08:23:17,301 WARNING [2024-10-10T00:00:00] From 1 July to 17 November 2024, the final ERA5 product is different to ERA5T due to the correction of [the assimilation of incorrect snow observations on the Alps](https://confluence.ecmwf.int/x/USuXGw)\n",
      "2024-12-25 08:23:17,302 INFO Request ID is 0390ad0e-609e-48f5-aa2e-1e5466e9428b\n",
      "2024-12-25 08:23:17,451 INFO status has been updated to accepted\n",
      "2024-12-25 09:21:56,236 INFO status has been updated to running\n",
      "2024-12-25 09:46:02,042 INFO status has been updated to successful\n"
     ]
    },
    {
     "data": {
      "application/vnd.jupyter.widget-view+json": {
       "model_id": "a1a37a8ca53f4d1a9662c49baafe4399",
       "version_major": 2,
       "version_minor": 0
      },
      "text/plain": [
       "d8c35b245b42dac2be11d1527d981aa.nc:   0%|          | 0.00/2.90G [00:00<?, ?B/s]"
      ]
     },
     "metadata": {},
     "output_type": "display_data"
    },
    {
     "name": "stderr",
     "output_type": "stream",
     "text": [
      "2024-12-25 09:48:58,781 WARNING [2024-10-10T00:00:00] From 1 July to 17 November 2024, the final ERA5 product is different to ERA5T due to the correction of [the assimilation of incorrect snow observations on the Alps](https://confluence.ecmwf.int/x/USuXGw)\n",
      "2024-12-25 09:48:58,782 INFO Request ID is 8e84ea97-a153-425a-bb6e-b82230339377\n",
      "2024-12-25 09:48:58,980 INFO status has been updated to accepted\n",
      "2024-12-25 10:55:39,386 INFO status has been updated to running\n",
      "2024-12-25 11:27:53,337 INFO status has been updated to successful\n"
     ]
    },
    {
     "data": {
      "application/vnd.jupyter.widget-view+json": {
       "model_id": "0c056af2f19e408995538675b65a6d8d",
       "version_major": 2,
       "version_minor": 0
      },
      "text/plain": [
       "f85e1dfc8713e5c30861095196b631cd.nc:   0%|          | 0.00/3.01G [00:00<?, ?B/s]"
      ]
     },
     "metadata": {},
     "output_type": "display_data"
    },
    {
     "name": "stderr",
     "output_type": "stream",
     "text": [
      "2024-12-25 11:31:19,951 WARNING [2024-10-10T00:00:00] From 1 July to 17 November 2024, the final ERA5 product is different to ERA5T due to the correction of [the assimilation of incorrect snow observations on the Alps](https://confluence.ecmwf.int/x/USuXGw)\n",
      "2024-12-25 11:31:19,951 INFO Request ID is 654fad90-71a4-4063-a610-0506cf5bb898\n",
      "2024-12-25 11:31:20,215 INFO status has been updated to accepted\n",
      "2024-12-25 12:44:27,928 INFO status has been updated to running\n",
      "2024-12-25 13:08:34,298 INFO status has been updated to successful\n"
     ]
    },
    {
     "data": {
      "application/vnd.jupyter.widget-view+json": {
       "model_id": "666ab2eee1084e5b948687675f9e2456",
       "version_major": 2,
       "version_minor": 0
      },
      "text/plain": [
       "e4579f0d57eeceefb7f3da40b9c05777.nc:   0%|          | 0.00/3.04G [00:00<?, ?B/s]"
      ]
     },
     "metadata": {},
     "output_type": "display_data"
    },
    {
     "name": "stderr",
     "output_type": "stream",
     "text": [
      "2024-12-25 13:20:08,571 WARNING [2024-10-10T00:00:00] From 1 July to 17 November 2024, the final ERA5 product is different to ERA5T due to the correction of [the assimilation of incorrect snow observations on the Alps](https://confluence.ecmwf.int/x/USuXGw)\n",
      "2024-12-25 13:20:08,572 INFO Request ID is 7a02d848-21b5-4db3-9678-cb0922788d11\n",
      "2024-12-25 13:20:08,715 INFO status has been updated to accepted\n",
      "2024-12-25 14:31:06,966 INFO status has been updated to running\n",
      "2024-12-25 15:01:20,763 INFO status has been updated to successful\n"
     ]
    },
    {
     "data": {
      "application/vnd.jupyter.widget-view+json": {
       "model_id": "e8036daadba145e7ab20ba6b1a7d68ce",
       "version_major": 2,
       "version_minor": 0
      },
      "text/plain": [
       "f991d348cf0f4d8790e9a293ca363422.nc:   0%|          | 0.00/2.84G [00:00<?, ?B/s]"
      ]
     },
     "metadata": {},
     "output_type": "display_data"
    },
    {
     "name": "stderr",
     "output_type": "stream",
     "text": [
      "2024-12-25 15:05:56,496 WARNING [2024-10-10T00:00:00] From 1 July to 17 November 2024, the final ERA5 product is different to ERA5T due to the correction of [the assimilation of incorrect snow observations on the Alps](https://confluence.ecmwf.int/x/USuXGw)\n",
      "2024-12-25 15:05:56,497 INFO Request ID is 8056ebac-d770-4464-a48d-27ec3fe291ca\n",
      "2024-12-25 15:05:56,650 INFO status has been updated to accepted\n",
      "2024-12-25 15:58:29,422 INFO status has been updated to running\n",
      "2024-12-25 16:36:54,648 INFO status has been updated to successful\n"
     ]
    },
    {
     "data": {
      "application/vnd.jupyter.widget-view+json": {
       "model_id": "2388f498a5d84838817b6644be1cf29a",
       "version_major": 2,
       "version_minor": 0
      },
      "text/plain": [
       "716dceb388a50312535ef775ea882057.nc:   0%|          | 0.00/3.01G [00:00<?, ?B/s]"
      ]
     },
     "metadata": {},
     "output_type": "display_data"
    },
    {
     "name": "stderr",
     "output_type": "stream",
     "text": [
      "2024-12-25 16:44:44,795 WARNING [2024-10-10T00:00:00] From 1 July to 17 November 2024, the final ERA5 product is different to ERA5T due to the correction of [the assimilation of incorrect snow observations on the Alps](https://confluence.ecmwf.int/x/USuXGw)\n",
      "2024-12-25 16:44:44,796 INFO Request ID is 2027d88f-00ff-4a20-b453-288272cebeae\n",
      "2024-12-25 16:44:44,940 INFO status has been updated to accepted\n",
      "2024-12-25 17:53:35,738 INFO status has been updated to running\n",
      "2024-12-25 18:23:48,614 INFO status has been updated to successful\n"
     ]
    },
    {
     "data": {
      "application/vnd.jupyter.widget-view+json": {
       "model_id": "4d67900ae9e34973a32258da8045a5f7",
       "version_major": 2,
       "version_minor": 0
      },
      "text/plain": [
       "48d2413449c028f0976115f14928d821.nc:   0%|          | 0.00/2.90G [00:00<?, ?B/s]"
      ]
     },
     "metadata": {},
     "output_type": "display_data"
    },
    {
     "name": "stderr",
     "output_type": "stream",
     "text": [
      "2024-12-25 18:29:46,301 WARNING [2024-10-10T00:00:00] From 1 July to 17 November 2024, the final ERA5 product is different to ERA5T due to the correction of [the assimilation of incorrect snow observations on the Alps](https://confluence.ecmwf.int/x/USuXGw)\n",
      "2024-12-25 18:29:46,302 INFO Request ID is 9439bcec-428f-4ee5-bd0c-16e2b871ca87\n",
      "2024-12-25 18:29:46,478 INFO status has been updated to accepted\n",
      "2024-12-25 19:28:24,159 INFO status has been updated to running\n",
      "2024-12-25 19:58:32,008 INFO status has been updated to successful\n"
     ]
    },
    {
     "data": {
      "application/vnd.jupyter.widget-view+json": {
       "model_id": "9571a0ef56d841f9a0e392c2bfd3df00",
       "version_major": 2,
       "version_minor": 0
      },
      "text/plain": [
       "a3d3580b6b2e38a4654bad6932f93300.nc:   0%|          | 0.00/2.96G [00:00<?, ?B/s]"
      ]
     },
     "metadata": {},
     "output_type": "display_data"
    },
    {
     "name": "stderr",
     "output_type": "stream",
     "text": [
      "2024-12-25 20:05:34,902 WARNING [2024-10-10T00:00:00] From 1 July to 17 November 2024, the final ERA5 product is different to ERA5T due to the correction of [the assimilation of incorrect snow observations on the Alps](https://confluence.ecmwf.int/x/USuXGw)\n",
      "2024-12-25 20:05:34,903 INFO Request ID is d5f10230-dcb6-494f-8074-6ee9012779c0\n",
      "2024-12-25 20:05:35,134 INFO status has been updated to accepted\n",
      "Recovering from connection error [('Connection aborted.', RemoteDisconnected('Remote end closed connection without response'))], attemps 1 of 500\n",
      "Retrying in 120 seconds\n",
      "2024-12-25 21:05:05,081 INFO status has been updated to running\n",
      "2024-12-25 21:27:10,856 INFO status has been updated to successful\n"
     ]
    },
    {
     "data": {
      "application/vnd.jupyter.widget-view+json": {
       "model_id": "69b1b2cb310b40639366c6f5a7ec67df",
       "version_major": 2,
       "version_minor": 0
      },
      "text/plain": [
       "e42af3bbf295866ae843f45ac2fd242f.nc:   0%|          | 0.00/2.85G [00:00<?, ?B/s]"
      ]
     },
     "metadata": {},
     "output_type": "display_data"
    },
    {
     "name": "stderr",
     "output_type": "stream",
     "text": [
      "2024-12-25 21:31:37,149 WARNING [2024-10-10T00:00:00] From 1 July to 17 November 2024, the final ERA5 product is different to ERA5T due to the correction of [the assimilation of incorrect snow observations on the Alps](https://confluence.ecmwf.int/x/USuXGw)\n",
      "2024-12-25 21:31:37,150 INFO Request ID is f5b58065-4108-4718-8107-1a5522d8509a\n",
      "2024-12-25 21:31:37,298 INFO status has been updated to accepted\n",
      "2024-12-25 22:12:13,346 INFO status has been updated to running\n",
      "2024-12-25 22:52:35,709 INFO status has been updated to successful\n"
     ]
    },
    {
     "data": {
      "application/vnd.jupyter.widget-view+json": {
       "model_id": "82ff07e085c048b882b1aad5c6c4c070",
       "version_major": 2,
       "version_minor": 0
      },
      "text/plain": [
       "20bea0425860208290aa3278ce869282.nc:   0%|          | 0.00/2.95G [00:00<?, ?B/s]"
      ]
     },
     "metadata": {},
     "output_type": "display_data"
    },
    {
     "name": "stderr",
     "output_type": "stream",
     "text": [
      "2024-12-25 22:57:14,513 WARNING [2024-10-10T00:00:00] From 1 July to 17 November 2024, the final ERA5 product is different to ERA5T due to the correction of [the assimilation of incorrect snow observations on the Alps](https://confluence.ecmwf.int/x/USuXGw)\n",
      "2024-12-25 22:57:14,513 INFO Request ID is 20540eea-5e95-424d-bcc2-c5fe4b6d1b2c\n",
      "2024-12-25 22:57:14,669 INFO status has been updated to accepted\n",
      "2024-12-25 23:11:41,412 INFO status has been updated to running\n",
      "2024-12-25 23:43:49,758 INFO status has been updated to accepted\n",
      "2024-12-25 23:45:50,512 INFO status has been updated to running\n",
      "2024-12-26 00:46:27,986 INFO status has been updated to successful\n"
     ]
    },
    {
     "data": {
      "application/vnd.jupyter.widget-view+json": {
       "model_id": "51e8a0c1e93b4af88245bbed7e5a7810",
       "version_major": 2,
       "version_minor": 0
      },
      "text/plain": [
       "4fd6fb73e52922cab153c77d8c546053.nc:   0%|          | 0.00/2.94G [00:00<?, ?B/s]"
      ]
     },
     "metadata": {},
     "output_type": "display_data"
    },
    {
     "name": "stderr",
     "output_type": "stream",
     "text": [
      "2024-12-26 01:02:57,896 WARNING [2024-10-10T00:00:00] From 1 July to 17 November 2024, the final ERA5 product is different to ERA5T due to the correction of [the assimilation of incorrect snow observations on the Alps](https://confluence.ecmwf.int/x/USuXGw)\n",
      "2024-12-26 01:02:57,897 INFO Request ID is 435eb937-be00-45cb-a1dc-0138cbcc0bba\n",
      "2024-12-26 01:02:58,052 INFO status has been updated to accepted\n",
      "2024-12-26 01:07:18,072 INFO status has been updated to running\n",
      "2024-12-26 01:29:24,742 INFO status has been updated to successful\n"
     ]
    },
    {
     "data": {
      "application/vnd.jupyter.widget-view+json": {
       "model_id": "35c3031a3c1f4922a98473c65eead8f3",
       "version_major": 2,
       "version_minor": 0
      },
      "text/plain": [
       "1c032644b0e8b29c8dc27352112667ca.nc:   0%|          | 0.00/2.86G [00:00<?, ?B/s]"
      ]
     },
     "metadata": {},
     "output_type": "display_data"
    },
    {
     "name": "stderr",
     "output_type": "stream",
     "text": [
      "2024-12-26 01:32:52,714 WARNING [2024-10-10T00:00:00] From 1 July to 17 November 2024, the final ERA5 product is different to ERA5T due to the correction of [the assimilation of incorrect snow observations on the Alps](https://confluence.ecmwf.int/x/USuXGw)\n",
      "2024-12-26 01:32:52,715 INFO Request ID is 489ddcf3-b477-49e3-bef3-b2c2d51a42c5\n",
      "2024-12-26 01:32:52,859 INFO status has been updated to accepted\n",
      "2024-12-26 01:49:16,163 INFO status has been updated to running\n",
      "2024-12-26 02:25:37,083 INFO status has been updated to successful\n"
     ]
    },
    {
     "data": {
      "application/vnd.jupyter.widget-view+json": {
       "model_id": "26d14540e999442f881aae6aa7bbfae6",
       "version_major": 2,
       "version_minor": 0
      },
      "text/plain": [
       "6c511517b398c80faa08e55cfd100f70.nc:   0%|          | 0.00/2.97G [00:00<?, ?B/s]"
      ]
     },
     "metadata": {},
     "output_type": "display_data"
    },
    {
     "name": "stderr",
     "output_type": "stream",
     "text": [
      "2024-12-26 02:34:13,216 WARNING [2024-10-10T00:00:00] From 1 July to 17 November 2024, the final ERA5 product is different to ERA5T due to the correction of [the assimilation of incorrect snow observations on the Alps](https://confluence.ecmwf.int/x/USuXGw)\n",
      "2024-12-26 02:34:13,216 INFO Request ID is 64b5102f-c8c2-4e82-9d05-cab635b6495e\n",
      "2024-12-26 02:34:13,370 INFO status has been updated to accepted\n",
      "2024-12-26 02:44:34,802 INFO status has been updated to running\n",
      "2024-12-26 03:18:49,734 INFO status has been updated to successful\n"
     ]
    },
    {
     "data": {
      "application/vnd.jupyter.widget-view+json": {
       "model_id": "7675ca98df40445b84ef5a48773abce3",
       "version_major": 2,
       "version_minor": 0
      },
      "text/plain": [
       "f684b596dc3a5669fe733336ab3d3936.nc:   0%|          | 0.00/2.90G [00:00<?, ?B/s]"
      ]
     },
     "metadata": {},
     "output_type": "display_data"
    },
    {
     "name": "stderr",
     "output_type": "stream",
     "text": [
      "2024-12-26 03:22:15,933 WARNING [2024-10-10T00:00:00] From 1 July to 17 November 2024, the final ERA5 product is different to ERA5T due to the correction of [the assimilation of incorrect snow observations on the Alps](https://confluence.ecmwf.int/x/USuXGw)\n",
      "2024-12-26 03:22:15,934 INFO Request ID is 9f8ec7b4-5d53-4c35-abcd-35d641784ae1\n",
      "2024-12-26 03:22:16,119 INFO status has been updated to accepted\n",
      "2024-12-26 03:46:41,146 INFO status has been updated to running\n",
      "2024-12-26 04:24:59,950 INFO status has been updated to successful\n"
     ]
    },
    {
     "data": {
      "application/vnd.jupyter.widget-view+json": {
       "model_id": "6f4af76bc9ff43ea80023ae340ff0c16",
       "version_major": 2,
       "version_minor": 0
      },
      "text/plain": [
       "93b7eabe4899faec286c4ae17c33c167.nc:   0%|          | 0.00/3.01G [00:00<?, ?B/s]"
      ]
     },
     "metadata": {},
     "output_type": "display_data"
    },
    {
     "name": "stderr",
     "output_type": "stream",
     "text": [
      "2024-12-26 04:37:03,868 WARNING [2024-10-10T00:00:00] From 1 July to 17 November 2024, the final ERA5 product is different to ERA5T due to the correction of [the assimilation of incorrect snow observations on the Alps](https://confluence.ecmwf.int/x/USuXGw)\n",
      "2024-12-26 04:37:03,869 INFO Request ID is 52e83149-328b-46b5-930e-4a4f9d4cec2b\n",
      "2024-12-26 04:37:04,016 INFO status has been updated to accepted\n",
      "2024-12-26 05:23:43,983 INFO status has been updated to running\n",
      "2024-12-26 05:58:03,468 INFO status has been updated to successful\n"
     ]
    },
    {
     "data": {
      "application/vnd.jupyter.widget-view+json": {
       "model_id": "f5b9d54658374b5492172dd51d5f5704",
       "version_major": 2,
       "version_minor": 0
      },
      "text/plain": [
       "e7eb7b4dcedffc672df57b538658e46c.nc:   0%|          | 0.00/3.02G [00:00<?, ?B/s]"
      ]
     },
     "metadata": {},
     "output_type": "display_data"
    },
    {
     "name": "stderr",
     "output_type": "stream",
     "text": [
      "2024-12-26 06:01:58,203 WARNING [2024-10-10T00:00:00] From 1 July to 17 November 2024, the final ERA5 product is different to ERA5T due to the correction of [the assimilation of incorrect snow observations on the Alps](https://confluence.ecmwf.int/x/USuXGw)\n",
      "2024-12-26 06:01:58,204 INFO Request ID is 3798bf2c-3ff3-47bc-bd3c-c4b16de460a8\n",
      "2024-12-26 06:01:58,408 INFO status has been updated to accepted\n",
      "2024-12-26 06:38:26,687 INFO status has been updated to running\n",
      "2024-12-26 07:00:37,300 INFO status has been updated to successful\n"
     ]
    },
    {
     "data": {
      "application/vnd.jupyter.widget-view+json": {
       "model_id": "6f6597eee6dd40da9a122198d0c1f0d3",
       "version_major": 2,
       "version_minor": 0
      },
      "text/plain": [
       "87a2c8246e754aba57c1196a116bc907.nc:   0%|          | 0.00/2.74G [00:00<?, ?B/s]"
      ]
     },
     "metadata": {},
     "output_type": "display_data"
    },
    {
     "name": "stderr",
     "output_type": "stream",
     "text": [
      "2024-12-26 07:05:11,810 WARNING [2024-10-10T00:00:00] From 1 July to 17 November 2024, the final ERA5 product is different to ERA5T due to the correction of [the assimilation of incorrect snow observations on the Alps](https://confluence.ecmwf.int/x/USuXGw)\n",
      "2024-12-26 07:05:11,811 INFO Request ID is 95b7458e-18f5-47b3-9bc3-0f6a4109c6b8\n",
      "2024-12-26 07:05:11,958 INFO status has been updated to accepted\n",
      "2024-12-26 07:57:48,072 INFO status has been updated to running\n",
      "2024-12-26 08:29:56,919 INFO status has been updated to successful\n"
     ]
    },
    {
     "data": {
      "application/vnd.jupyter.widget-view+json": {
       "model_id": "c94e06c2fbb64ee09b4fb512b892cd93",
       "version_major": 2,
       "version_minor": 0
      },
      "text/plain": [
       "a62842ba64b5bf3c707b3bc23db0f281.nc:   0%|          | 0.00/3.01G [00:00<?, ?B/s]"
      ]
     },
     "metadata": {},
     "output_type": "display_data"
    },
    {
     "name": "stderr",
     "output_type": "stream",
     "text": [
      "2024-12-26 08:34:31,254 WARNING [2024-10-10T00:00:00] From 1 July to 17 November 2024, the final ERA5 product is different to ERA5T due to the correction of [the assimilation of incorrect snow observations on the Alps](https://confluence.ecmwf.int/x/USuXGw)\n",
      "2024-12-26 08:34:31,255 INFO Request ID is c33cb1ba-13bf-42de-9ba8-a219e11b94d8\n",
      "2024-12-26 08:34:31,405 INFO status has been updated to accepted\n",
      "2024-12-26 09:25:11,449 INFO status has been updated to running\n",
      "2024-12-26 09:57:20,050 INFO status has been updated to successful\n"
     ]
    },
    {
     "data": {
      "application/vnd.jupyter.widget-view+json": {
       "model_id": "fcca7382f10145668a1429833b90dcdc",
       "version_major": 2,
       "version_minor": 0
      },
      "text/plain": [
       "813d4dfc9d439c8fcfa5f1143e321a1d.nc:   0%|          | 0.00/2.89G [00:00<?, ?B/s]"
      ]
     },
     "metadata": {},
     "output_type": "display_data"
    },
    {
     "name": "stderr",
     "output_type": "stream",
     "text": [
      "2024-12-26 10:01:19,105 WARNING [2024-10-10T00:00:00] From 1 July to 17 November 2024, the final ERA5 product is different to ERA5T due to the correction of [the assimilation of incorrect snow observations on the Alps](https://confluence.ecmwf.int/x/USuXGw)\n",
      "2024-12-26 10:01:19,106 INFO Request ID is 6fcf26d7-b86c-42e9-bcf0-635a8916b084\n",
      "2024-12-26 10:01:19,319 INFO status has been updated to accepted\n",
      "2024-12-26 10:53:58,587 INFO status has been updated to running\n",
      "2024-12-26 11:30:18,356 INFO status has been updated to successful\n"
     ]
    },
    {
     "data": {
      "application/vnd.jupyter.widget-view+json": {
       "model_id": "fe1817d8f4a84f8fb367b112b83d3c50",
       "version_major": 2,
       "version_minor": 0
      },
      "text/plain": [
       "28b5d21477163d45bbb0a16f1584bf85.nc:   0%|          | 0.00/2.99G [00:00<?, ?B/s]"
      ]
     },
     "metadata": {},
     "output_type": "display_data"
    },
    {
     "name": "stderr",
     "output_type": "stream",
     "text": [
      "2024-12-26 11:34:49,353 WARNING [2024-10-10T00:00:00] From 1 July to 17 November 2024, the final ERA5 product is different to ERA5T due to the correction of [the assimilation of incorrect snow observations on the Alps](https://confluence.ecmwf.int/x/USuXGw)\n",
      "2024-12-26 11:34:49,354 INFO Request ID is 85e06c5c-637b-413f-bad9-6a11ab63c13c\n",
      "2024-12-26 11:34:49,498 INFO status has been updated to accepted\n",
      "2024-12-26 12:43:33,435 INFO status has been updated to running\n",
      "2024-12-26 13:35:56,764 INFO status has been updated to successful\n"
     ]
    },
    {
     "data": {
      "application/vnd.jupyter.widget-view+json": {
       "model_id": "7da451b0bdec417b819d655f26f96fd5",
       "version_major": 2,
       "version_minor": 0
      },
      "text/plain": [
       "5c7646789c5b705b73d4e44c1708ddd4.nc:   0%|          | 0.00/2.87G [00:00<?, ?B/s]"
      ]
     },
     "metadata": {},
     "output_type": "display_data"
    },
    {
     "name": "stderr",
     "output_type": "stream",
     "text": [
      "2024-12-26 13:54:52,392 WARNING [2024-10-10T00:00:00] From 1 July to 17 November 2024, the final ERA5 product is different to ERA5T due to the correction of [the assimilation of incorrect snow observations on the Alps](https://confluence.ecmwf.int/x/USuXGw)\n",
      "2024-12-26 13:54:52,393 INFO Request ID is 70f0e605-001e-45b2-b15b-560b4ef8880e\n",
      "2024-12-26 13:54:52,585 INFO status has been updated to accepted\n",
      "2024-12-26 15:01:54,507 INFO status has been updated to running\n",
      "2024-12-26 15:32:02,786 INFO status has been updated to successful\n"
     ]
    },
    {
     "data": {
      "application/vnd.jupyter.widget-view+json": {
       "model_id": "9bbf05b2c1d24f2fbb272ce2fbda9374",
       "version_major": 2,
       "version_minor": 0
      },
      "text/plain": [
       "d3010753d2abdc854848d2611c8fd4ab.nc:   0%|          | 0.00/2.97G [00:00<?, ?B/s]"
      ]
     },
     "metadata": {},
     "output_type": "display_data"
    },
    {
     "name": "stderr",
     "output_type": "stream",
     "text": [
      "2024-12-26 15:37:12,407 WARNING [2024-10-10T00:00:00] From 1 July to 17 November 2024, the final ERA5 product is different to ERA5T due to the correction of [the assimilation of incorrect snow observations on the Alps](https://confluence.ecmwf.int/x/USuXGw)\n",
      "2024-12-26 15:37:12,408 INFO Request ID is 5b688d05-1af6-4073-ab3b-b698bc40e6d8\n",
      "2024-12-26 15:37:12,648 INFO status has been updated to accepted\n",
      "2024-12-26 16:37:46,526 INFO status has been updated to running\n",
      "2024-12-26 17:08:00,724 INFO status has been updated to successful\n"
     ]
    },
    {
     "data": {
      "application/vnd.jupyter.widget-view+json": {
       "model_id": "da383bf3d62e486a802934ac8a84d852",
       "version_major": 2,
       "version_minor": 0
      },
      "text/plain": [
       "5b4077e1511d980ee43db391ce581a6.nc:   0%|          | 0.00/2.94G [00:00<?, ?B/s]"
      ]
     },
     "metadata": {},
     "output_type": "display_data"
    },
    {
     "name": "stderr",
     "output_type": "stream",
     "text": [
      "2024-12-26 17:11:45,903 WARNING [2024-10-10T00:00:00] From 1 July to 17 November 2024, the final ERA5 product is different to ERA5T due to the correction of [the assimilation of incorrect snow observations on the Alps](https://confluence.ecmwf.int/x/USuXGw)\n",
      "2024-12-26 17:11:45,904 INFO Request ID is a16eee4e-919e-4040-9cd6-4dfc2dc708b8\n",
      "2024-12-26 17:11:46,191 INFO status has been updated to accepted\n",
      "2024-12-26 18:12:25,009 INFO status has been updated to running\n",
      "2024-12-26 18:36:36,673 INFO status has been updated to successful\n"
     ]
    },
    {
     "data": {
      "application/vnd.jupyter.widget-view+json": {
       "model_id": "eebe84c3a6764c64aeb41066cb6cb5c1",
       "version_major": 2,
       "version_minor": 0
      },
      "text/plain": [
       "440195a3f8379aa7adf372feaada57f7.nc:   0%|          | 0.00/2.84G [00:00<?, ?B/s]"
      ]
     },
     "metadata": {},
     "output_type": "display_data"
    },
    {
     "name": "stderr",
     "output_type": "stream",
     "text": [
      "2024-12-26 18:42:00,564 WARNING [2024-10-10T00:00:00] From 1 July to 17 November 2024, the final ERA5 product is different to ERA5T due to the correction of [the assimilation of incorrect snow observations on the Alps](https://confluence.ecmwf.int/x/USuXGw)\n",
      "2024-12-26 18:42:00,565 INFO Request ID is 0eb68c15-27eb-4e3d-9174-bb516222b00a\n",
      "2024-12-26 18:42:01,087 INFO status has been updated to accepted\n",
      "2024-12-26 19:38:45,099 INFO status has been updated to running\n",
      "2024-12-26 20:16:54,636 INFO status has been updated to successful\n"
     ]
    },
    {
     "data": {
      "application/vnd.jupyter.widget-view+json": {
       "model_id": "f290e4a65a344310b35eeacb0263e6a4",
       "version_major": 2,
       "version_minor": 0
      },
      "text/plain": [
       "311a7203179ce066f7009785b059cd65.nc:   0%|          | 0.00/2.98G [00:00<?, ?B/s]"
      ]
     },
     "metadata": {},
     "output_type": "display_data"
    },
    {
     "name": "stderr",
     "output_type": "stream",
     "text": [
      "2024-12-26 20:22:40,224 WARNING [2024-10-10T00:00:00] From 1 July to 17 November 2024, the final ERA5 product is different to ERA5T due to the correction of [the assimilation of incorrect snow observations on the Alps](https://confluence.ecmwf.int/x/USuXGw)\n",
      "2024-12-26 20:22:40,225 INFO Request ID is fbd928c2-686a-4d67-a77f-34e0c8fcf54c\n",
      "2024-12-26 20:22:40,442 INFO status has been updated to accepted\n",
      "2024-12-26 21:27:31,604 INFO status has been updated to running\n",
      "2024-12-26 21:51:47,388 INFO status has been updated to successful\n"
     ]
    },
    {
     "data": {
      "application/vnd.jupyter.widget-view+json": {
       "model_id": "c448c242808d4d96b0c8d89fcd7ca7f3",
       "version_major": 2,
       "version_minor": 0
      },
      "text/plain": [
       "332af16ba899c2acc7622c313415b6be.nc:   0%|          | 0.00/2.89G [00:00<?, ?B/s]"
      ]
     },
     "metadata": {},
     "output_type": "display_data"
    },
    {
     "name": "stderr",
     "output_type": "stream",
     "text": [
      "2024-12-26 22:04:04,483 WARNING [2024-10-10T00:00:00] From 1 July to 17 November 2024, the final ERA5 product is different to ERA5T due to the correction of [the assimilation of incorrect snow observations on the Alps](https://confluence.ecmwf.int/x/USuXGw)\n",
      "2024-12-26 22:04:04,484 INFO Request ID is d1ba4f53-2e9b-41f7-8204-69e3eb4bb588\n",
      "2024-12-26 22:04:04,723 INFO status has been updated to accepted\n",
      "2024-12-26 22:50:47,157 INFO status has been updated to running\n",
      "2024-12-26 23:20:54,779 INFO status has been updated to successful\n"
     ]
    },
    {
     "data": {
      "application/vnd.jupyter.widget-view+json": {
       "model_id": "20b30722ceb94a2bb726e77bfd30ec4b",
       "version_major": 2,
       "version_minor": 0
      },
      "text/plain": [
       "f24d8b5ef3df31343a8cef4f44849cdb.nc:   0%|          | 0.00/3.02G [00:00<?, ?B/s]"
      ]
     },
     "metadata": {},
     "output_type": "display_data"
    },
    {
     "name": "stderr",
     "output_type": "stream",
     "text": [
      "2024-12-26 23:23:41,839 WARNING [2024-10-10T00:00:00] From 1 July to 17 November 2024, the final ERA5 product is different to ERA5T due to the correction of [the assimilation of incorrect snow observations on the Alps](https://confluence.ecmwf.int/x/USuXGw)\n",
      "2024-12-26 23:23:41,840 INFO Request ID is be4c818b-d61f-4fbc-a89f-6766db2da707\n",
      "2024-12-26 23:23:42,204 INFO status has been updated to accepted\n",
      "2024-12-27 00:16:45,116 INFO status has been updated to running\n",
      "2024-12-27 00:53:28,956 INFO status has been updated to successful\n"
     ]
    },
    {
     "data": {
      "application/vnd.jupyter.widget-view+json": {
       "model_id": "2f6ea0e3d60c47c4b2a8f843a6201ee9",
       "version_major": 2,
       "version_minor": 0
      },
      "text/plain": [
       "21e97411e2c4783dbf24598a7d6f5a22.nc:   0%|          | 0.00/3.01G [00:00<?, ?B/s]"
      ]
     },
     "metadata": {},
     "output_type": "display_data"
    },
    {
     "name": "stderr",
     "output_type": "stream",
     "text": [
      "2024-12-27 01:03:07,130 WARNING [2024-10-10T00:00:00] From 1 July to 17 November 2024, the final ERA5 product is different to ERA5T due to the correction of [the assimilation of incorrect snow observations on the Alps](https://confluence.ecmwf.int/x/USuXGw)\n",
      "2024-12-27 01:03:07,131 INFO Request ID is 5f0e9498-b474-42d6-a469-d5007663b4b7\n",
      "2024-12-27 01:03:07,564 INFO status has been updated to accepted\n",
      "2024-12-27 01:29:37,525 INFO status has been updated to running\n",
      "2024-12-27 02:03:50,635 INFO status has been updated to successful\n"
     ]
    },
    {
     "data": {
      "application/vnd.jupyter.widget-view+json": {
       "model_id": "1e91ffcbba9a4fd2a4ea749a4fe6ceee",
       "version_major": 2,
       "version_minor": 0
      },
      "text/plain": [
       "ce88ecf9a1fbf6c051ba009074d3b64d.nc:   0%|          | 0.00/2.75G [00:00<?, ?B/s]"
      ]
     },
     "metadata": {},
     "output_type": "display_data"
    },
    {
     "name": "stderr",
     "output_type": "stream",
     "text": [
      "2024-12-27 02:10:12,175 WARNING [2024-10-10T00:00:00] From 1 July to 17 November 2024, the final ERA5 product is different to ERA5T due to the correction of [the assimilation of incorrect snow observations on the Alps](https://confluence.ecmwf.int/x/USuXGw)\n",
      "2024-12-27 02:10:12,175 INFO Request ID is 4e4ced10-d795-4fb5-905d-b240007c5405\n",
      "2024-12-27 02:10:12,427 INFO status has been updated to accepted\n",
      "2024-12-27 02:28:45,576 INFO status has been updated to running\n",
      "2024-12-27 02:56:59,587 INFO status has been updated to successful\n"
     ]
    },
    {
     "data": {
      "application/vnd.jupyter.widget-view+json": {
       "model_id": "f5797529d5274341980f5074806ada7f",
       "version_major": 2,
       "version_minor": 0
      },
      "text/plain": [
       "3a17f28e050bdb9b489e6493827034b.nc:   0%|          | 0.00/3.01G [00:00<?, ?B/s]"
      ]
     },
     "metadata": {},
     "output_type": "display_data"
    },
    {
     "name": "stderr",
     "output_type": "stream",
     "text": [
      "2024-12-27 03:02:52,394 WARNING [2024-10-10T00:00:00] From 1 July to 17 November 2024, the final ERA5 product is different to ERA5T due to the correction of [the assimilation of incorrect snow observations on the Alps](https://confluence.ecmwf.int/x/USuXGw)\n",
      "2024-12-27 03:02:52,395 INFO Request ID is 7ea97aa2-877e-48e7-899b-2431ab38abb9\n",
      "2024-12-27 03:02:52,565 INFO status has been updated to accepted\n",
      "2024-12-27 03:19:16,232 INFO status has been updated to running\n",
      "2024-12-27 03:51:37,567 INFO status has been updated to successful\n"
     ]
    },
    {
     "data": {
      "application/vnd.jupyter.widget-view+json": {
       "model_id": "3018e5af21394d5181e42cedfabfe441",
       "version_major": 2,
       "version_minor": 0
      },
      "text/plain": [
       "74024f40a2c436cb0c2ede35112177e5.nc:   0%|          | 0.00/2.90G [00:00<?, ?B/s]"
      ]
     },
     "metadata": {},
     "output_type": "display_data"
    },
    {
     "name": "stderr",
     "output_type": "stream",
     "text": [
      "2024-12-27 04:02:14,902 WARNING [2024-10-10T00:00:00] From 1 July to 17 November 2024, the final ERA5 product is different to ERA5T due to the correction of [the assimilation of incorrect snow observations on the Alps](https://confluence.ecmwf.int/x/USuXGw)\n",
      "2024-12-27 04:02:14,902 INFO Request ID is d311ef76-1412-4345-b092-f482eb5d348a\n",
      "2024-12-27 04:02:15,075 INFO status has been updated to accepted\n",
      "2024-12-27 04:28:42,910 INFO status has been updated to running\n",
      "2024-12-27 04:57:01,008 INFO status has been updated to successful\n"
     ]
    },
    {
     "data": {
      "application/vnd.jupyter.widget-view+json": {
       "model_id": "185fcbf35fb94ceda08ff5f02d46aa91",
       "version_major": 2,
       "version_minor": 0
      },
      "text/plain": [
       "ea7ef79e1e0824aca00fe9ebf64f0fde.nc:   0%|          | 0.00/2.99G [00:00<?, ?B/s]"
      ]
     },
     "metadata": {},
     "output_type": "display_data"
    },
    {
     "name": "stderr",
     "output_type": "stream",
     "text": [
      "2024-12-27 05:00:53,922 WARNING [2024-10-10T00:00:00] From 1 July to 17 November 2024, the final ERA5 product is different to ERA5T due to the correction of [the assimilation of incorrect snow observations on the Alps](https://confluence.ecmwf.int/x/USuXGw)\n",
      "2024-12-27 05:00:53,923 INFO Request ID is e75434d1-db1a-4375-bdea-cdd47b29b102\n",
      "2024-12-27 05:01:07,583 INFO status has been updated to accepted\n",
      "2024-12-27 05:37:54,943 INFO status has been updated to running\n",
      "2024-12-27 06:02:02,433 INFO status has been updated to successful\n"
     ]
    },
    {
     "data": {
      "application/vnd.jupyter.widget-view+json": {
       "model_id": "af7f234f74ae40249e378c01887f135c",
       "version_major": 2,
       "version_minor": 0
      },
      "text/plain": [
       "e8b41690279d0b52b3a79c9e44555422.nc:   0%|          | 0.00/2.87G [00:00<?, ?B/s]"
      ]
     },
     "metadata": {},
     "output_type": "display_data"
    },
    {
     "name": "stderr",
     "output_type": "stream",
     "text": [
      "2024-12-27 06:05:33,256 WARNING [2024-10-10T00:00:00] From 1 July to 17 November 2024, the final ERA5 product is different to ERA5T due to the correction of [the assimilation of incorrect snow observations on the Alps](https://confluence.ecmwf.int/x/USuXGw)\n",
      "2024-12-27 06:05:33,257 INFO Request ID is e2bf8592-a37b-4734-a24f-13f285185779\n",
      "2024-12-27 06:05:33,479 INFO status has been updated to accepted\n",
      "2024-12-27 06:09:54,028 INFO status has been updated to running\n",
      "2024-12-27 06:40:02,374 INFO status has been updated to successful\n"
     ]
    },
    {
     "data": {
      "application/vnd.jupyter.widget-view+json": {
       "model_id": "0986905bd78c47eeb6554efd55aebbd7",
       "version_major": 2,
       "version_minor": 0
      },
      "text/plain": [
       "de2e3a014cc3b2dc52419de0dfd7e702.nc:   0%|          | 0.00/2.96G [00:00<?, ?B/s]"
      ]
     },
     "metadata": {},
     "output_type": "display_data"
    },
    {
     "name": "stderr",
     "output_type": "stream",
     "text": [
      "2024-12-27 06:44:38,178 WARNING [2024-10-10T00:00:00] From 1 July to 17 November 2024, the final ERA5 product is different to ERA5T due to the correction of [the assimilation of incorrect snow observations on the Alps](https://confluence.ecmwf.int/x/USuXGw)\n",
      "2024-12-27 06:44:38,179 INFO Request ID is 97c1699d-77f1-4d15-89c2-34642934a90b\n",
      "2024-12-27 06:44:38,334 INFO status has been updated to accepted\n",
      "2024-12-27 07:09:03,500 INFO status has been updated to running\n",
      "2024-12-27 07:43:30,181 INFO status has been updated to successful\n"
     ]
    },
    {
     "data": {
      "application/vnd.jupyter.widget-view+json": {
       "model_id": "1443e8c5f3914a9bbadd85100bb9fc80",
       "version_major": 2,
       "version_minor": 0
      },
      "text/plain": [
       "864e4515d02fd9183ab947b09e8fb9d1.nc:   0%|          | 0.00/2.95G [00:00<?, ?B/s]"
      ]
     },
     "metadata": {},
     "output_type": "display_data"
    },
    {
     "name": "stderr",
     "output_type": "stream",
     "text": [
      "2024-12-27 07:47:34,144 WARNING [2024-10-10T00:00:00] From 1 July to 17 November 2024, the final ERA5 product is different to ERA5T due to the correction of [the assimilation of incorrect snow observations on the Alps](https://confluence.ecmwf.int/x/USuXGw)\n",
      "2024-12-27 07:47:34,145 INFO Request ID is b7e7d445-33c6-4f4c-a63c-031068499040\n",
      "2024-12-27 07:47:34,321 INFO status has been updated to accepted\n",
      "2024-12-27 08:30:04,916 INFO status has been updated to running\n",
      "2024-12-27 09:06:20,067 INFO status has been updated to successful\n"
     ]
    },
    {
     "data": {
      "application/vnd.jupyter.widget-view+json": {
       "model_id": "77f871fe86e545448aaad17f85568fe8",
       "version_major": 2,
       "version_minor": 0
      },
      "text/plain": [
       "43c07dc487fe3f0e57219e701d56e38e.nc:   0%|          | 0.00/2.85G [00:00<?, ?B/s]"
      ]
     },
     "metadata": {},
     "output_type": "display_data"
    },
    {
     "name": "stderr",
     "output_type": "stream",
     "text": [
      "2024-12-27 09:18:07,058 WARNING [2024-10-10T00:00:00] From 1 July to 17 November 2024, the final ERA5 product is different to ERA5T due to the correction of [the assimilation of incorrect snow observations on the Alps](https://confluence.ecmwf.int/x/USuXGw)\n",
      "2024-12-27 09:18:07,059 INFO Request ID is f39d2261-a9b8-40f0-a4bd-3dab4c13ac53\n",
      "2024-12-27 09:18:07,209 INFO status has been updated to accepted\n",
      "2024-12-27 09:56:44,426 INFO status has been updated to running\n",
      "2024-12-27 10:28:58,479 INFO status has been updated to successful\n"
     ]
    },
    {
     "data": {
      "application/vnd.jupyter.widget-view+json": {
       "model_id": "ebe24a5b0b40474398c757f69e7e13e3",
       "version_major": 2,
       "version_minor": 0
      },
      "text/plain": [
       "e8d07a88000254cf17f21c0897e6ba08.nc:   0%|          | 0.00/2.95G [00:00<?, ?B/s]"
      ]
     },
     "metadata": {},
     "output_type": "display_data"
    },
    {
     "name": "stderr",
     "output_type": "stream",
     "text": [
      "2024-12-27 10:32:56,727 WARNING [2024-10-10T00:00:00] From 1 July to 17 November 2024, the final ERA5 product is different to ERA5T due to the correction of [the assimilation of incorrect snow observations on the Alps](https://confluence.ecmwf.int/x/USuXGw)\n",
      "2024-12-27 10:32:56,728 INFO Request ID is 89fb3435-9065-41a0-9d4a-7f7ea6ca4feb\n",
      "2024-12-27 10:32:57,260 INFO status has been updated to accepted\n",
      "2024-12-27 11:29:37,392 INFO status has been updated to running\n",
      "2024-12-27 12:03:52,343 INFO status has been updated to successful\n"
     ]
    },
    {
     "data": {
      "application/vnd.jupyter.widget-view+json": {
       "model_id": "018c95a9f8ff44308ddb1aa275df830a",
       "version_major": 2,
       "version_minor": 0
      },
      "text/plain": [
       "6a84b382911d1806591e2aaddebca539.nc:   0%|          | 0.00/2.89G [00:00<?, ?B/s]"
      ]
     },
     "metadata": {},
     "output_type": "display_data"
    },
    {
     "name": "stderr",
     "output_type": "stream",
     "text": [
      "2024-12-27 12:08:02,332 WARNING [2024-10-10T00:00:00] From 1 July to 17 November 2024, the final ERA5 product is different to ERA5T due to the correction of [the assimilation of incorrect snow observations on the Alps](https://confluence.ecmwf.int/x/USuXGw)\n",
      "2024-12-27 12:08:02,333 INFO Request ID is c8ce6bde-bca6-4279-8c8e-5c88ec9fcfb3\n",
      "2024-12-27 12:08:02,591 INFO status has been updated to accepted\n",
      "2024-12-27 12:36:35,783 INFO status has been updated to running\n",
      "2024-12-27 13:06:44,773 INFO status has been updated to successful\n"
     ]
    },
    {
     "data": {
      "application/vnd.jupyter.widget-view+json": {
       "model_id": "8fb115de8d164d4da4bfc06feeab49e1",
       "version_major": 2,
       "version_minor": 0
      },
      "text/plain": [
       "3c720c12aed0c74bd63b8197a57f8143.nc:   0%|          | 0.00/3.01G [00:00<?, ?B/s]"
      ]
     },
     "metadata": {},
     "output_type": "display_data"
    },
    {
     "name": "stderr",
     "output_type": "stream",
     "text": [
      "2024-12-27 13:24:18,992 WARNING [2024-10-10T00:00:00] From 1 July to 17 November 2024, the final ERA5 product is different to ERA5T due to the correction of [the assimilation of incorrect snow observations on the Alps](https://confluence.ecmwf.int/x/USuXGw)\n",
      "2024-12-27 13:24:18,993 INFO Request ID is f7661d1c-93f4-422c-80a1-0a88cd2fd8ec\n",
      "2024-12-27 13:24:19,222 INFO status has been updated to accepted\n",
      "2024-12-27 13:36:40,902 INFO status has been updated to running\n",
      "2024-12-27 14:08:50,838 INFO status has been updated to successful\n"
     ]
    },
    {
     "data": {
      "application/vnd.jupyter.widget-view+json": {
       "model_id": "2443d2afe7154776bf2a188625c966f6",
       "version_major": 2,
       "version_minor": 0
      },
      "text/plain": [
       "6ba25d3e60d6d27ff4f01998248b299f.nc:   0%|          | 0.00/3.02G [00:00<?, ?B/s]"
      ]
     },
     "metadata": {},
     "output_type": "display_data"
    },
    {
     "name": "stderr",
     "output_type": "stream",
     "text": [
      "2024-12-27 14:13:40,781 WARNING [2024-10-10T00:00:00] From 1 July to 17 November 2024, the final ERA5 product is different to ERA5T due to the correction of [the assimilation of incorrect snow observations on the Alps](https://confluence.ecmwf.int/x/USuXGw)\n",
      "2024-12-27 14:13:40,782 INFO Request ID is 465d8fdf-b5a3-475a-bfdb-a4a433f5822a\n",
      "2024-12-27 14:13:40,974 INFO status has been updated to accepted\n",
      "2024-12-27 14:40:05,677 INFO status has been updated to running\n",
      "2024-12-27 15:20:18,337 INFO status has been updated to successful\n"
     ]
    },
    {
     "data": {
      "application/vnd.jupyter.widget-view+json": {
       "model_id": "c4034dc5c0bf4937867d60626021853e",
       "version_major": 2,
       "version_minor": 0
      },
      "text/plain": [
       "1458cd2f026c71eddd0ac3b2ab026685.nc:   0%|          | 0.00/2.76G [00:00<?, ?B/s]"
      ]
     },
     "metadata": {},
     "output_type": "display_data"
    },
    {
     "name": "stderr",
     "output_type": "stream",
     "text": [
      "2024-12-27 15:23:45,367 WARNING [2024-10-10T00:00:00] From 1 July to 17 November 2024, the final ERA5 product is different to ERA5T due to the correction of [the assimilation of incorrect snow observations on the Alps](https://confluence.ecmwf.int/x/USuXGw)\n",
      "2024-12-27 15:23:45,367 INFO Request ID is 1a9ecc77-c27f-48e5-8c3b-c7a694458e59\n",
      "2024-12-27 15:23:45,520 INFO status has been updated to accepted\n",
      "2024-12-27 16:00:22,173 INFO status has been updated to running\n",
      "2024-12-27 16:22:44,287 INFO status has been updated to successful\n"
     ]
    },
    {
     "data": {
      "application/vnd.jupyter.widget-view+json": {
       "model_id": "2043408e8ec64e47bfc6b4ae30f2afc7",
       "version_major": 2,
       "version_minor": 0
      },
      "text/plain": [
       "36a6cdc26ea38b92cf32c6ab99bd476f.nc:   0%|          | 0.00/3.00G [00:00<?, ?B/s]"
      ]
     },
     "metadata": {},
     "output_type": "display_data"
    },
    {
     "name": "stderr",
     "output_type": "stream",
     "text": [
      "2024-12-27 16:27:32,699 WARNING [2024-10-10T00:00:00] From 1 July to 17 November 2024, the final ERA5 product is different to ERA5T due to the correction of [the assimilation of incorrect snow observations on the Alps](https://confluence.ecmwf.int/x/USuXGw)\n",
      "2024-12-27 16:27:32,700 INFO Request ID is d3c086cf-fb0a-4bee-b672-1d50d105a4e0\n",
      "2024-12-27 16:27:32,864 INFO status has been updated to accepted\n",
      "2024-12-27 17:08:16,014 INFO status has been updated to running\n",
      "2024-12-27 17:44:34,381 INFO status has been updated to successful\n"
     ]
    },
    {
     "data": {
      "application/vnd.jupyter.widget-view+json": {
       "model_id": "0b3e0a4f8b3d48e0add4df047f5e3e56",
       "version_major": 2,
       "version_minor": 0
      },
      "text/plain": [
       "a0aa3b06e55fb2ad3af90de4e7305b97.nc:   0%|          | 0.00/2.91G [00:00<?, ?B/s]"
      ]
     },
     "metadata": {},
     "output_type": "display_data"
    },
    {
     "name": "stderr",
     "output_type": "stream",
     "text": [
      "2024-12-27 17:48:37,484 WARNING [2024-10-10T00:00:00] From 1 July to 17 November 2024, the final ERA5 product is different to ERA5T due to the correction of [the assimilation of incorrect snow observations on the Alps](https://confluence.ecmwf.int/x/USuXGw)\n",
      "2024-12-27 17:48:37,485 INFO Request ID is 6b0c7c4f-887e-4145-83c7-a31fc842f69e\n",
      "2024-12-27 17:48:37,769 INFO status has been updated to accepted\n",
      "2024-12-27 18:25:14,247 INFO status has been updated to running\n",
      "2024-12-27 19:01:30,493 INFO status has been updated to successful\n"
     ]
    },
    {
     "data": {
      "application/vnd.jupyter.widget-view+json": {
       "model_id": "1f5a1860e22349e2841394cbd7ffacf1",
       "version_major": 2,
       "version_minor": 0
      },
      "text/plain": [
       "7c6aa65388ba23453c32cecdf7a1011.nc:   0%|          | 0.00/3.00G [00:00<?, ?B/s]"
      ]
     },
     "metadata": {},
     "output_type": "display_data"
    },
    {
     "name": "stderr",
     "output_type": "stream",
     "text": [
      "2024-12-27 19:08:36,263 WARNING [2024-10-10T00:00:00] From 1 July to 17 November 2024, the final ERA5 product is different to ERA5T due to the correction of [the assimilation of incorrect snow observations on the Alps](https://confluence.ecmwf.int/x/USuXGw)\n",
      "2024-12-27 19:08:36,264 INFO Request ID is 21a4c28e-7e71-4775-a10d-cd74138fa22b\n",
      "2024-12-27 19:08:36,552 INFO status has been updated to accepted\n",
      "2024-12-27 19:41:15,286 INFO status has been updated to running\n",
      "2024-12-27 20:11:29,541 INFO status has been updated to successful\n"
     ]
    },
    {
     "data": {
      "application/vnd.jupyter.widget-view+json": {
       "model_id": "28eae5d3e69e45c4ae1fd59ee12996d9",
       "version_major": 2,
       "version_minor": 0
      },
      "text/plain": [
       "e8edfb1e4ebb35b783721209bc3e31da.nc:   0%|          | 0.00/2.88G [00:00<?, ?B/s]"
      ]
     },
     "metadata": {},
     "output_type": "display_data"
    },
    {
     "name": "stderr",
     "output_type": "stream",
     "text": [
      "2024-12-27 20:16:17,346 WARNING [2024-10-10T00:00:00] From 1 July to 17 November 2024, the final ERA5 product is different to ERA5T due to the correction of [the assimilation of incorrect snow observations on the Alps](https://confluence.ecmwf.int/x/USuXGw)\n",
      "2024-12-27 20:16:17,347 INFO Request ID is 8f97c8cd-38a4-40bf-9d32-aaef7eb864c2\n",
      "2024-12-27 20:16:17,541 INFO status has been updated to accepted\n",
      "2024-12-27 20:38:44,305 INFO status has been updated to running\n",
      "2024-12-27 21:04:57,236 INFO status has been updated to successful\n"
     ]
    },
    {
     "data": {
      "application/vnd.jupyter.widget-view+json": {
       "model_id": "29a97b2c296b451580258bc74ebd9a05",
       "version_major": 2,
       "version_minor": 0
      },
      "text/plain": [
       "7bf3aebcfdb63a86ffeeb57bb57c8632.nc:   0%|          | 0.00/2.97G [00:00<?, ?B/s]"
      ]
     },
     "metadata": {},
     "output_type": "display_data"
    },
    {
     "name": "stderr",
     "output_type": "stream",
     "text": [
      "2024-12-27 21:08:19,135 WARNING [2024-10-10T00:00:00] From 1 July to 17 November 2024, the final ERA5 product is different to ERA5T due to the correction of [the assimilation of incorrect snow observations on the Alps](https://confluence.ecmwf.int/x/USuXGw)\n",
      "2024-12-27 21:08:19,136 INFO Request ID is e8fede89-b5c9-4839-9814-9e1358affed6\n",
      "2024-12-27 21:08:19,310 INFO status has been updated to accepted\n",
      "2024-12-27 21:52:56,184 INFO status has been updated to running\n",
      "2024-12-27 22:31:22,871 INFO status has been updated to successful\n"
     ]
    },
    {
     "data": {
      "application/vnd.jupyter.widget-view+json": {
       "model_id": "a0aad37229d24a53a89e79b8acf89d39",
       "version_major": 2,
       "version_minor": 0
      },
      "text/plain": [
       "884fbe05810a1cda8c8eb1d5959ad5e9.nc:   0%|          | 0.00/2.94G [00:00<?, ?B/s]"
      ]
     },
     "metadata": {},
     "output_type": "display_data"
    },
    {
     "name": "stderr",
     "output_type": "stream",
     "text": [
      "2024-12-27 22:34:10,084 WARNING [2024-10-10T00:00:00] From 1 July to 17 November 2024, the final ERA5 product is different to ERA5T due to the correction of [the assimilation of incorrect snow observations on the Alps](https://confluence.ecmwf.int/x/USuXGw)\n",
      "2024-12-27 22:34:10,085 INFO Request ID is 60eacd8c-7416-4df0-bf45-d14cbae8d509\n",
      "2024-12-27 22:34:10,244 INFO status has been updated to accepted\n",
      "2024-12-27 23:20:46,879 INFO status has been updated to running\n",
      "2024-12-27 23:57:06,025 INFO status has been updated to successful\n"
     ]
    },
    {
     "data": {
      "application/vnd.jupyter.widget-view+json": {
       "model_id": "50d2d0b4c79647829739376b5869cd1f",
       "version_major": 2,
       "version_minor": 0
      },
      "text/plain": [
       "24b8ed4034834f39662c7307e66d4ac8.nc:   0%|          | 0.00/2.86G [00:00<?, ?B/s]"
      ]
     },
     "metadata": {},
     "output_type": "display_data"
    },
    {
     "name": "stderr",
     "output_type": "stream",
     "text": [
      "2024-12-28 00:00:24,459 WARNING [2024-10-10T00:00:00] From 1 July to 17 November 2024, the final ERA5 product is different to ERA5T due to the correction of [the assimilation of incorrect snow observations on the Alps](https://confluence.ecmwf.int/x/USuXGw)\n",
      "2024-12-28 00:00:24,459 INFO Request ID is 6ff39a43-8510-4667-9aad-f6253df1d4e6\n",
      "2024-12-28 00:00:24,691 INFO status has been updated to accepted\n",
      "2024-12-28 00:37:04,647 INFO status has been updated to running\n",
      "2024-12-28 01:37:41,511 INFO status has been updated to successful\n"
     ]
    },
    {
     "data": {
      "application/vnd.jupyter.widget-view+json": {
       "model_id": "298bfa6594c2453c96ecb0bc1b594b89",
       "version_major": 2,
       "version_minor": 0
      },
      "text/plain": [
       "c8c7288260d0a3de0d226efbe1d6f801.nc:   0%|          | 0.00/2.99G [00:00<?, ?B/s]"
      ]
     },
     "metadata": {},
     "output_type": "display_data"
    },
    {
     "name": "stderr",
     "output_type": "stream",
     "text": [
      "2024-12-28 01:44:04,226 WARNING [2024-10-10T00:00:00] From 1 July to 17 November 2024, the final ERA5 product is different to ERA5T due to the correction of [the assimilation of incorrect snow observations on the Alps](https://confluence.ecmwf.int/x/USuXGw)\n",
      "2024-12-28 01:44:04,227 INFO Request ID is 18d6d37b-1c50-433e-b633-81166e82665d\n",
      "2024-12-28 01:44:04,470 INFO status has been updated to accepted\n",
      "2024-12-28 02:04:41,654 INFO status has been updated to running\n",
      "2024-12-28 02:42:56,636 INFO status has been updated to successful\n"
     ]
    },
    {
     "data": {
      "application/vnd.jupyter.widget-view+json": {
       "model_id": "a1fed5258086468db51ff8e97f1991da",
       "version_major": 2,
       "version_minor": 0
      },
      "text/plain": [
       "e285bea685a10d6ff4330198a8b5bf76.nc:   0%|          | 0.00/2.90G [00:00<?, ?B/s]"
      ]
     },
     "metadata": {},
     "output_type": "display_data"
    },
    {
     "name": "stderr",
     "output_type": "stream",
     "text": [
      "2024-12-28 02:52:47,349 WARNING [2024-10-10T00:00:00] From 1 July to 17 November 2024, the final ERA5 product is different to ERA5T due to the correction of [the assimilation of incorrect snow observations on the Alps](https://confluence.ecmwf.int/x/USuXGw)\n",
      "2024-12-28 02:52:47,350 INFO Request ID is 33bca2b2-b2e4-465b-b241-e3164292bfd6\n",
      "2024-12-28 02:52:47,501 INFO status has been updated to accepted\n",
      "2024-12-28 02:57:07,572 INFO status has been updated to running\n",
      "2024-12-28 03:37:29,022 INFO status has been updated to successful\n"
     ]
    },
    {
     "data": {
      "application/vnd.jupyter.widget-view+json": {
       "model_id": "a9ba99fcdda941ab81788a6116139cbb",
       "version_major": 2,
       "version_minor": 0
      },
      "text/plain": [
       "aa49395136ed37c0d877d47d2c614e98.nc:   0%|          | 0.00/3.02G [00:00<?, ?B/s]"
      ]
     },
     "metadata": {},
     "output_type": "display_data"
    },
    {
     "name": "stderr",
     "output_type": "stream",
     "text": [
      "2024-12-28 03:41:52,736 WARNING [2024-10-10T00:00:00] From 1 July to 17 November 2024, the final ERA5 product is different to ERA5T due to the correction of [the assimilation of incorrect snow observations on the Alps](https://confluence.ecmwf.int/x/USuXGw)\n",
      "2024-12-28 03:41:52,737 INFO Request ID is 3c2abb56-d566-41d5-9124-00dbd1e71434\n",
      "2024-12-28 03:41:52,903 INFO status has been updated to accepted\n",
      "2024-12-28 03:52:18,936 INFO status has been updated to running\n",
      "2024-12-28 04:22:52,631 INFO status has been updated to successful\n"
     ]
    },
    {
     "data": {
      "application/vnd.jupyter.widget-view+json": {
       "model_id": "136bfaa7f8b846498b13178765e78380",
       "version_major": 2,
       "version_minor": 0
      },
      "text/plain": [
       "3ee3dadce3680d880a30ea1e0a0d45aa.nc:   0%|          | 0.00/3.02G [00:00<?, ?B/s]"
      ]
     },
     "metadata": {},
     "output_type": "display_data"
    },
    {
     "name": "stderr",
     "output_type": "stream",
     "text": [
      "2024-12-28 04:28:56,715 WARNING [2024-10-10T00:00:00] From 1 July to 17 November 2024, the final ERA5 product is different to ERA5T due to the correction of [the assimilation of incorrect snow observations on the Alps](https://confluence.ecmwf.int/x/USuXGw)\n",
      "2024-12-28 04:28:56,715 INFO Request ID is 1cb9eb8f-f2cd-4c23-8a3d-ee93e3d17461\n",
      "2024-12-28 04:28:56,921 INFO status has been updated to accepted\n",
      "2024-12-28 04:37:17,773 INFO status has been updated to running\n",
      "2024-12-28 05:07:46,632 INFO status has been updated to successful\n"
     ]
    },
    {
     "data": {
      "application/vnd.jupyter.widget-view+json": {
       "model_id": "1500a06fcf09476680b16e27dd52c080",
       "version_major": 2,
       "version_minor": 0
      },
      "text/plain": [
       "2a53baa46a9a0021fea11064e7b729b3.nc:   0%|          | 0.00/2.83G [00:00<?, ?B/s]"
      ]
     },
     "metadata": {},
     "output_type": "display_data"
    },
    {
     "name": "stderr",
     "output_type": "stream",
     "text": [
      "2024-12-28 05:11:54,789 WARNING [2024-10-10T00:00:00] From 1 July to 17 November 2024, the final ERA5 product is different to ERA5T due to the correction of [the assimilation of incorrect snow observations on the Alps](https://confluence.ecmwf.int/x/USuXGw)\n",
      "2024-12-28 05:11:54,790 INFO Request ID is d0fb3e12-9a29-4963-9243-c52bc11b55cd\n",
      "2024-12-28 05:11:54,962 INFO status has been updated to accepted\n",
      "2024-12-28 05:14:47,025 INFO status has been updated to running\n",
      "2024-12-28 05:54:41,249 INFO status has been updated to successful\n"
     ]
    },
    {
     "data": {
      "application/vnd.jupyter.widget-view+json": {
       "model_id": "b0334b2d58cc4e39910a9e67882e2816",
       "version_major": 2,
       "version_minor": 0
      },
      "text/plain": [
       "d6052b1b82a928f61bf8677c3f9318ff.nc:   0%|          | 0.00/3.02G [00:00<?, ?B/s]"
      ]
     },
     "metadata": {},
     "output_type": "display_data"
    },
    {
     "name": "stderr",
     "output_type": "stream",
     "text": [
      "2024-12-28 05:59:54,916 WARNING [2024-10-10T00:00:00] From 1 July to 17 November 2024, the final ERA5 product is different to ERA5T due to the correction of [the assimilation of incorrect snow observations on the Alps](https://confluence.ecmwf.int/x/USuXGw)\n",
      "2024-12-28 05:59:54,917 INFO Request ID is 152e6c92-6376-4bdb-92bc-7e48eb4974cc\n",
      "2024-12-28 05:59:55,235 INFO status has been updated to accepted\n",
      "2024-12-28 06:06:16,118 INFO status has been updated to running\n",
      "2024-12-28 06:38:28,479 INFO status has been updated to successful\n"
     ]
    },
    {
     "data": {
      "application/vnd.jupyter.widget-view+json": {
       "model_id": "05203792fb6f45fe9e2edf5f94864d16",
       "version_major": 2,
       "version_minor": 0
      },
      "text/plain": [
       "3b812d1d5d8ddf390dc263c346f45a62.nc:   0%|          | 0.00/2.93G [00:00<?, ?B/s]"
      ]
     },
     "metadata": {},
     "output_type": "display_data"
    },
    {
     "name": "stderr",
     "output_type": "stream",
     "text": [
      "2024-12-28 06:44:14,889 WARNING [2024-10-10T00:00:00] From 1 July to 17 November 2024, the final ERA5 product is different to ERA5T due to the correction of [the assimilation of incorrect snow observations on the Alps](https://confluence.ecmwf.int/x/USuXGw)\n",
      "2024-12-28 06:44:14,890 INFO Request ID is d519777b-2426-48c9-9276-fbec8023073a\n",
      "2024-12-28 06:44:15,056 INFO status has been updated to accepted\n",
      "2024-12-28 06:44:47,287 INFO status has been updated to running\n",
      "2024-12-28 07:14:49,116 INFO status has been updated to successful\n"
     ]
    },
    {
     "data": {
      "application/vnd.jupyter.widget-view+json": {
       "model_id": "7483dd619151474d8a072e864fd01a08",
       "version_major": 2,
       "version_minor": 0
      },
      "text/plain": [
       "562cb25b461662adcbee58b5214f2be6.nc:   0%|          | 0.00/3.01G [00:00<?, ?B/s]"
      ]
     },
     "metadata": {},
     "output_type": "display_data"
    },
    {
     "name": "stderr",
     "output_type": "stream",
     "text": [
      "2024-12-28 07:19:50,341 WARNING [2024-10-10T00:00:00] From 1 July to 17 November 2024, the final ERA5 product is different to ERA5T due to the correction of [the assimilation of incorrect snow observations on the Alps](https://confluence.ecmwf.int/x/USuXGw)\n",
      "2024-12-28 07:19:50,342 INFO Request ID is bf54fc74-c024-461f-a16e-cff1c184c005\n",
      "2024-12-28 07:19:50,494 INFO status has been updated to accepted\n",
      "2024-12-28 07:36:14,522 INFO status has been updated to running\n",
      "2024-12-28 08:18:33,695 INFO status has been updated to successful\n"
     ]
    },
    {
     "data": {
      "application/vnd.jupyter.widget-view+json": {
       "model_id": "d10af889aca140deb35391087f92fa7f",
       "version_major": 2,
       "version_minor": 0
      },
      "text/plain": [
       "7de665285d47f0ae18baa6ec076a231.nc:   0%|          | 0.00/2.89G [00:00<?, ?B/s]"
      ]
     },
     "metadata": {},
     "output_type": "display_data"
    },
    {
     "name": "stderr",
     "output_type": "stream",
     "text": [
      "2024-12-28 08:23:59,932 WARNING [2024-10-10T00:00:00] From 1 July to 17 November 2024, the final ERA5 product is different to ERA5T due to the correction of [the assimilation of incorrect snow observations on the Alps](https://confluence.ecmwf.int/x/USuXGw)\n",
      "2024-12-28 08:23:59,933 INFO Request ID is 049d722a-2e92-4f75-8147-5746a4475af1\n",
      "2024-12-28 08:24:00,116 INFO status has been updated to accepted\n",
      "2024-12-28 08:40:28,157 INFO status has been updated to running\n",
      "2024-12-28 09:04:40,291 INFO status has been updated to successful\n"
     ]
    },
    {
     "data": {
      "application/vnd.jupyter.widget-view+json": {
       "model_id": "0c0448f41e5c418ca1a7dbf95221614f",
       "version_major": 2,
       "version_minor": 0
      },
      "text/plain": [
       "211e0281e433f4b48013961310dac987.nc:   0%|          | 0.00/2.98G [00:00<?, ?B/s]"
      ]
     },
     "metadata": {},
     "output_type": "display_data"
    },
    {
     "name": "stderr",
     "output_type": "stream",
     "text": [
      "2024-12-28 09:09:09,473 WARNING [2024-10-10T00:00:00] From 1 July to 17 November 2024, the final ERA5 product is different to ERA5T due to the correction of [the assimilation of incorrect snow observations on the Alps](https://confluence.ecmwf.int/x/USuXGw)\n",
      "2024-12-28 09:09:09,474 INFO Request ID is 272e2c45-4fd3-4fa7-99cc-2ca579aadb0f\n",
      "2024-12-28 09:09:09,626 INFO status has been updated to accepted\n",
      "2024-12-28 09:09:17,330 INFO status has been updated to running\n",
      "2024-12-28 09:37:44,508 INFO status has been updated to successful\n"
     ]
    },
    {
     "data": {
      "application/vnd.jupyter.widget-view+json": {
       "model_id": "16e9c5ed15934a92a246c24a67735b77",
       "version_major": 2,
       "version_minor": 0
      },
      "text/plain": [
       "4edddbbf24a59b9fc05cd9e09f730fcb.nc:   0%|          | 0.00/2.94G [00:00<?, ?B/s]"
      ]
     },
     "metadata": {},
     "output_type": "display_data"
    },
    {
     "name": "stderr",
     "output_type": "stream",
     "text": [
      "2024-12-28 09:52:20,579 WARNING [2024-10-10T00:00:00] From 1 July to 17 November 2024, the final ERA5 product is different to ERA5T due to the correction of [the assimilation of incorrect snow observations on the Alps](https://confluence.ecmwf.int/x/USuXGw)\n",
      "2024-12-28 09:52:20,580 INFO Request ID is 9d83ec23-4c0a-4563-a994-f463c7a290e3\n",
      "2024-12-28 09:52:20,725 INFO status has been updated to accepted\n",
      "2024-12-28 09:52:41,388 INFO status has been updated to running\n",
      "2024-12-28 10:14:51,703 INFO status has been updated to successful\n"
     ]
    },
    {
     "data": {
      "application/vnd.jupyter.widget-view+json": {
       "model_id": "6ee414b61e8c47699d70eb2d639bb99a",
       "version_major": 2,
       "version_minor": 0
      },
      "text/plain": [
       "5b0c58e31c562cae8a80921d93e01c0c.nc:   0%|          | 0.00/2.85G [00:00<?, ?B/s]"
      ]
     },
     "metadata": {},
     "output_type": "display_data"
    },
    {
     "name": "stderr",
     "output_type": "stream",
     "text": [
      "2024-12-28 10:17:41,528 WARNING [2024-10-10T00:00:00] From 1 July to 17 November 2024, the final ERA5 product is different to ERA5T due to the correction of [the assimilation of incorrect snow observations on the Alps](https://confluence.ecmwf.int/x/USuXGw)\n",
      "2024-12-28 10:17:41,529 INFO Request ID is 1fed3e53-92dd-4462-8700-f1ba9f4ba663\n",
      "2024-12-28 10:17:41,682 INFO status has been updated to accepted\n",
      "2024-12-28 10:28:02,216 INFO status has been updated to running\n",
      "2024-12-28 10:54:15,678 INFO status has been updated to successful\n"
     ]
    },
    {
     "data": {
      "application/vnd.jupyter.widget-view+json": {
       "model_id": "5bc66854b5c74c08bf1cafbf69e85ae1",
       "version_major": 2,
       "version_minor": 0
      },
      "text/plain": [
       "f8524771c80a437ec5aa2fe3b90e3c3b.nc:   0%|          | 0.00/2.97G [00:00<?, ?B/s]"
      ]
     },
     "metadata": {},
     "output_type": "display_data"
    },
    {
     "name": "stderr",
     "output_type": "stream",
     "text": [
      "2024-12-28 10:58:28,073 WARNING [2024-10-10T00:00:00] From 1 July to 17 November 2024, the final ERA5 product is different to ERA5T due to the correction of [the assimilation of incorrect snow observations on the Alps](https://confluence.ecmwf.int/x/USuXGw)\n",
      "2024-12-28 10:58:28,073 INFO Request ID is 1798799b-edee-4d18-8829-7c3e161517e7\n",
      "2024-12-28 10:58:28,321 INFO status has been updated to accepted\n",
      "2024-12-28 11:16:52,575 INFO status has been updated to running\n",
      "2024-12-28 11:35:02,561 INFO status has been updated to successful\n"
     ]
    },
    {
     "data": {
      "application/vnd.jupyter.widget-view+json": {
       "model_id": "e4040eb4a0794510a64c1110b21e89f8",
       "version_major": 2,
       "version_minor": 0
      },
      "text/plain": [
       "d67a9c0cf278c863fbcb8ed4eb887482.nc:   0%|          | 0.00/2.89G [00:00<?, ?B/s]"
      ]
     },
     "metadata": {},
     "output_type": "display_data"
    },
    {
     "name": "stderr",
     "output_type": "stream",
     "text": [
      "2024-12-28 11:38:53,610 WARNING [2024-10-10T00:00:00] From 1 July to 17 November 2024, the final ERA5 product is different to ERA5T due to the correction of [the assimilation of incorrect snow observations on the Alps](https://confluence.ecmwf.int/x/USuXGw)\n",
      "2024-12-28 11:38:53,610 INFO Request ID is 46394409-e5c6-423e-a9ae-ef445b6f4079\n",
      "2024-12-28 11:38:53,780 INFO status has been updated to accepted\n",
      "2024-12-28 12:03:19,062 INFO status has been updated to running\n",
      "2024-12-28 12:33:32,086 INFO status has been updated to successful\n"
     ]
    },
    {
     "data": {
      "application/vnd.jupyter.widget-view+json": {
       "model_id": "f89390cebf4d484abbaa49340629f955",
       "version_major": 2,
       "version_minor": 0
      },
      "text/plain": [
       "c51879284ce3a6633e0e340fa1c7fda5.nc:   0%|          | 0.00/3.01G [00:00<?, ?B/s]"
      ]
     },
     "metadata": {},
     "output_type": "display_data"
    },
    {
     "name": "stderr",
     "output_type": "stream",
     "text": [
      "2024-12-28 12:43:35,757 WARNING [2024-10-10T00:00:00] From 1 July to 17 November 2024, the final ERA5 product is different to ERA5T due to the correction of [the assimilation of incorrect snow observations on the Alps](https://confluence.ecmwf.int/x/USuXGw)\n",
      "2024-12-28 12:43:35,758 INFO Request ID is 396e3402-ebcb-4676-9500-776707940b08\n",
      "2024-12-28 12:43:35,988 INFO status has been updated to accepted\n",
      "2024-12-28 12:47:55,463 INFO status has been updated to running\n",
      "2024-12-28 13:14:02,171 INFO status has been updated to successful\n"
     ]
    },
    {
     "data": {
      "application/vnd.jupyter.widget-view+json": {
       "model_id": "d699eb75df8f41bc9a2e04ce0f42339e",
       "version_major": 2,
       "version_minor": 0
      },
      "text/plain": [
       "f47885912c6f78844b66376b59a88d48.nc:   0%|          | 0.00/3.03G [00:00<?, ?B/s]"
      ]
     },
     "metadata": {},
     "output_type": "display_data"
    },
    {
     "name": "stderr",
     "output_type": "stream",
     "text": [
      "2024-12-28 13:30:49,809 WARNING [2024-10-10T00:00:00] From 1 July to 17 November 2024, the final ERA5 product is different to ERA5T due to the correction of [the assimilation of incorrect snow observations on the Alps](https://confluence.ecmwf.int/x/USuXGw)\n",
      "2024-12-28 13:30:49,810 INFO Request ID is 904e3cae-7b8b-4e34-8f0d-7ed13a4b17d6\n",
      "2024-12-28 13:30:50,038 INFO status has been updated to accepted\n",
      "2024-12-28 13:35:11,997 INFO status has been updated to running\n",
      "2024-12-28 14:05:25,452 INFO status has been updated to successful\n"
     ]
    },
    {
     "data": {
      "application/vnd.jupyter.widget-view+json": {
       "model_id": "25d8f686b695459ab469e8b78fc2fa96",
       "version_major": 2,
       "version_minor": 0
      },
      "text/plain": [
       "37c55b0536a91e578d5477d1dba4945e.nc:   0%|          | 0.00/2.77G [00:00<?, ?B/s]"
      ]
     },
     "metadata": {},
     "output_type": "display_data"
    },
    {
     "name": "stderr",
     "output_type": "stream",
     "text": [
      "2024-12-28 14:09:59,040 WARNING [2024-10-10T00:00:00] From 1 July to 17 November 2024, the final ERA5 product is different to ERA5T due to the correction of [the assimilation of incorrect snow observations on the Alps](https://confluence.ecmwf.int/x/USuXGw)\n",
      "2024-12-28 14:09:59,041 INFO Request ID is c84398fe-87a3-47c1-9e3e-dac474674df5\n",
      "2024-12-28 14:09:59,187 INFO status has been updated to accepted\n",
      "2024-12-28 14:10:07,089 INFO status has been updated to running\n",
      "2024-12-28 14:36:30,060 INFO status has been updated to successful\n"
     ]
    },
    {
     "data": {
      "application/vnd.jupyter.widget-view+json": {
       "model_id": "e94fa1bbe3d94f14b3ecc83caac3aaa8",
       "version_major": 2,
       "version_minor": 0
      },
      "text/plain": [
       "418e2a6d4dc27b587a841b4b5b8510f1.nc:   0%|          | 0.00/3.00G [00:00<?, ?B/s]"
      ]
     },
     "metadata": {},
     "output_type": "display_data"
    },
    {
     "name": "stderr",
     "output_type": "stream",
     "text": [
      "2024-12-28 14:40:44,071 WARNING [2024-10-10T00:00:00] From 1 July to 17 November 2024, the final ERA5 product is different to ERA5T due to the correction of [the assimilation of incorrect snow observations on the Alps](https://confluence.ecmwf.int/x/USuXGw)\n",
      "2024-12-28 14:40:44,072 INFO Request ID is b0e8cf31-03e4-48ce-9bf0-6178dd482d36\n",
      "2024-12-28 14:40:44,296 INFO status has been updated to accepted\n",
      "2024-12-28 14:55:06,437 INFO status has been updated to running\n",
      "2024-12-28 15:27:31,840 INFO status has been updated to successful\n"
     ]
    },
    {
     "data": {
      "application/vnd.jupyter.widget-view+json": {
       "model_id": "324997bd2b864b8cb82a5caf4d8a9e68",
       "version_major": 2,
       "version_minor": 0
      },
      "text/plain": [
       "6f2fdb5bd6b410ae781a67dbd7ce86a1.nc:   0%|          | 0.00/2.91G [00:00<?, ?B/s]"
      ]
     },
     "metadata": {},
     "output_type": "display_data"
    },
    {
     "name": "stderr",
     "output_type": "stream",
     "text": [
      "2024-12-28 15:35:26,012 WARNING [2024-10-10T00:00:00] From 1 July to 17 November 2024, the final ERA5 product is different to ERA5T due to the correction of [the assimilation of incorrect snow observations on the Alps](https://confluence.ecmwf.int/x/USuXGw)\n",
      "2024-12-28 15:35:26,013 INFO Request ID is f0eb5b31-04cc-4912-8257-136b54af179d\n",
      "2024-12-28 15:35:26,213 INFO status has been updated to accepted\n",
      "2024-12-28 15:36:41,490 INFO status has been updated to running\n",
      "2024-12-28 16:03:53,063 INFO status has been updated to successful\n"
     ]
    },
    {
     "data": {
      "application/vnd.jupyter.widget-view+json": {
       "model_id": "7911004109d74524bf68fcb1eee2e604",
       "version_major": 2,
       "version_minor": 0
      },
      "text/plain": [
       "fbb5c7865bf41044f8c88edbe36716c5.nc:   0%|          | 0.00/3.00G [00:00<?, ?B/s]"
      ]
     },
     "metadata": {},
     "output_type": "display_data"
    },
    {
     "name": "stderr",
     "output_type": "stream",
     "text": [
      "2024-12-28 16:14:26,135 WARNING [2024-10-10T00:00:00] From 1 July to 17 November 2024, the final ERA5 product is different to ERA5T due to the correction of [the assimilation of incorrect snow observations on the Alps](https://confluence.ecmwf.int/x/USuXGw)\n",
      "2024-12-28 16:14:26,136 INFO Request ID is 4aae9de6-4576-4670-92aa-421facd72472\n",
      "2024-12-28 16:14:26,285 INFO status has been updated to accepted\n",
      "2024-12-28 16:14:58,334 INFO status has been updated to running\n",
      "2024-12-28 17:13:05,823 INFO status has been updated to successful\n"
     ]
    },
    {
     "data": {
      "application/vnd.jupyter.widget-view+json": {
       "model_id": "915c84e492f440b2aa3b072b03448474",
       "version_major": 2,
       "version_minor": 0
      },
      "text/plain": [
       "d5b6cd7f758665b4d3652cbfc00fd810.nc:   0%|          | 0.00/2.88G [00:00<?, ?B/s]"
      ]
     },
     "metadata": {},
     "output_type": "display_data"
    },
    {
     "name": "stderr",
     "output_type": "stream",
     "text": [
      "2024-12-28 17:24:21,024 WARNING [2024-10-10T00:00:00] From 1 July to 17 November 2024, the final ERA5 product is different to ERA5T due to the correction of [the assimilation of incorrect snow observations on the Alps](https://confluence.ecmwf.int/x/USuXGw)\n",
      "2024-12-28 17:24:21,025 INFO Request ID is ed512bca-9660-4292-9516-4d4e77e51c39\n",
      "2024-12-28 17:24:21,283 INFO status has been updated to accepted\n",
      "2024-12-28 17:34:42,898 INFO status has been updated to running\n",
      "2024-12-28 18:00:49,563 INFO status has been updated to successful\n"
     ]
    },
    {
     "data": {
      "application/vnd.jupyter.widget-view+json": {
       "model_id": "5c4e195db987409b80c828dfa98aa9f4",
       "version_major": 2,
       "version_minor": 0
      },
      "text/plain": [
       "22e41b1031f4b363a338364a53d5be53.nc:   0%|          | 0.00/2.95G [00:00<?, ?B/s]"
      ]
     },
     "metadata": {},
     "output_type": "display_data"
    },
    {
     "name": "stderr",
     "output_type": "stream",
     "text": [
      "2024-12-28 18:08:41,834 WARNING [2024-10-10T00:00:00] From 1 July to 17 November 2024, the final ERA5 product is different to ERA5T due to the correction of [the assimilation of incorrect snow observations on the Alps](https://confluence.ecmwf.int/x/USuXGw)\n",
      "2024-12-28 18:08:41,835 INFO Request ID is 6a814233-0454-4de7-b591-997978cdaa1c\n",
      "2024-12-28 18:08:42,123 INFO status has been updated to accepted\n",
      "2024-12-28 18:09:57,452 INFO status has been updated to running\n",
      "2024-12-28 18:47:15,132 INFO status has been updated to successful\n"
     ]
    },
    {
     "data": {
      "application/vnd.jupyter.widget-view+json": {
       "model_id": "6182354231c8439d837868196e8b2690",
       "version_major": 2,
       "version_minor": 0
      },
      "text/plain": [
       "94115d6fdbdab73571bf3f033d01e558.nc:   0%|          | 0.00/2.97G [00:00<?, ?B/s]"
      ]
     },
     "metadata": {},
     "output_type": "display_data"
    },
    {
     "name": "stderr",
     "output_type": "stream",
     "text": [
      "2024-12-28 18:51:30,043 WARNING [2024-10-10T00:00:00] From 1 July to 17 November 2024, the final ERA5 product is different to ERA5T due to the correction of [the assimilation of incorrect snow observations on the Alps](https://confluence.ecmwf.int/x/USuXGw)\n",
      "2024-12-28 18:51:30,044 INFO Request ID is ca7f63d7-2c05-4637-9da8-0ed6fb1385a8\n",
      "2024-12-28 18:51:30,281 INFO status has been updated to accepted\n",
      "2024-12-28 19:01:51,571 INFO status has been updated to running\n",
      "2024-12-28 19:26:02,714 INFO status has been updated to successful\n"
     ]
    },
    {
     "data": {
      "application/vnd.jupyter.widget-view+json": {
       "model_id": "dd0936b823c44ff18ca6b8deed213fb2",
       "version_major": 2,
       "version_minor": 0
      },
      "text/plain": [
       "c8edaada0ab12b497c5fc0de4119faf6.nc:   0%|          | 0.00/2.84G [00:00<?, ?B/s]"
      ]
     },
     "metadata": {},
     "output_type": "display_data"
    },
    {
     "name": "stderr",
     "output_type": "stream",
     "text": [
      "2024-12-28 19:29:31,236 WARNING [2024-10-10T00:00:00] From 1 July to 17 November 2024, the final ERA5 product is different to ERA5T due to the correction of [the assimilation of incorrect snow observations on the Alps](https://confluence.ecmwf.int/x/USuXGw)\n",
      "2024-12-28 19:29:31,237 INFO Request ID is 5b13dc73-dcb7-4b18-b115-6d90bcf1c8c7\n",
      "2024-12-28 19:29:31,402 INFO status has been updated to accepted\n",
      "2024-12-28 19:33:51,038 INFO status has been updated to running\n",
      "2024-12-28 19:58:05,115 INFO status has been updated to successful\n"
     ]
    },
    {
     "data": {
      "application/vnd.jupyter.widget-view+json": {
       "model_id": "4e5f442052a5480a9f2616221813478c",
       "version_major": 2,
       "version_minor": 0
      },
      "text/plain": [
       "8904e1668b851842e0ace149647f5cf5.nc:   0%|          | 0.00/2.97G [00:00<?, ?B/s]"
      ]
     },
     "metadata": {},
     "output_type": "display_data"
    },
    {
     "name": "stderr",
     "output_type": "stream",
     "text": [
      "2024-12-28 20:01:23,628 WARNING [2024-10-10T00:00:00] From 1 July to 17 November 2024, the final ERA5 product is different to ERA5T due to the correction of [the assimilation of incorrect snow observations on the Alps](https://confluence.ecmwf.int/x/USuXGw)\n",
      "2024-12-28 20:01:23,629 INFO Request ID is f4bd8655-2f83-4b41-b378-51a450721ba0\n",
      "2024-12-28 20:01:23,775 INFO status has been updated to accepted\n",
      "2024-12-28 20:13:46,584 INFO status has been updated to running\n",
      "2024-12-28 20:33:57,270 INFO status has been updated to successful\n"
     ]
    },
    {
     "data": {
      "application/vnd.jupyter.widget-view+json": {
       "model_id": "21919c984a984c3ba5cdd69e73fadc9a",
       "version_major": 2,
       "version_minor": 0
      },
      "text/plain": [
       "9cea596a2be03e5a4da767b8c9059e73.nc:   0%|          | 0.00/2.89G [00:00<?, ?B/s]"
      ]
     },
     "metadata": {},
     "output_type": "display_data"
    },
    {
     "name": "stderr",
     "output_type": "stream",
     "text": [
      "2024-12-28 20:39:31,382 WARNING [2024-10-10T00:00:00] From 1 July to 17 November 2024, the final ERA5 product is different to ERA5T due to the correction of [the assimilation of incorrect snow observations on the Alps](https://confluence.ecmwf.int/x/USuXGw)\n",
      "2024-12-28 20:39:31,383 INFO Request ID is 370a9898-e4dd-43a0-bebd-7eb4825f39a8\n",
      "2024-12-28 20:39:31,615 INFO status has been updated to accepted\n",
      "2024-12-28 20:41:26,331 INFO status has been updated to running\n",
      "2024-12-28 21:18:10,175 INFO status has been updated to successful\n"
     ]
    },
    {
     "data": {
      "application/vnd.jupyter.widget-view+json": {
       "model_id": "b0fcfd9f76fb4bb6af5a34495175e888",
       "version_major": 2,
       "version_minor": 0
      },
      "text/plain": [
       "2b1082810b446de7953b42fb1f2f08ea.nc:   0%|          | 0.00/3.01G [00:00<?, ?B/s]"
      ]
     },
     "metadata": {},
     "output_type": "display_data"
    },
    {
     "name": "stderr",
     "output_type": "stream",
     "text": [
      "2024-12-28 21:21:08,243 WARNING [2024-10-10T00:00:00] From 1 July to 17 November 2024, the final ERA5 product is different to ERA5T due to the correction of [the assimilation of incorrect snow observations on the Alps](https://confluence.ecmwf.int/x/USuXGw)\n",
      "2024-12-28 21:21:08,244 INFO Request ID is aad9a3e0-b55c-4335-874b-18a4a2d37977\n",
      "2024-12-28 21:21:08,389 INFO status has been updated to accepted\n",
      "2024-12-28 21:23:02,751 INFO status has been updated to running\n",
      "2024-12-28 21:57:41,204 INFO status has been updated to successful\n"
     ]
    },
    {
     "data": {
      "application/vnd.jupyter.widget-view+json": {
       "model_id": "e9d6c8c49a5144168fad6a7e532be756",
       "version_major": 2,
       "version_minor": 0
      },
      "text/plain": [
       "d073abc7572f1460e77656e022f8e8ff.nc:   0%|          | 0.00/3.01G [00:00<?, ?B/s]"
      ]
     },
     "metadata": {},
     "output_type": "display_data"
    },
    {
     "name": "stderr",
     "output_type": "stream",
     "text": [
      "2024-12-28 22:02:59,527 WARNING [2024-10-10T00:00:00] From 1 July to 17 November 2024, the final ERA5 product is different to ERA5T due to the correction of [the assimilation of incorrect snow observations on the Alps](https://confluence.ecmwf.int/x/USuXGw)\n",
      "2024-12-28 22:02:59,528 INFO Request ID is 03689da1-a933-4c12-af8d-3b3cb16dd0c0\n",
      "2024-12-28 22:02:59,681 INFO status has been updated to accepted\n",
      "2024-12-28 22:29:30,488 INFO status has been updated to running\n",
      "2024-12-28 23:38:06,725 INFO status has been updated to successful\n"
     ]
    },
    {
     "data": {
      "application/vnd.jupyter.widget-view+json": {
       "model_id": "fdfb2fab8c5c4b47b21ef563dee2251e",
       "version_major": 2,
       "version_minor": 0
      },
      "text/plain": [
       "d06145a57ec8f0a87246a7ffce513c1c.nc:   0%|          | 0.00/2.75G [00:00<?, ?B/s]"
      ]
     },
     "metadata": {},
     "output_type": "display_data"
    },
    {
     "name": "stderr",
     "output_type": "stream",
     "text": [
      "2024-12-28 23:41:22,572 WARNING [2024-10-10T00:00:00] From 1 July to 17 November 2024, the final ERA5 product is different to ERA5T due to the correction of [the assimilation of incorrect snow observations on the Alps](https://confluence.ecmwf.int/x/USuXGw)\n",
      "2024-12-28 23:41:22,573 INFO Request ID is b0ed499e-4e6c-4407-b4b6-d37b592bf196\n",
      "2024-12-28 23:41:22,781 INFO status has been updated to accepted\n",
      "2024-12-28 23:57:50,196 INFO status has been updated to running\n",
      "2024-12-29 00:32:03,880 INFO status has been updated to successful\n"
     ]
    },
    {
     "data": {
      "application/vnd.jupyter.widget-view+json": {
       "model_id": "a91a97d53fa5472b9147f5be024c070e",
       "version_major": 2,
       "version_minor": 0
      },
      "text/plain": [
       "e5faa7b98b62e86976adf2dfbaee5356.nc:   0%|          | 0.00/3.01G [00:00<?, ?B/s]"
      ]
     },
     "metadata": {},
     "output_type": "display_data"
    },
    {
     "name": "stderr",
     "output_type": "stream",
     "text": [
      "2024-12-29 00:49:46,009 WARNING [2024-10-10T00:00:00] From 1 July to 17 November 2024, the final ERA5 product is different to ERA5T due to the correction of [the assimilation of incorrect snow observations on the Alps](https://confluence.ecmwf.int/x/USuXGw)\n",
      "2024-12-29 00:49:46,010 INFO Request ID is b1d271be-93aa-4d91-94e3-b76e5d74987a\n",
      "2024-12-29 00:49:46,171 INFO status has been updated to accepted\n",
      "2024-12-29 00:51:40,040 INFO status has been updated to running\n",
      "2024-12-29 01:16:12,069 INFO status has been updated to successful\n"
     ]
    },
    {
     "data": {
      "application/vnd.jupyter.widget-view+json": {
       "model_id": "3fa9478ae8b74665bae66f02566a3315",
       "version_major": 2,
       "version_minor": 0
      },
      "text/plain": [
       "ab862ba1497b56c4d79c86cc112f6adf.nc:   0%|          | 0.00/2.92G [00:00<?, ?B/s]"
      ]
     },
     "metadata": {},
     "output_type": "display_data"
    },
    {
     "name": "stderr",
     "output_type": "stream",
     "text": [
      "2024-12-29 01:23:38,605 WARNING [2024-10-10T00:00:00] From 1 July to 17 November 2024, the final ERA5 product is different to ERA5T due to the correction of [the assimilation of incorrect snow observations on the Alps](https://confluence.ecmwf.int/x/USuXGw)\n",
      "2024-12-29 01:23:38,606 INFO Request ID is 0825d38a-4def-4a88-adc3-037c2c49bb02\n",
      "2024-12-29 01:23:38,784 INFO status has been updated to accepted\n",
      "2024-12-29 01:40:01,404 INFO status has been updated to running\n",
      "2024-12-29 02:18:31,029 INFO status has been updated to successful\n"
     ]
    },
    {
     "data": {
      "application/vnd.jupyter.widget-view+json": {
       "model_id": "d0d19e80fd7f414d857a28fc4b5ea29a",
       "version_major": 2,
       "version_minor": 0
      },
      "text/plain": [
       "578cbacf39186a307672f141ca1f9844.nc:   0%|          | 0.00/2.99G [00:00<?, ?B/s]"
      ]
     },
     "metadata": {},
     "output_type": "display_data"
    },
    {
     "name": "stderr",
     "output_type": "stream",
     "text": [
      "2024-12-29 02:22:15,570 WARNING [2024-10-10T00:00:00] From 1 July to 17 November 2024, the final ERA5 product is different to ERA5T due to the correction of [the assimilation of incorrect snow observations on the Alps](https://confluence.ecmwf.int/x/USuXGw)\n",
      "2024-12-29 02:22:15,571 INFO Request ID is 3ff01dc6-5e07-4294-b42f-8226b5383c47\n",
      "2024-12-29 02:22:15,770 INFO status has been updated to accepted\n",
      "2024-12-29 02:42:40,428 INFO status has been updated to running\n",
      "2024-12-29 03:14:54,218 INFO status has been updated to successful\n"
     ]
    },
    {
     "data": {
      "application/vnd.jupyter.widget-view+json": {
       "model_id": "a35ab30f8f28475f805e9af830625c69",
       "version_major": 2,
       "version_minor": 0
      },
      "text/plain": [
       "114acf7f3bfe40c17cdc91ea60e87c86.nc:   0%|          | 0.00/2.87G [00:00<?, ?B/s]"
      ]
     },
     "metadata": {},
     "output_type": "display_data"
    },
    {
     "name": "stderr",
     "output_type": "stream",
     "text": [
      "2024-12-29 03:19:39,801 WARNING [2024-10-10T00:00:00] From 1 July to 17 November 2024, the final ERA5 product is different to ERA5T due to the correction of [the assimilation of incorrect snow observations on the Alps](https://confluence.ecmwf.int/x/USuXGw)\n",
      "2024-12-29 03:19:39,801 INFO Request ID is c122d6f7-6ddc-406c-8263-682d66d6d34a\n",
      "2024-12-29 03:19:39,948 INFO status has been updated to accepted\n",
      "2024-12-29 03:38:08,021 INFO status has been updated to running\n",
      "2024-12-29 04:22:31,409 INFO status has been updated to successful\n"
     ]
    },
    {
     "data": {
      "application/vnd.jupyter.widget-view+json": {
       "model_id": "c892e5aab7174a0896f337c2dd0c9a25",
       "version_major": 2,
       "version_minor": 0
      },
      "text/plain": [
       "cc1cfdec16bac6886472e3a973aec15a.nc:   0%|          | 0.00/2.94G [00:00<?, ?B/s]"
      ]
     },
     "metadata": {},
     "output_type": "display_data"
    },
    {
     "name": "stderr",
     "output_type": "stream",
     "text": [
      "2024-12-29 04:26:48,796 WARNING [2024-10-10T00:00:00] From 1 July to 17 November 2024, the final ERA5 product is different to ERA5T due to the correction of [the assimilation of incorrect snow observations on the Alps](https://confluence.ecmwf.int/x/USuXGw)\n",
      "2024-12-29 04:26:48,797 INFO Request ID is 41c7ef1c-b23c-4ab8-8d44-7fbe1ea8f6fa\n",
      "2024-12-29 04:26:48,972 INFO status has been updated to accepted\n",
      "2024-12-29 04:28:04,543 INFO status has been updated to running\n",
      "2024-12-29 05:03:26,610 INFO status has been updated to successful\n"
     ]
    },
    {
     "data": {
      "application/vnd.jupyter.widget-view+json": {
       "model_id": "0e615b84a96b4a4e92b7751b04a9862c",
       "version_major": 2,
       "version_minor": 0
      },
      "text/plain": [
       "fc20e78c8aa4725f0d2f4908c81ef81c.nc:   0%|          | 0.00/2.95G [00:00<?, ?B/s]"
      ]
     },
     "metadata": {},
     "output_type": "display_data"
    },
    {
     "name": "stderr",
     "output_type": "stream",
     "text": [
      "2024-12-29 05:13:10,361 WARNING [2024-10-10T00:00:00] From 1 July to 17 November 2024, the final ERA5 product is different to ERA5T due to the correction of [the assimilation of incorrect snow observations on the Alps](https://confluence.ecmwf.int/x/USuXGw)\n",
      "2024-12-29 05:13:10,361 INFO Request ID is 0cac9737-163c-414c-ade2-731642a07c90\n",
      "2024-12-29 05:13:10,511 INFO status has been updated to accepted\n",
      "2024-12-29 05:13:18,097 INFO status has been updated to running\n",
      "2024-12-29 05:45:47,208 INFO status has been updated to successful\n"
     ]
    },
    {
     "data": {
      "application/vnd.jupyter.widget-view+json": {
       "model_id": "0c8e6ff82a884a258d8848ef9523af13",
       "version_major": 2,
       "version_minor": 0
      },
      "text/plain": [
       "ec0906c54ba980de8973bd1ba1b9bdce.nc:   0%|          | 0.00/2.85G [00:00<?, ?B/s]"
      ]
     },
     "metadata": {},
     "output_type": "display_data"
    },
    {
     "name": "stderr",
     "output_type": "stream",
     "text": [
      "2024-12-29 05:50:33,040 WARNING [2024-10-10T00:00:00] From 1 July to 17 November 2024, the final ERA5 product is different to ERA5T due to the correction of [the assimilation of incorrect snow observations on the Alps](https://confluence.ecmwf.int/x/USuXGw)\n",
      "2024-12-29 05:50:33,041 INFO Request ID is e6a64736-73d8-4e2c-8db2-a105da075975\n",
      "2024-12-29 05:50:33,279 INFO status has been updated to accepted\n",
      "2024-12-29 05:54:52,579 INFO status has been updated to running\n",
      "2024-12-29 06:25:15,072 INFO status has been updated to successful\n"
     ]
    },
    {
     "data": {
      "application/vnd.jupyter.widget-view+json": {
       "model_id": "eaec1adbf3274d058c14078e70842a2a",
       "version_major": 2,
       "version_minor": 0
      },
      "text/plain": [
       "35d77b2eeaaafef9acbe3d9029ba9af3.nc:   0%|          | 0.00/2.96G [00:00<?, ?B/s]"
      ]
     },
     "metadata": {},
     "output_type": "display_data"
    },
    {
     "name": "stderr",
     "output_type": "stream",
     "text": [
      "2024-12-29 06:32:33,060 WARNING [2024-10-10T00:00:00] From 1 July to 17 November 2024, the final ERA5 product is different to ERA5T due to the correction of [the assimilation of incorrect snow observations on the Alps](https://confluence.ecmwf.int/x/USuXGw)\n",
      "2024-12-29 06:32:33,061 INFO Request ID is 1c321e90-6086-42b9-8475-959fa7e60faa\n",
      "2024-12-29 06:32:33,319 INFO status has been updated to accepted\n",
      "2024-12-29 06:35:25,782 INFO status has been updated to running\n",
      "2024-12-29 07:07:10,440 INFO status has been updated to successful\n"
     ]
    },
    {
     "data": {
      "application/vnd.jupyter.widget-view+json": {
       "model_id": "c87a7cd5eec04df8bc30126e2ea02681",
       "version_major": 2,
       "version_minor": 0
      },
      "text/plain": [
       "edecb98ced567288ba8dd3ab1a276673.nc:   0%|          | 0.00/2.90G [00:00<?, ?B/s]"
      ]
     },
     "metadata": {},
     "output_type": "display_data"
    },
    {
     "name": "stderr",
     "output_type": "stream",
     "text": [
      "2024-12-29 07:11:26,078 WARNING [2024-10-10T00:00:00] From 1 July to 17 November 2024, the final ERA5 product is different to ERA5T due to the correction of [the assimilation of incorrect snow observations on the Alps](https://confluence.ecmwf.int/x/USuXGw)\n",
      "2024-12-29 07:11:26,079 INFO Request ID is 854d868e-d436-4545-8bb8-0e243b681082\n",
      "2024-12-29 07:11:26,271 INFO status has been updated to accepted\n",
      "2024-12-29 07:13:20,235 INFO status has been updated to running\n",
      "2024-12-29 07:42:02,799 INFO status has been updated to successful\n"
     ]
    },
    {
     "data": {
      "application/vnd.jupyter.widget-view+json": {
       "model_id": "9de21511f4c048c49963b6b186a40fdd",
       "version_major": 2,
       "version_minor": 0
      },
      "text/plain": [
       "380774542110b694b9b0cd8fc86ede94.nc:   0%|          | 0.00/3.00G [00:00<?, ?B/s]"
      ]
     },
     "metadata": {},
     "output_type": "display_data"
    },
    {
     "name": "stderr",
     "output_type": "stream",
     "text": [
      "2024-12-29 07:46:32,288 WARNING [2024-10-10T00:00:00] From 1 July to 17 November 2024, the final ERA5 product is different to ERA5T due to the correction of [the assimilation of incorrect snow observations on the Alps](https://confluence.ecmwf.int/x/USuXGw)\n",
      "2024-12-29 07:46:32,289 INFO Request ID is 5df684b9-5ca0-4a75-999f-da8b8e62b379\n",
      "2024-12-29 07:46:32,440 INFO status has been updated to accepted\n",
      "2024-12-29 07:46:45,689 INFO status has been updated to running\n",
      "2024-12-29 08:14:58,482 INFO status has been updated to successful\n"
     ]
    },
    {
     "data": {
      "application/vnd.jupyter.widget-view+json": {
       "model_id": "6e81aebe899b4fa6b95e3ee7db72b710",
       "version_major": 2,
       "version_minor": 0
      },
      "text/plain": [
       "ab8e5dd1068dee9dcd5f92577068de29.nc:   0%|          | 0.00/3.02G [00:00<?, ?B/s]"
      ]
     },
     "metadata": {},
     "output_type": "display_data"
    },
    {
     "name": "stderr",
     "output_type": "stream",
     "text": [
      "2024-12-29 08:18:25,494 WARNING [2024-10-10T00:00:00] From 1 July to 17 November 2024, the final ERA5 product is different to ERA5T due to the correction of [the assimilation of incorrect snow observations on the Alps](https://confluence.ecmwf.int/x/USuXGw)\n",
      "2024-12-29 08:18:25,495 INFO Request ID is b830ba44-7463-4776-b528-df2ceeb97b74\n",
      "2024-12-29 08:18:25,664 INFO status has been updated to accepted\n",
      "2024-12-29 08:19:15,128 INFO status has been updated to running\n",
      "2024-12-29 08:50:56,634 INFO status has been updated to successful\n"
     ]
    },
    {
     "data": {
      "application/vnd.jupyter.widget-view+json": {
       "model_id": "462ef84a4b694563a877a988170ed9a6",
       "version_major": 2,
       "version_minor": 0
      },
      "text/plain": [
       "9222481721a48fb854422698bf2de581.nc:   0%|          | 0.00/2.76G [00:00<?, ?B/s]"
      ]
     },
     "metadata": {},
     "output_type": "display_data"
    },
    {
     "name": "stderr",
     "output_type": "stream",
     "text": [
      "2024-12-29 08:53:41,843 WARNING [2024-10-10T00:00:00] From 1 July to 17 November 2024, the final ERA5 product is different to ERA5T due to the correction of [the assimilation of incorrect snow observations on the Alps](https://confluence.ecmwf.int/x/USuXGw)\n",
      "2024-12-29 08:53:41,844 INFO Request ID is 51064648-779e-4fbf-bac3-01f488b5afec\n",
      "2024-12-29 08:53:42,092 INFO status has been updated to accepted\n",
      "2024-12-29 08:54:32,146 INFO status has been updated to running\n",
      "2024-12-29 09:28:09,480 INFO status has been updated to successful\n"
     ]
    },
    {
     "data": {
      "application/vnd.jupyter.widget-view+json": {
       "model_id": "347c1c4e6e624b0fbd2021cb668c40f6",
       "version_major": 2,
       "version_minor": 0
      },
      "text/plain": [
       "edc2c10538a0290a06cb4aa99f441470.nc:   0%|          | 0.00/3.01G [00:00<?, ?B/s]"
      ]
     },
     "metadata": {},
     "output_type": "display_data"
    },
    {
     "name": "stderr",
     "output_type": "stream",
     "text": [
      "2024-12-29 09:33:32,790 WARNING [2024-10-10T00:00:00] From 1 July to 17 November 2024, the final ERA5 product is different to ERA5T due to the correction of [the assimilation of incorrect snow observations on the Alps](https://confluence.ecmwf.int/x/USuXGw)\n",
      "2024-12-29 09:33:32,791 INFO Request ID is aa97a879-6699-4795-b3a8-195476ab2a6e\n",
      "2024-12-29 09:33:33,021 INFO status has been updated to accepted\n",
      "2024-12-29 09:34:05,717 INFO status has been updated to running\n",
      "2024-12-29 09:57:58,432 INFO status has been updated to successful\n"
     ]
    },
    {
     "data": {
      "application/vnd.jupyter.widget-view+json": {
       "model_id": "0eeb27dbd69449ab94f63a6e77ff7834",
       "version_major": 2,
       "version_minor": 0
      },
      "text/plain": [
       "1aecffc03cf1db902ce21b858585266.nc:   0%|          | 0.00/2.93G [00:00<?, ?B/s]"
      ]
     },
     "metadata": {},
     "output_type": "display_data"
    },
    {
     "name": "stderr",
     "output_type": "stream",
     "text": [
      "2024-12-29 10:01:13,993 WARNING [2024-10-10T00:00:00] From 1 July to 17 November 2024, the final ERA5 product is different to ERA5T due to the correction of [the assimilation of incorrect snow observations on the Alps](https://confluence.ecmwf.int/x/USuXGw)\n",
      "2024-12-29 10:01:13,994 INFO Request ID is 9affe8bf-20e6-49c2-9f29-6b7408dd59ce\n",
      "2024-12-29 10:01:14,156 INFO status has been updated to accepted\n",
      "2024-12-29 10:01:27,161 INFO status has been updated to running\n",
      "2024-12-29 10:37:47,785 INFO status has been updated to successful\n"
     ]
    },
    {
     "data": {
      "application/vnd.jupyter.widget-view+json": {
       "model_id": "dfcca5ba189140f5bb629a34d37c53f3",
       "version_major": 2,
       "version_minor": 0
      },
      "text/plain": [
       "6105ebb209c433cd25d9c18c73fd1792.nc:   0%|          | 0.00/3.01G [00:00<?, ?B/s]"
      ]
     },
     "metadata": {},
     "output_type": "display_data"
    },
    {
     "name": "stderr",
     "output_type": "stream",
     "text": [
      "2024-12-29 10:42:04,925 WARNING [2024-10-10T00:00:00] From 1 July to 17 November 2024, the final ERA5 product is different to ERA5T due to the correction of [the assimilation of incorrect snow observations on the Alps](https://confluence.ecmwf.int/x/USuXGw)\n",
      "2024-12-29 10:42:04,926 INFO Request ID is fc808137-032e-4aef-8384-8bd0bbcd8e0e\n",
      "2024-12-29 10:42:05,159 INFO status has been updated to accepted\n",
      "2024-12-29 10:42:26,096 INFO status has been updated to running\n",
      "2024-12-29 11:08:40,048 INFO status has been updated to successful\n"
     ]
    },
    {
     "data": {
      "application/vnd.jupyter.widget-view+json": {
       "model_id": "38b00e4796534f81965c00b731c91a9b",
       "version_major": 2,
       "version_minor": 0
      },
      "text/plain": [
       "682676d135b40142e4e27cecf6e5abb5.nc:   0%|          | 0.00/2.88G [00:00<?, ?B/s]"
      ]
     },
     "metadata": {},
     "output_type": "display_data"
    },
    {
     "name": "stderr",
     "output_type": "stream",
     "text": [
      "2024-12-29 11:12:29,965 WARNING [2024-10-10T00:00:00] From 1 July to 17 November 2024, the final ERA5 product is different to ERA5T due to the correction of [the assimilation of incorrect snow observations on the Alps](https://confluence.ecmwf.int/x/USuXGw)\n",
      "2024-12-29 11:12:29,966 INFO Request ID is 704cb156-6c0f-4759-a66d-6426efa01153\n",
      "2024-12-29 11:12:30,195 INFO status has been updated to accepted\n",
      "2024-12-29 11:13:02,803 INFO status has been updated to running\n",
      "2024-12-29 11:46:58,231 INFO status has been updated to successful\n"
     ]
    },
    {
     "data": {
      "application/vnd.jupyter.widget-view+json": {
       "model_id": "7cc54b2c5514497f80c194514c75e88e",
       "version_major": 2,
       "version_minor": 0
      },
      "text/plain": [
       "5f06c0448bd8597c22416951f823da85.nc:   0%|          | 0.00/2.97G [00:00<?, ?B/s]"
      ]
     },
     "metadata": {},
     "output_type": "display_data"
    },
    {
     "name": "stderr",
     "output_type": "stream",
     "text": [
      "2024-12-29 11:50:39,024 WARNING [2024-10-10T00:00:00] From 1 July to 17 November 2024, the final ERA5 product is different to ERA5T due to the correction of [the assimilation of incorrect snow observations on the Alps](https://confluence.ecmwf.int/x/USuXGw)\n",
      "2024-12-29 11:50:39,025 INFO Request ID is 7bd67f83-15a2-4d27-9a53-b4066d927b7c\n",
      "2024-12-29 11:50:39,243 INFO status has been updated to accepted\n",
      "2024-12-29 11:51:11,885 INFO status has been updated to running\n",
      "2024-12-29 12:25:09,041 INFO status has been updated to successful\n"
     ]
    },
    {
     "data": {
      "application/vnd.jupyter.widget-view+json": {
       "model_id": "b5a37bf78d36467ca340577bcd5a8c12",
       "version_major": 2,
       "version_minor": 0
      },
      "text/plain": [
       "cf06aa7c2fd8a2a6c4ad89ef25f053e3.nc:   0%|          | 0.00/2.96G [00:00<?, ?B/s]"
      ]
     },
     "metadata": {},
     "output_type": "display_data"
    },
    {
     "name": "stderr",
     "output_type": "stream",
     "text": [
      "2024-12-29 12:40:56,517 WARNING [2024-10-10T00:00:00] From 1 July to 17 November 2024, the final ERA5 product is different to ERA5T due to the correction of [the assimilation of incorrect snow observations on the Alps](https://confluence.ecmwf.int/x/USuXGw)\n",
      "2024-12-29 12:40:56,518 INFO Request ID is 58ad4ed3-1c03-4301-b7ff-3fae14aa5349\n",
      "2024-12-29 12:40:56,757 INFO status has been updated to accepted\n",
      "2024-12-29 12:41:17,718 INFO status has been updated to running\n",
      "2024-12-29 13:07:28,476 INFO status has been updated to successful\n"
     ]
    },
    {
     "data": {
      "application/vnd.jupyter.widget-view+json": {
       "model_id": "a66912b0bde4461a8b7d613c6959977a",
       "version_major": 2,
       "version_minor": 0
      },
      "text/plain": [
       "20bbd6d5ab12792d7efb84494e7fa447.nc:   0%|          | 0.00/2.87G [00:00<?, ?B/s]"
      ]
     },
     "metadata": {},
     "output_type": "display_data"
    },
    {
     "name": "stderr",
     "output_type": "stream",
     "text": [
      "2024-12-29 13:12:50,468 WARNING [2024-10-10T00:00:00] From 1 July to 17 November 2024, the final ERA5 product is different to ERA5T due to the correction of [the assimilation of incorrect snow observations on the Alps](https://confluence.ecmwf.int/x/USuXGw)\n",
      "2024-12-29 13:12:50,469 INFO Request ID is ccb38dcb-3b56-462c-b7e4-271c31ac937a\n",
      "2024-12-29 13:12:50,649 INFO status has been updated to accepted\n",
      "2024-12-29 13:12:58,240 INFO status has been updated to running\n",
      "2024-12-29 13:59:25,675 INFO status has been updated to successful\n"
     ]
    },
    {
     "data": {
      "application/vnd.jupyter.widget-view+json": {
       "model_id": "1b765e08570a4703a5a2d092af402164",
       "version_major": 2,
       "version_minor": 0
      },
      "text/plain": [
       "a72938e246496b894a0f256dbb95d09f.nc:   0%|          | 0.00/2.98G [00:00<?, ?B/s]"
      ]
     },
     "metadata": {},
     "output_type": "display_data"
    },
    {
     "name": "stderr",
     "output_type": "stream",
     "text": [
      "2024-12-29 14:04:00,124 WARNING [2024-10-10T00:00:00] From 1 July to 17 November 2024, the final ERA5 product is different to ERA5T due to the correction of [the assimilation of incorrect snow observations on the Alps](https://confluence.ecmwf.int/x/USuXGw)\n",
      "2024-12-29 14:04:00,125 INFO Request ID is edf802f1-acff-43b2-89cf-9e6265a1d48f\n",
      "2024-12-29 14:04:00,273 INFO status has been updated to accepted\n",
      "2024-12-29 14:04:20,806 INFO status has been updated to running\n",
      "2024-12-29 14:32:34,172 INFO status has been updated to successful\n"
     ]
    },
    {
     "data": {
      "application/vnd.jupyter.widget-view+json": {
       "model_id": "a6c22caff59e4753ba7dbe5d57c0f84a",
       "version_major": 2,
       "version_minor": 0
      },
      "text/plain": [
       "2373d8bb67c9f2262ad8d46e7210cb93.nc:   0%|          | 0.00/2.90G [00:00<?, ?B/s]"
      ]
     },
     "metadata": {},
     "output_type": "display_data"
    },
    {
     "name": "stderr",
     "output_type": "stream",
     "text": [
      "2024-12-29 14:35:48,911 WARNING [2024-10-10T00:00:00] From 1 July to 17 November 2024, the final ERA5 product is different to ERA5T due to the correction of [the assimilation of incorrect snow observations on the Alps](https://confluence.ecmwf.int/x/USuXGw)\n",
      "2024-12-29 14:35:48,912 INFO Request ID is 8dfe9da5-4833-41be-b351-dc232414c9e8\n",
      "2024-12-29 14:35:49,071 INFO status has been updated to accepted\n",
      "2024-12-29 14:36:21,447 INFO status has been updated to running\n",
      "2024-12-29 15:02:26,189 INFO status has been updated to successful\n"
     ]
    },
    {
     "data": {
      "application/vnd.jupyter.widget-view+json": {
       "model_id": "04a9c4e5b7044233b3760557267c712a",
       "version_major": 2,
       "version_minor": 0
      },
      "text/plain": [
       "c6215abc72a5d971863b3588e368ac25.nc:   0%|          | 0.00/3.01G [00:00<?, ?B/s]"
      ]
     },
     "metadata": {},
     "output_type": "display_data"
    },
    {
     "name": "stderr",
     "output_type": "stream",
     "text": [
      "2024-12-29 15:08:33,019 WARNING [2024-10-10T00:00:00] From 1 July to 17 November 2024, the final ERA5 product is different to ERA5T due to the correction of [the assimilation of incorrect snow observations on the Alps](https://confluence.ecmwf.int/x/USuXGw)\n",
      "2024-12-29 15:08:33,020 INFO Request ID is e8a45f2e-c929-4996-9691-8071bc3fc08a\n",
      "2024-12-29 15:08:33,195 INFO status has been updated to accepted\n",
      "2024-12-29 15:08:45,988 INFO status has been updated to running\n",
      "2024-12-29 15:47:08,577 INFO status has been updated to successful\n"
     ]
    },
    {
     "data": {
      "application/vnd.jupyter.widget-view+json": {
       "model_id": "7aae7e93a79b4819adc13ea212361c25",
       "version_major": 2,
       "version_minor": 0
      },
      "text/plain": [
       "edf1c4c8e463352ca20b93674d9970d4.nc:   0%|          | 0.00/3.01G [00:00<?, ?B/s]"
      ]
     },
     "metadata": {},
     "output_type": "display_data"
    },
    {
     "name": "stderr",
     "output_type": "stream",
     "text": [
      "2024-12-29 15:53:02,476 WARNING [2024-10-10T00:00:00] From 1 July to 17 November 2024, the final ERA5 product is different to ERA5T due to the correction of [the assimilation of incorrect snow observations on the Alps](https://confluence.ecmwf.int/x/USuXGw)\n",
      "2024-12-29 15:53:02,477 INFO Request ID is fdecfef6-d2c5-4905-b03b-5ec8bbe30675\n",
      "2024-12-29 15:53:02,627 INFO status has been updated to accepted\n",
      "2024-12-29 15:53:15,485 INFO status has been updated to running\n",
      "2024-12-29 16:19:33,603 INFO status has been updated to successful\n"
     ]
    },
    {
     "data": {
      "application/vnd.jupyter.widget-view+json": {
       "model_id": "894a86b235e74895a8170e26fddfccd7",
       "version_major": 2,
       "version_minor": 0
      },
      "text/plain": [
       "f3d2ae070e9f24ad2437aed01eb879b3.nc:   0%|          | 0.00/2.89G [00:00<?, ?B/s]"
      ]
     },
     "metadata": {},
     "output_type": "display_data"
    },
    {
     "name": "stderr",
     "output_type": "stream",
     "text": [
      "2024-12-29 16:25:07,473 WARNING [2024-10-10T00:00:00] From 1 July to 17 November 2024, the final ERA5 product is different to ERA5T due to the correction of [the assimilation of incorrect snow observations on the Alps](https://confluence.ecmwf.int/x/USuXGw)\n",
      "2024-12-29 16:25:07,474 INFO Request ID is 5b47f3bd-faff-4b1b-8556-d295c7119ec5\n",
      "2024-12-29 16:25:07,738 INFO status has been updated to accepted\n",
      "2024-12-29 16:25:15,464 INFO status has been updated to running\n",
      "2024-12-29 16:49:34,146 INFO status has been updated to successful\n"
     ]
    },
    {
     "data": {
      "application/vnd.jupyter.widget-view+json": {
       "model_id": "9df129202f8a46fda9680b1c71880676",
       "version_major": 2,
       "version_minor": 0
      },
      "text/plain": [
       "8a8ff5c4df4ce57027f732c260963e15.nc:   0%|          | 0.00/3.00G [00:00<?, ?B/s]"
      ]
     },
     "metadata": {},
     "output_type": "display_data"
    },
    {
     "name": "stderr",
     "output_type": "stream",
     "text": [
      "2024-12-29 16:55:06,346 WARNING [2024-10-10T00:00:00] From 1 July to 17 November 2024, the final ERA5 product is different to ERA5T due to the correction of [the assimilation of incorrect snow observations on the Alps](https://confluence.ecmwf.int/x/USuXGw)\n",
      "2024-12-29 16:55:06,346 INFO Request ID is 3cd29e66-10f5-47cc-8c51-037ba58f100f\n",
      "2024-12-29 16:55:06,507 INFO status has been updated to accepted\n",
      "2024-12-29 16:55:19,368 INFO status has been updated to running\n",
      "2024-12-29 17:21:31,091 INFO status has been updated to successful\n"
     ]
    },
    {
     "data": {
      "application/vnd.jupyter.widget-view+json": {
       "model_id": "524afa2bd34e4817a9640749ea38af0d",
       "version_major": 2,
       "version_minor": 0
      },
      "text/plain": [
       "84f056f5c2b49460a34fc982bc866bd4.nc:   0%|          | 0.00/2.93G [00:00<?, ?B/s]"
      ]
     },
     "metadata": {},
     "output_type": "display_data"
    },
    {
     "name": "stderr",
     "output_type": "stream",
     "text": [
      "2024-12-29 17:31:59,446 WARNING [2024-10-10T00:00:00] From 1 July to 17 November 2024, the final ERA5 product is different to ERA5T due to the correction of [the assimilation of incorrect snow observations on the Alps](https://confluence.ecmwf.int/x/USuXGw)\n",
      "2024-12-29 17:31:59,447 INFO Request ID is 4076bf80-fefc-460b-a05b-856ae5543d8a\n",
      "2024-12-29 17:31:59,598 INFO status has been updated to accepted\n",
      "2024-12-29 17:32:07,206 INFO status has been updated to running\n",
      "2024-12-29 18:06:38,332 INFO status has been updated to successful\n"
     ]
    },
    {
     "data": {
      "application/vnd.jupyter.widget-view+json": {
       "model_id": "2b880e2e3c534b0f818ebdebf4d70b14",
       "version_major": 2,
       "version_minor": 0
      },
      "text/plain": [
       "2f69ba691e6e0272f36b35a0658dac6c.nc:   0%|          | 0.00/2.99G [00:00<?, ?B/s]"
      ]
     },
     "metadata": {},
     "output_type": "display_data"
    },
    {
     "name": "stderr",
     "output_type": "stream",
     "text": [
      "2024-12-29 18:10:58,382 WARNING [2024-10-10T00:00:00] From 1 July to 17 November 2024, the final ERA5 product is different to ERA5T due to the correction of [the assimilation of incorrect snow observations on the Alps](https://confluence.ecmwf.int/x/USuXGw)\n",
      "2024-12-29 18:10:58,383 INFO Request ID is 21902091-2af2-44a1-b7c7-b403332464e2\n",
      "2024-12-29 18:10:58,649 INFO status has been updated to accepted\n",
      "2024-12-29 18:11:06,556 INFO status has been updated to running\n",
      "2024-12-29 18:11:11,835 INFO status has been updated to accepted\n",
      "2024-12-29 18:11:19,672 INFO status has been updated to running\n",
      "2024-12-29 18:43:26,560 INFO status has been updated to successful\n"
     ]
    },
    {
     "data": {
      "application/vnd.jupyter.widget-view+json": {
       "model_id": "a78593e264004ef3840195b1cad4b81d",
       "version_major": 2,
       "version_minor": 0
      },
      "text/plain": [
       "f14a6314653f6ed9d9a0212c6282970b.nc:   0%|          | 0.00/2.87G [00:00<?, ?B/s]"
      ]
     },
     "metadata": {},
     "output_type": "display_data"
    },
    {
     "name": "stderr",
     "output_type": "stream",
     "text": [
      "2024-12-29 18:47:41,847 WARNING [2024-10-10T00:00:00] From 1 July to 17 November 2024, the final ERA5 product is different to ERA5T due to the correction of [the assimilation of incorrect snow observations on the Alps](https://confluence.ecmwf.int/x/USuXGw)\n",
      "2024-12-29 18:47:41,848 INFO Request ID is 4fd62c18-5de8-4c2f-94f1-abcf0fe08064\n",
      "2024-12-29 18:47:42,081 INFO status has been updated to accepted\n",
      "2024-12-29 18:47:49,725 INFO status has been updated to running\n",
      "2024-12-29 19:16:13,211 INFO status has been updated to successful\n"
     ]
    },
    {
     "data": {
      "application/vnd.jupyter.widget-view+json": {
       "model_id": "93a1fa8bb5ab4ebfba694a7eaf901901",
       "version_major": 2,
       "version_minor": 0
      },
      "text/plain": [
       "dc8a17d4a54178422aac07267b403bbd.nc:   0%|          | 0.00/2.96G [00:00<?, ?B/s]"
      ]
     },
     "metadata": {},
     "output_type": "display_data"
    },
    {
     "name": "stderr",
     "output_type": "stream",
     "text": [
      "2024-12-29 19:39:36,260 WARNING [2024-10-10T00:00:00] From 1 July to 17 November 2024, the final ERA5 product is different to ERA5T due to the correction of [the assimilation of incorrect snow observations on the Alps](https://confluence.ecmwf.int/x/USuXGw)\n",
      "2024-12-29 19:39:36,261 INFO Request ID is 5e772039-942e-4861-98d9-d4f121f7a7d1\n",
      "2024-12-29 19:39:36,410 INFO status has been updated to accepted\n",
      "2024-12-29 19:39:43,967 INFO status has been updated to running\n",
      "2024-12-29 20:16:24,278 INFO status has been updated to successful\n"
     ]
    },
    {
     "data": {
      "application/vnd.jupyter.widget-view+json": {
       "model_id": "6193e764dd894136808fead4deacde2c",
       "version_major": 2,
       "version_minor": 0
      },
      "text/plain": [
       "d4c6ac2ed96d874acb037cffbbd480c7.nc:   0%|          | 0.00/2.97G [00:00<?, ?B/s]"
      ]
     },
     "metadata": {},
     "output_type": "display_data"
    },
    {
     "name": "stderr",
     "output_type": "stream",
     "text": [
      "2024-12-29 20:19:54,172 WARNING [2024-10-10T00:00:00] From 1 July to 17 November 2024, the final ERA5 product is different to ERA5T due to the correction of [the assimilation of incorrect snow observations on the Alps](https://confluence.ecmwf.int/x/USuXGw)\n",
      "2024-12-29 20:19:54,173 INFO Request ID is 86ee1eee-6281-4a4f-a5fe-dcea953af911\n",
      "2024-12-29 20:19:54,367 INFO status has been updated to accepted\n",
      "2024-12-29 20:20:02,126 INFO status has been updated to running\n",
      "2024-12-29 20:50:21,446 INFO status has been updated to successful\n"
     ]
    },
    {
     "data": {
      "application/vnd.jupyter.widget-view+json": {
       "model_id": "b95c30b7b7bc4117950f79bfdff374d8",
       "version_major": 2,
       "version_minor": 0
      },
      "text/plain": [
       "829b0704216c467c5bf4217f526b9ae9.nc:   0%|          | 0.00/2.86G [00:00<?, ?B/s]"
      ]
     },
     "metadata": {},
     "output_type": "display_data"
    },
    {
     "name": "stderr",
     "output_type": "stream",
     "text": [
      "2024-12-29 20:55:05,014 WARNING [2024-10-10T00:00:00] From 1 July to 17 November 2024, the final ERA5 product is different to ERA5T due to the correction of [the assimilation of incorrect snow observations on the Alps](https://confluence.ecmwf.int/x/USuXGw)\n",
      "2024-12-29 20:55:05,015 INFO Request ID is eb48d60f-f72d-4a77-9136-da1884adee18\n",
      "2024-12-29 20:55:05,233 INFO status has been updated to accepted\n",
      "2024-12-29 20:55:12,942 INFO status has been updated to running\n",
      "2024-12-29 21:29:39,264 INFO status has been updated to successful\n"
     ]
    },
    {
     "data": {
      "application/vnd.jupyter.widget-view+json": {
       "model_id": "a73f43b6288c43c1872fd222a965d9bc",
       "version_major": 2,
       "version_minor": 0
      },
      "text/plain": [
       "bbf968aadffb45d740f2c414427ef977.nc:   0%|          | 0.00/2.99G [00:00<?, ?B/s]"
      ]
     },
     "metadata": {},
     "output_type": "display_data"
    },
    {
     "name": "stderr",
     "output_type": "stream",
     "text": [
      "2024-12-29 21:32:46,122 WARNING [2024-10-10T00:00:00] From 1 July to 17 November 2024, the final ERA5 product is different to ERA5T due to the correction of [the assimilation of incorrect snow observations on the Alps](https://confluence.ecmwf.int/x/USuXGw)\n",
      "2024-12-29 21:32:46,123 INFO Request ID is c7185e8e-7903-4139-9fac-280e61781079\n",
      "2024-12-29 21:32:46,292 INFO status has been updated to accepted\n",
      "2024-12-29 21:33:18,564 INFO status has been updated to running\n",
      "2024-12-29 22:03:23,185 INFO status has been updated to successful\n"
     ]
    },
    {
     "data": {
      "application/vnd.jupyter.widget-view+json": {
       "model_id": "a7aece3bbf4e41439ecd45a3384ea8e0",
       "version_major": 2,
       "version_minor": 0
      },
      "text/plain": [
       "f221a7cc4f1368311013b3820dbbdcc0.nc:   0%|          | 0.00/2.91G [00:00<?, ?B/s]"
      ]
     },
     "metadata": {},
     "output_type": "display_data"
    },
    {
     "name": "stderr",
     "output_type": "stream",
     "text": [
      "2024-12-29 22:10:33,995 WARNING [2024-10-10T00:00:00] From 1 July to 17 November 2024, the final ERA5 product is different to ERA5T due to the correction of [the assimilation of incorrect snow observations on the Alps](https://confluence.ecmwf.int/x/USuXGw)\n",
      "2024-12-29 22:10:33,996 INFO Request ID is 3cb03dc7-07ec-4a4b-bbc8-39789eeac060\n",
      "2024-12-29 22:10:34,192 INFO status has been updated to accepted\n",
      "2024-12-29 22:11:24,215 INFO status has been updated to running\n",
      "2024-12-29 22:34:59,271 INFO status has been updated to successful\n"
     ]
    },
    {
     "data": {
      "application/vnd.jupyter.widget-view+json": {
       "model_id": "95e6a14103594093b3e00813235f86f9",
       "version_major": 2,
       "version_minor": 0
      },
      "text/plain": [
       "f51fa9dcff63254c93b98b89cc758ef.nc:   0%|          | 0.00/3.00G [00:00<?, ?B/s]"
      ]
     },
     "metadata": {},
     "output_type": "display_data"
    },
    {
     "name": "stderr",
     "output_type": "stream",
     "text": [
      "2024-12-29 22:38:16,144 WARNING [2024-10-10T00:00:00] From 1 July to 17 November 2024, the final ERA5 product is different to ERA5T due to the correction of [the assimilation of incorrect snow observations on the Alps](https://confluence.ecmwf.int/x/USuXGw)\n",
      "2024-12-29 22:38:16,145 INFO Request ID is ce15dcf3-5981-4acc-93e2-12cf9e5ce763\n",
      "2024-12-29 22:38:16,390 INFO status has been updated to accepted\n",
      "2024-12-29 22:38:24,085 INFO status has been updated to running\n",
      "2024-12-29 23:12:44,708 INFO status has been updated to successful\n"
     ]
    },
    {
     "data": {
      "application/vnd.jupyter.widget-view+json": {
       "model_id": "0ae7c49e8c69445384e9e06149d476fe",
       "version_major": 2,
       "version_minor": 0
      },
      "text/plain": [
       "4ce589e574c9de6b0e59d807fae8c692.nc:   0%|          | 0.00/3.01G [00:00<?, ?B/s]"
      ]
     },
     "metadata": {},
     "output_type": "display_data"
    },
    {
     "name": "stderr",
     "output_type": "stream",
     "text": [
      "2024-12-29 23:16:51,574 WARNING [2024-10-10T00:00:00] From 1 July to 17 November 2024, the final ERA5 product is different to ERA5T due to the correction of [the assimilation of incorrect snow observations on the Alps](https://confluence.ecmwf.int/x/USuXGw)\n",
      "2024-12-29 23:16:51,575 INFO Request ID is 6dc194a7-2a6b-4509-a337-9355501d760a\n",
      "2024-12-29 23:16:51,835 INFO status has been updated to accepted\n",
      "2024-12-29 23:18:46,396 INFO status has been updated to running\n",
      "2024-12-29 23:57:42,509 INFO status has been updated to successful\n"
     ]
    },
    {
     "data": {
      "application/vnd.jupyter.widget-view+json": {
       "model_id": "97b565333b76430a9f87c127af473ad7",
       "version_major": 2,
       "version_minor": 0
      },
      "text/plain": [
       "bbea6d61e53d7835fa33d9bc53bb566e.nc:   0%|          | 0.00/2.78G [00:00<?, ?B/s]"
      ]
     },
     "metadata": {},
     "output_type": "display_data"
    },
    {
     "name": "stderr",
     "output_type": "stream",
     "text": [
      "2024-12-30 00:01:52,257 WARNING [2024-10-10T00:00:00] From 1 July to 17 November 2024, the final ERA5 product is different to ERA5T due to the correction of [the assimilation of incorrect snow observations on the Alps](https://confluence.ecmwf.int/x/USuXGw)\n",
      "2024-12-30 00:01:52,258 INFO Request ID is c7dc4544-96b7-4d46-88bf-ea2f943a2e13\n",
      "2024-12-30 00:01:52,409 INFO status has been updated to accepted\n",
      "2024-12-30 00:02:05,325 INFO status has been updated to running\n",
      "2024-12-30 00:38:36,092 INFO status has been updated to successful\n"
     ]
    },
    {
     "data": {
      "application/vnd.jupyter.widget-view+json": {
       "model_id": "d8ec0def3f17480f84a075dce76426d7",
       "version_major": 2,
       "version_minor": 0
      },
      "text/plain": [
       "4cd5dda1bb865b3512154b6402b166ae.nc:   0%|          | 0.00/3.02G [00:00<?, ?B/s]"
      ]
     },
     "metadata": {},
     "output_type": "display_data"
    },
    {
     "name": "stderr",
     "output_type": "stream",
     "text": [
      "2024-12-30 00:46:06,770 WARNING [2024-10-10T00:00:00] From 1 July to 17 November 2024, the final ERA5 product is different to ERA5T due to the correction of [the assimilation of incorrect snow observations on the Alps](https://confluence.ecmwf.int/x/USuXGw)\n",
      "2024-12-30 00:46:06,771 INFO Request ID is 39eea323-bc7c-47ba-813a-eda5368d0007\n",
      "2024-12-30 00:46:07,001 INFO status has been updated to accepted\n",
      "2024-12-30 00:46:14,785 INFO status has been updated to running\n",
      "2024-12-30 01:10:34,160 INFO status has been updated to successful\n"
     ]
    },
    {
     "data": {
      "application/vnd.jupyter.widget-view+json": {
       "model_id": "39e08d06ae23429cb30b6f7dcf8477de",
       "version_major": 2,
       "version_minor": 0
      },
      "text/plain": [
       "9b4455a41e7602dbe4eda875a690ffc4.nc:   0%|          | 0.00/2.92G [00:00<?, ?B/s]"
      ]
     },
     "metadata": {},
     "output_type": "display_data"
    },
    {
     "name": "stderr",
     "output_type": "stream",
     "text": [
      "2024-12-30 01:26:36,909 WARNING [2024-10-10T00:00:00] From 1 July to 17 November 2024, the final ERA5 product is different to ERA5T due to the correction of [the assimilation of incorrect snow observations on the Alps](https://confluence.ecmwf.int/x/USuXGw)\n",
      "2024-12-30 01:26:36,909 INFO Request ID is caa171a3-37a3-467c-934b-d464215b08e5\n",
      "2024-12-30 01:26:37,069 INFO status has been updated to accepted\n",
      "2024-12-30 01:26:49,860 INFO status has been updated to running\n",
      "2024-12-30 02:05:23,341 INFO status has been updated to successful\n"
     ]
    },
    {
     "data": {
      "application/vnd.jupyter.widget-view+json": {
       "model_id": "f74935ff573b49219a023d2758f236c5",
       "version_major": 2,
       "version_minor": 0
      },
      "text/plain": [
       "1f8a95aa97b9968fd3e43b1876a53b46.nc:   0%|          | 0.00/2.97G [00:00<?, ?B/s]"
      ]
     },
     "metadata": {},
     "output_type": "display_data"
    },
    {
     "name": "stderr",
     "output_type": "stream",
     "text": [
      "2024-12-30 02:15:37,500 WARNING [2024-10-10T00:00:00] From 1 July to 17 November 2024, the final ERA5 product is different to ERA5T due to the correction of [the assimilation of incorrect snow observations on the Alps](https://confluence.ecmwf.int/x/USuXGw)\n",
      "2024-12-30 02:15:37,501 INFO Request ID is c1c29e07-8e80-4b46-8ecd-69975de6f5c7\n",
      "2024-12-30 02:15:37,795 INFO status has been updated to accepted\n",
      "2024-12-30 02:18:30,878 INFO status has been updated to running\n",
      "2024-12-30 02:56:18,830 INFO status has been updated to successful\n"
     ]
    },
    {
     "data": {
      "application/vnd.jupyter.widget-view+json": {
       "model_id": "7e4421cee20a4405b2c3a62a2a79f361",
       "version_major": 2,
       "version_minor": 0
      },
      "text/plain": [
       "e4a32cb15fe67397613ddba01cda1ff5.nc:   0%|          | 0.00/2.85G [00:00<?, ?B/s]"
      ]
     },
     "metadata": {},
     "output_type": "display_data"
    },
    {
     "name": "stderr",
     "output_type": "stream",
     "text": [
      "2024-12-30 03:01:39,862 WARNING [2024-10-10T00:00:00] From 1 July to 17 November 2024, the final ERA5 product is different to ERA5T due to the correction of [the assimilation of incorrect snow observations on the Alps](https://confluence.ecmwf.int/x/USuXGw)\n",
      "2024-12-30 03:01:39,863 INFO Request ID is 83911d8b-56f7-4058-8700-daad78c71cb6\n",
      "2024-12-30 03:01:40,007 INFO status has been updated to accepted\n",
      "2024-12-30 08:52:55,643 INFO status has been updated to running\n",
      "2024-12-30 09:23:03,920 INFO status has been updated to successful\n"
     ]
    },
    {
     "data": {
      "application/vnd.jupyter.widget-view+json": {
       "model_id": "e78fba7c0c06495ca33b1b607a28213e",
       "version_major": 2,
       "version_minor": 0
      },
      "text/plain": [
       "f8302ab4830c5e31919a9ea68ed8e662.nc:   0%|          | 0.00/2.97G [00:00<?, ?B/s]"
      ]
     },
     "metadata": {},
     "output_type": "display_data"
    },
    {
     "name": "stderr",
     "output_type": "stream",
     "text": [
      "2024-12-30 09:29:04,908 WARNING [2024-10-10T00:00:00] From 1 July to 17 November 2024, the final ERA5 product is different to ERA5T due to the correction of [the assimilation of incorrect snow observations on the Alps](https://confluence.ecmwf.int/x/USuXGw)\n",
      "2024-12-30 09:29:04,909 INFO Request ID is 7c9af5a7-8422-455b-bb9c-11a4eaca1477\n",
      "2024-12-30 09:29:05,083 INFO status has been updated to accepted\n",
      "2024-12-30 11:34:06,082 INFO status has been updated to running\n",
      "2024-12-30 12:30:21,503 INFO status has been updated to successful\n"
     ]
    },
    {
     "data": {
      "application/vnd.jupyter.widget-view+json": {
       "model_id": "7ffde027fc954620b1050061eff8bb0a",
       "version_major": 2,
       "version_minor": 0
      },
      "text/plain": [
       "e65feace2c754f57bdca9a700862a07c.nc:   0%|          | 0.00/2.98G [00:00<?, ?B/s]"
      ]
     },
     "metadata": {},
     "output_type": "display_data"
    },
    {
     "name": "stderr",
     "output_type": "stream",
     "text": [
      "2024-12-30 12:46:30,884 WARNING [2024-10-10T00:00:00] From 1 July to 17 November 2024, the final ERA5 product is different to ERA5T due to the correction of [the assimilation of incorrect snow observations on the Alps](https://confluence.ecmwf.int/x/USuXGw)\n",
      "2024-12-30 12:46:30,885 INFO Request ID is f7fecab0-aa4a-4a8b-b1d7-99db51464189\n",
      "2024-12-30 12:46:31,034 INFO status has been updated to accepted\n",
      "2024-12-30 13:59:22,324 INFO status has been updated to running\n",
      "2024-12-30 14:27:31,016 INFO status has been updated to successful\n"
     ]
    },
    {
     "data": {
      "application/vnd.jupyter.widget-view+json": {
       "model_id": "ccd622ca3a3544938ad4f9fc9551b980",
       "version_major": 2,
       "version_minor": 0
      },
      "text/plain": [
       "d791efd184224a0f7d9e0532a768a581.nc:   0%|          | 0.00/2.86G [00:00<?, ?B/s]"
      ]
     },
     "metadata": {},
     "output_type": "display_data"
    },
    {
     "name": "stderr",
     "output_type": "stream",
     "text": [
      "2024-12-30 14:39:23,069 WARNING [2024-10-10T00:00:00] From 1 July to 17 November 2024, the final ERA5 product is different to ERA5T due to the correction of [the assimilation of incorrect snow observations on the Alps](https://confluence.ecmwf.int/x/USuXGw)\n",
      "2024-12-30 14:39:23,070 INFO Request ID is 1fd59816-2247-4852-9b4f-5a2848f1208f\n",
      "2024-12-30 14:39:23,229 INFO status has been updated to accepted\n",
      "2024-12-30 15:20:03,129 INFO status has been updated to running\n",
      "2024-12-30 15:58:24,235 INFO status has been updated to successful\n"
     ]
    },
    {
     "data": {
      "application/vnd.jupyter.widget-view+json": {
       "model_id": "60a11b72edb4467da2894684eaaa6a3a",
       "version_major": 2,
       "version_minor": 0
      },
      "text/plain": [
       "381a8eba5bb1b4f389be36774e5da128.nc:   0%|          | 0.00/2.99G [00:00<?, ?B/s]"
      ]
     },
     "metadata": {},
     "output_type": "display_data"
    },
    {
     "name": "stderr",
     "output_type": "stream",
     "text": [
      "2024-12-30 16:04:02,327 WARNING [2024-10-10T00:00:00] From 1 July to 17 November 2024, the final ERA5 product is different to ERA5T due to the correction of [the assimilation of incorrect snow observations on the Alps](https://confluence.ecmwf.int/x/USuXGw)\n",
      "2024-12-30 16:04:02,328 INFO Request ID is 0782b3fd-94ae-4482-9dcb-72cc719645ad\n",
      "2024-12-30 16:04:02,610 INFO status has been updated to accepted\n",
      "2024-12-30 16:06:54,732 INFO status has been updated to running\n",
      "2024-12-30 16:34:33,270 INFO status has been updated to successful\n"
     ]
    },
    {
     "data": {
      "application/vnd.jupyter.widget-view+json": {
       "model_id": "9796e74721894e2cac3fda8c6b7ab775",
       "version_major": 2,
       "version_minor": 0
      },
      "text/plain": [
       "5b59c53e67388e97dd8d4fe374be93d1.nc:   0%|          | 0.00/2.91G [00:00<?, ?B/s]"
      ]
     },
     "metadata": {},
     "output_type": "display_data"
    },
    {
     "name": "stderr",
     "output_type": "stream",
     "text": [
      "2024-12-30 16:38:43,154 WARNING [2024-10-10T00:00:00] From 1 July to 17 November 2024, the final ERA5 product is different to ERA5T due to the correction of [the assimilation of incorrect snow observations on the Alps](https://confluence.ecmwf.int/x/USuXGw)\n",
      "2024-12-30 16:38:43,155 INFO Request ID is 6fd8d384-443c-4ce3-ab33-b3f04eaacb48\n",
      "2024-12-30 16:38:43,399 INFO status has been updated to accepted\n",
      "2024-12-30 16:49:04,897 INFO status has been updated to running\n",
      "2024-12-30 17:23:24,906 INFO status has been updated to successful\n"
     ]
    },
    {
     "data": {
      "application/vnd.jupyter.widget-view+json": {
       "model_id": "66993b7b61fa40d98fa016fee61e71e9",
       "version_major": 2,
       "version_minor": 0
      },
      "text/plain": [
       "3977e2f3776523c7f8525d926708e78f.nc:   0%|          | 0.00/3.01G [00:00<?, ?B/s]"
      ]
     },
     "metadata": {},
     "output_type": "display_data"
    }
   ],
   "source": [
    "\n",
    "\n",
    "for year in years:\n",
    "    for month in months:\n",
    "        out_fol = '/media/nmathewa/nma_backup/Datasets/Datasets/era5_plevels_maritime/'\n",
    "        out_file = out_fol + 'era5_plevels_' + year + month + 'maritime'+'.nc'\n",
    "        request[\"year\"] = [year]\n",
    "        request[\"month\"] = [month]\n",
    "        client.retrieve(dataset, request).download(out_file)\n"
   ]
  }
 ],
 "metadata": {
  "kernelspec": {
   "display_name": "Python 3 (ipykernel)",
   "language": "python",
   "name": "python3"
  },
  "language_info": {
   "codemirror_mode": {
    "name": "ipython",
    "version": 3
   },
   "file_extension": ".py",
   "mimetype": "text/x-python",
   "name": "python",
   "nbconvert_exporter": "python",
   "pygments_lexer": "ipython3",
   "version": "3.13.1"
  }
 },
 "nbformat": 4,
 "nbformat_minor": 2
}
